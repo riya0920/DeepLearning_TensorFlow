{
  "cells": [
    {
      "cell_type": "markdown",
      "metadata": {
        "id": "ucQ6hrgYQ9s3"
      },
      "source": [
        "# How to write neural networks for classification problem.\n",
        "A classification problem is where you try to classify something as one thing or another!\n",
        "Binary Classification\n",
        "Muliticlass Classification \n",
        "Multilabel Classification "
      ]
    },
    {
      "cell_type": "code",
      "execution_count": null,
      "metadata": {
        "colab": {
          "base_uri": "https://localhost:8080/"
        },
        "id": "DkP0jqL5Rg7Y",
        "outputId": "d61b886b-e06f-4154-a1bc-24f143c2bbd2"
      },
      "outputs": [
        {
          "output_type": "execute_result",
          "data": {
            "text/plain": [
              "(array([[ 0.75424625,  0.23148074],\n",
              "        [-0.75615888,  0.15325888],\n",
              "        [-0.81539193,  0.17328203],\n",
              "        [-0.39373073,  0.69288277],\n",
              "        [ 0.44220765, -0.89672343],\n",
              "        [-0.47964637,  0.67643477],\n",
              "        [-0.01364836,  0.80334872],\n",
              "        [ 0.77151327,  0.14775959],\n",
              "        [-0.16932234, -0.79345575],\n",
              "        [-0.1214858 ,  1.02150905]]), array([1, 1, 1, 1, 0, 1, 1, 1, 1, 0]))"
            ]
          },
          "metadata": {},
          "execution_count": 44
        }
      ],
      "source": [
        "from sklearn.datasets import make_circles\n",
        "\n",
        "n_samples = 1000 \n",
        "\n",
        "X,Y = make_circles(n_samples, noise = 0.03, random_state = 42)\n",
        "X[:10], Y[:10]"
      ]
    },
    {
      "cell_type": "code",
      "execution_count": null,
      "metadata": {
        "colab": {
          "base_uri": "https://localhost:8080/",
          "height": 424
        },
        "id": "CIkcPmXXR9pr",
        "outputId": "5e42a668-0e9c-4e08-9974-f7e104efd924"
      },
      "outputs": [
        {
          "output_type": "execute_result",
          "data": {
            "text/plain": [
              "           X0        X1  label\n",
              "0    0.754246  0.231481      1\n",
              "1   -0.756159  0.153259      1\n",
              "2   -0.815392  0.173282      1\n",
              "3   -0.393731  0.692883      1\n",
              "4    0.442208 -0.896723      0\n",
              "..        ...       ...    ...\n",
              "995  0.244054  0.944125      0\n",
              "996 -0.978655 -0.272373      0\n",
              "997 -0.136900 -0.810012      1\n",
              "998  0.670362 -0.767502      0\n",
              "999  0.281057  0.963824      0\n",
              "\n",
              "[1000 rows x 3 columns]"
            ],
            "text/html": [
              "\n",
              "  <div id=\"df-6dc6cc02-2b18-4ac8-a672-9d7bda889f44\">\n",
              "    <div class=\"colab-df-container\">\n",
              "      <div>\n",
              "<style scoped>\n",
              "    .dataframe tbody tr th:only-of-type {\n",
              "        vertical-align: middle;\n",
              "    }\n",
              "\n",
              "    .dataframe tbody tr th {\n",
              "        vertical-align: top;\n",
              "    }\n",
              "\n",
              "    .dataframe thead th {\n",
              "        text-align: right;\n",
              "    }\n",
              "</style>\n",
              "<table border=\"1\" class=\"dataframe\">\n",
              "  <thead>\n",
              "    <tr style=\"text-align: right;\">\n",
              "      <th></th>\n",
              "      <th>X0</th>\n",
              "      <th>X1</th>\n",
              "      <th>label</th>\n",
              "    </tr>\n",
              "  </thead>\n",
              "  <tbody>\n",
              "    <tr>\n",
              "      <th>0</th>\n",
              "      <td>0.754246</td>\n",
              "      <td>0.231481</td>\n",
              "      <td>1</td>\n",
              "    </tr>\n",
              "    <tr>\n",
              "      <th>1</th>\n",
              "      <td>-0.756159</td>\n",
              "      <td>0.153259</td>\n",
              "      <td>1</td>\n",
              "    </tr>\n",
              "    <tr>\n",
              "      <th>2</th>\n",
              "      <td>-0.815392</td>\n",
              "      <td>0.173282</td>\n",
              "      <td>1</td>\n",
              "    </tr>\n",
              "    <tr>\n",
              "      <th>3</th>\n",
              "      <td>-0.393731</td>\n",
              "      <td>0.692883</td>\n",
              "      <td>1</td>\n",
              "    </tr>\n",
              "    <tr>\n",
              "      <th>4</th>\n",
              "      <td>0.442208</td>\n",
              "      <td>-0.896723</td>\n",
              "      <td>0</td>\n",
              "    </tr>\n",
              "    <tr>\n",
              "      <th>...</th>\n",
              "      <td>...</td>\n",
              "      <td>...</td>\n",
              "      <td>...</td>\n",
              "    </tr>\n",
              "    <tr>\n",
              "      <th>995</th>\n",
              "      <td>0.244054</td>\n",
              "      <td>0.944125</td>\n",
              "      <td>0</td>\n",
              "    </tr>\n",
              "    <tr>\n",
              "      <th>996</th>\n",
              "      <td>-0.978655</td>\n",
              "      <td>-0.272373</td>\n",
              "      <td>0</td>\n",
              "    </tr>\n",
              "    <tr>\n",
              "      <th>997</th>\n",
              "      <td>-0.136900</td>\n",
              "      <td>-0.810012</td>\n",
              "      <td>1</td>\n",
              "    </tr>\n",
              "    <tr>\n",
              "      <th>998</th>\n",
              "      <td>0.670362</td>\n",
              "      <td>-0.767502</td>\n",
              "      <td>0</td>\n",
              "    </tr>\n",
              "    <tr>\n",
              "      <th>999</th>\n",
              "      <td>0.281057</td>\n",
              "      <td>0.963824</td>\n",
              "      <td>0</td>\n",
              "    </tr>\n",
              "  </tbody>\n",
              "</table>\n",
              "<p>1000 rows × 3 columns</p>\n",
              "</div>\n",
              "      <button class=\"colab-df-convert\" onclick=\"convertToInteractive('df-6dc6cc02-2b18-4ac8-a672-9d7bda889f44')\"\n",
              "              title=\"Convert this dataframe to an interactive table.\"\n",
              "              style=\"display:none;\">\n",
              "        \n",
              "  <svg xmlns=\"http://www.w3.org/2000/svg\" height=\"24px\"viewBox=\"0 0 24 24\"\n",
              "       width=\"24px\">\n",
              "    <path d=\"M0 0h24v24H0V0z\" fill=\"none\"/>\n",
              "    <path d=\"M18.56 5.44l.94 2.06.94-2.06 2.06-.94-2.06-.94-.94-2.06-.94 2.06-2.06.94zm-11 1L8.5 8.5l.94-2.06 2.06-.94-2.06-.94L8.5 2.5l-.94 2.06-2.06.94zm10 10l.94 2.06.94-2.06 2.06-.94-2.06-.94-.94-2.06-.94 2.06-2.06.94z\"/><path d=\"M17.41 7.96l-1.37-1.37c-.4-.4-.92-.59-1.43-.59-.52 0-1.04.2-1.43.59L10.3 9.45l-7.72 7.72c-.78.78-.78 2.05 0 2.83L4 21.41c.39.39.9.59 1.41.59.51 0 1.02-.2 1.41-.59l7.78-7.78 2.81-2.81c.8-.78.8-2.07 0-2.86zM5.41 20L4 18.59l7.72-7.72 1.47 1.35L5.41 20z\"/>\n",
              "  </svg>\n",
              "      </button>\n",
              "      \n",
              "  <style>\n",
              "    .colab-df-container {\n",
              "      display:flex;\n",
              "      flex-wrap:wrap;\n",
              "      gap: 12px;\n",
              "    }\n",
              "\n",
              "    .colab-df-convert {\n",
              "      background-color: #E8F0FE;\n",
              "      border: none;\n",
              "      border-radius: 50%;\n",
              "      cursor: pointer;\n",
              "      display: none;\n",
              "      fill: #1967D2;\n",
              "      height: 32px;\n",
              "      padding: 0 0 0 0;\n",
              "      width: 32px;\n",
              "    }\n",
              "\n",
              "    .colab-df-convert:hover {\n",
              "      background-color: #E2EBFA;\n",
              "      box-shadow: 0px 1px 2px rgba(60, 64, 67, 0.3), 0px 1px 3px 1px rgba(60, 64, 67, 0.15);\n",
              "      fill: #174EA6;\n",
              "    }\n",
              "\n",
              "    [theme=dark] .colab-df-convert {\n",
              "      background-color: #3B4455;\n",
              "      fill: #D2E3FC;\n",
              "    }\n",
              "\n",
              "    [theme=dark] .colab-df-convert:hover {\n",
              "      background-color: #434B5C;\n",
              "      box-shadow: 0px 1px 3px 1px rgba(0, 0, 0, 0.15);\n",
              "      filter: drop-shadow(0px 1px 2px rgba(0, 0, 0, 0.3));\n",
              "      fill: #FFFFFF;\n",
              "    }\n",
              "  </style>\n",
              "\n",
              "      <script>\n",
              "        const buttonEl =\n",
              "          document.querySelector('#df-6dc6cc02-2b18-4ac8-a672-9d7bda889f44 button.colab-df-convert');\n",
              "        buttonEl.style.display =\n",
              "          google.colab.kernel.accessAllowed ? 'block' : 'none';\n",
              "\n",
              "        async function convertToInteractive(key) {\n",
              "          const element = document.querySelector('#df-6dc6cc02-2b18-4ac8-a672-9d7bda889f44');\n",
              "          const dataTable =\n",
              "            await google.colab.kernel.invokeFunction('convertToInteractive',\n",
              "                                                     [key], {});\n",
              "          if (!dataTable) return;\n",
              "\n",
              "          const docLinkHtml = 'Like what you see? Visit the ' +\n",
              "            '<a target=\"_blank\" href=https://colab.research.google.com/notebooks/data_table.ipynb>data table notebook</a>'\n",
              "            + ' to learn more about interactive tables.';\n",
              "          element.innerHTML = '';\n",
              "          dataTable['output_type'] = 'display_data';\n",
              "          await google.colab.output.renderOutput(dataTable, element);\n",
              "          const docLink = document.createElement('div');\n",
              "          docLink.innerHTML = docLinkHtml;\n",
              "          element.appendChild(docLink);\n",
              "        }\n",
              "      </script>\n",
              "    </div>\n",
              "  </div>\n",
              "  "
            ]
          },
          "metadata": {},
          "execution_count": 45
        }
      ],
      "source": [
        "#Our data is a little hard to understand right now, let's visualize it!!\n",
        "import pandas as pd\n",
        "circles = pd.DataFrame({\"X0\": X[:,0], \"X1\":X[:,1],\"label\":Y})\n",
        "circles"
      ]
    },
    {
      "cell_type": "code",
      "execution_count": null,
      "metadata": {
        "colab": {
          "base_uri": "https://localhost:8080/",
          "height": 282
        },
        "id": "ooo79t1uS24O",
        "outputId": "f9981559-3594-41d5-b28e-f998e82c20b0"
      },
      "outputs": [
        {
          "output_type": "execute_result",
          "data": {
            "text/plain": [
              "<matplotlib.collections.PathCollection at 0x7fd13ca0e700>"
            ]
          },
          "metadata": {},
          "execution_count": 46
        },
        {
          "output_type": "display_data",
          "data": {
            "text/plain": [
              "<Figure size 432x288 with 1 Axes>"
            ],
            "image/png": "[encoded data removed]"
          },
          "metadata": {
            "needs_background": "light"
          }
        }
      ],
      "source": [
        "#Visualize with a plot \n",
        "import matplotlib.pyplot as plt\n",
        "plt.scatter(X[:,0], X[:,1], c=Y, cmap =plt.cm.RdYlBu)"
      ]
    },
    {
      "cell_type": "code",
      "execution_count": null,
      "metadata": {
        "colab": {
          "base_uri": "https://localhost:8080/"
        },
        "id": "PLu9OHHqTR1L",
        "outputId": "8fc1cff7-f633-40e0-c3cf-e04ebda0f9cb"
      },
      "outputs": [
        {
          "output_type": "stream",
          "name": "stdout",
          "text": [
            "2/2 [==============================] - 0s 11ms/step - loss: 7.7125 - accuracy: 0.5000\n"
          ]
        },
        {
          "output_type": "execute_result",
          "data": {
            "text/plain": [
              "[7.712474346160889, 0.5]"
            ]
          },
          "metadata": {},
          "execution_count": 52
        }
      ],
      "source": [
        "import tensorflow as tf\n",
        "\n",
        "tf.random.set_seed(42)\n",
        "model_1 = tf.keras.Sequential([\n",
        "    tf.keras.layers.Dense(100),\n",
        "    tf.keras.layers.Dense(100),\n",
        "    tf.keras.layers.Dense(1)\n",
        "])\n",
        "model_1.compile(optimizer='adam',\n",
        "                loss = tf.keras.losses.BinaryCrossentropy(),\n",
        "                metrics=['accuracy'])\n",
        "model_1.fit(X,Y, epochs=200,verbose = 0)\n",
        "model_1.evaluate(X,Y)"
      ]
    },
    {
      "cell_type": "code",
      "execution_count": null,
      "metadata": {
        "id": "FYp0RClZbLbg"
      },
      "outputs": [],
      "source": [
        " import numpy as np "
      ]
    },
    {
      "cell_type": "code",
      "execution_count": null,
      "metadata": {
        "id": "bdMn8ECaW5jp"
      },
      "outputs": [],
      "source": [
        "import numpy as np\n",
        "import matplotlib.pyplot as plt\n",
        "\n",
        "def plot_decision_boundary(model, X, y):\n",
        "  x_min, x_max = X[:, 0].min() - 0.1, X[:, 0].max() + 0.1\n",
        "  y_min, y_max = X[:, 1].min() - 0.1, X[:, 1].max() + 0.1\n",
        "  xx, yy = np.meshgrid(np.linspace(x_min, x_max, 100),\n",
        "                       np.linspace(y_min, y_max, 100))\n",
        "  x_in = np.c_[xx.ravel(), yy.ravel()] # stack 2D arrays together: https://numpy.org/devdocs/reference/generated/numpy.c_.html\n",
        "  y_pred = model.predict(x_in)\n",
        "\n",
        "  # Check for multi-class\n",
        "  if model.output_shape[-1] > 1: # checks the final dimension of the model's output shape, if this is > (greater than) 1, it's multi-class \n",
        "    print(\"doing multiclass classification...\")\n",
        "    # We have to reshape our predictions to get them ready for plotting\n",
        "    y_pred = np.argmax(y_pred, axis=1).reshape(xx.shape)\n",
        "  else:\n",
        "    print(\"doing binary classifcation...\")\n",
        "    y_pred = np.round(np.max(y_pred, axis=1)).reshape(xx.shape)\n",
        "  \n",
        "  # Plot decision boundary\n",
        "  plt.contourf(xx, yy, y_pred, cmap=plt.cm.RdYlBu, alpha=0.7)\n",
        "  plt.scatter(X[:, 0], X[:, 1], c=y, s=40, cmap=plt.cm.RdYlBu)\n",
        "  plt.xlim(xx.min(), xx.max())\n",
        "  plt.ylim(yy.min(), yy.max())"
      ]
    },
    {
      "cell_type": "code",
      "execution_count": null,
      "metadata": {
        "colab": {
          "base_uri": "https://localhost:8080/",
          "height": 165
        },
        "id": "AClAiRn5dG26",
        "outputId": "e4475531-b715-4a45-ab11-9efdb5d4641e"
      },
      "outputs": [
        {
          "output_type": "error",
          "ename": "NameError",
          "evalue": "ignored",
          "traceback": [
            "\u001b[0;31m---------------------------------------------------------------------------\u001b[0m",
            "\u001b[0;31mNameError\u001b[0m                                 Traceback (most recent call last)",
            "\u001b[0;32m<ipython-input-9-7c1a9fc82283>\u001b[0m in \u001b[0;36m<module>\u001b[0;34m\u001b[0m\n\u001b[0;32m----> 1\u001b[0;31m \u001b[0mplot_decision_boundary\u001b[0m\u001b[0;34m(\u001b[0m\u001b[0mmodel\u001b[0m\u001b[0;34m=\u001b[0m\u001b[0mmodel_1\u001b[0m\u001b[0;34m,\u001b[0m \u001b[0mX\u001b[0m\u001b[0;34m=\u001b[0m\u001b[0mX\u001b[0m\u001b[0;34m,\u001b[0m \u001b[0my\u001b[0m\u001b[0;34m=\u001b[0m\u001b[0mY\u001b[0m\u001b[0;34m)\u001b[0m\u001b[0;34m\u001b[0m\u001b[0;34m\u001b[0m\u001b[0m\n\u001b[0m",
            "\u001b[0;31mNameError\u001b[0m: name 'model_1' is not defined"
          ]
        }
      ],
      "source": [
        "plot_decision_boundary(model=model_1, X=X, y=Y)"
      ]
    },
    {
      "cell_type": "code",
      "execution_count": null,
      "metadata": {
        "colab": {
          "base_uri": "https://localhost:8080/",
          "height": 779
        },
        "id": "njeMIWxQe0W4",
        "outputId": "e70fa1a7-67da-47a0-968e-367045242285"
      },
      "outputs": [
        {
          "output_type": "error",
          "ename": "ValueError",
          "evalue": "ignored",
          "traceback": [
            "\u001b[0;31m---------------------------------------------------------------------------\u001b[0m",
            "\u001b[0;31mValueError\u001b[0m                                Traceback (most recent call last)",
            "\u001b[0;32m<ipython-input-51-9517346789d7>\u001b[0m in \u001b[0;36m<module>\u001b[0;34m\u001b[0m\n\u001b[1;32m     13\u001b[0m \u001b[0mY_reg_test\u001b[0m \u001b[0;34m=\u001b[0m \u001b[0mY_regression\u001b[0m\u001b[0;34m[\u001b[0m\u001b[0;36m150\u001b[0m\u001b[0;34m:\u001b[0m\u001b[0;34m]\u001b[0m\u001b[0;34m\u001b[0m\u001b[0;34m\u001b[0m\u001b[0m\n\u001b[1;32m     14\u001b[0m \u001b[0;34m\u001b[0m\u001b[0m\n\u001b[0;32m---> 15\u001b[0;31m \u001b[0mmodel_1\u001b[0m\u001b[0;34m.\u001b[0m\u001b[0mfit\u001b[0m\u001b[0;34m(\u001b[0m\u001b[0mtf\u001b[0m\u001b[0;34m.\u001b[0m\u001b[0mexpand_dims\u001b[0m\u001b[0;34m(\u001b[0m\u001b[0mX_reg_train\u001b[0m\u001b[0;34m,\u001b[0m\u001b[0maxis\u001b[0m \u001b[0;34m=\u001b[0m \u001b[0;34m-\u001b[0m\u001b[0;36m1\u001b[0m\u001b[0;34m)\u001b[0m\u001b[0;34m,\u001b[0m\u001b[0mY_reg_train\u001b[0m\u001b[0;34m,\u001b[0m\u001b[0mepochs\u001b[0m \u001b[0;34m=\u001b[0m \u001b[0;36m100\u001b[0m\u001b[0;34m,\u001b[0m\u001b[0mverbose\u001b[0m\u001b[0;34m=\u001b[0m\u001b[0;36m0\u001b[0m\u001b[0;34m)\u001b[0m\u001b[0;34m\u001b[0m\u001b[0;34m\u001b[0m\u001b[0m\n\u001b[0m",
            "\u001b[0;32m/usr/local/lib/python3.8/dist-packages/keras/utils/traceback_utils.py\u001b[0m in \u001b[0;36merror_handler\u001b[0;34m(*args, **kwargs)\u001b[0m\n\u001b[1;32m     68\u001b[0m             \u001b[0;31m# To get the full stack trace, call:\u001b[0m\u001b[0;34m\u001b[0m\u001b[0;34m\u001b[0m\u001b[0;34m\u001b[0m\u001b[0m\n\u001b[1;32m     69\u001b[0m             \u001b[0;31m# `tf.debugging.disable_traceback_filtering()`\u001b[0m\u001b[0;34m\u001b[0m\u001b[0;34m\u001b[0m\u001b[0;34m\u001b[0m\u001b[0m\n\u001b[0;32m---> 70\u001b[0;31m             \u001b[0;32mraise\u001b[0m \u001b[0me\u001b[0m\u001b[0;34m.\u001b[0m\u001b[0mwith_traceback\u001b[0m\u001b[0;34m(\u001b[0m\u001b[0mfiltered_tb\u001b[0m\u001b[0;34m)\u001b[0m \u001b[0;32mfrom\u001b[0m \u001b[0;32mNone\u001b[0m\u001b[0;34m\u001b[0m\u001b[0;34m\u001b[0m\u001b[0m\n\u001b[0m\u001b[1;32m     71\u001b[0m         \u001b[0;32mfinally\u001b[0m\u001b[0;34m:\u001b[0m\u001b[0;34m\u001b[0m\u001b[0;34m\u001b[0m\u001b[0m\n\u001b[1;32m     72\u001b[0m             \u001b[0;32mdel\u001b[0m \u001b[0mfiltered_tb\u001b[0m\u001b[0;34m\u001b[0m\u001b[0;34m\u001b[0m\u001b[0m\n",
            "\u001b[0;32m/usr/local/lib/python3.8/dist-packages/keras/engine/training.py\u001b[0m in \u001b[0;36mtf__train_function\u001b[0;34m(iterator)\u001b[0m\n\u001b[1;32m     13\u001b[0m                 \u001b[0;32mtry\u001b[0m\u001b[0;34m:\u001b[0m\u001b[0;34m\u001b[0m\u001b[0;34m\u001b[0m\u001b[0m\n\u001b[1;32m     14\u001b[0m                     \u001b[0mdo_return\u001b[0m \u001b[0;34m=\u001b[0m \u001b[0;32mTrue\u001b[0m\u001b[0;34m\u001b[0m\u001b[0;34m\u001b[0m\u001b[0m\n\u001b[0;32m---> 15\u001b[0;31m                     \u001b[0mretval_\u001b[0m \u001b[0;34m=\u001b[0m \u001b[0mag__\u001b[0m\u001b[0;34m.\u001b[0m\u001b[0mconverted_call\u001b[0m\u001b[0;34m(\u001b[0m\u001b[0mag__\u001b[0m\u001b[0;34m.\u001b[0m\u001b[0mld\u001b[0m\u001b[0;34m(\u001b[0m\u001b[0mstep_function\u001b[0m\u001b[0;34m)\u001b[0m\u001b[0;34m,\u001b[0m \u001b[0;34m(\u001b[0m\u001b[0mag__\u001b[0m\u001b[0;34m.\u001b[0m\u001b[0mld\u001b[0m\u001b[0;34m(\u001b[0m\u001b[0mself\u001b[0m\u001b[0;34m)\u001b[0m\u001b[0;34m,\u001b[0m \u001b[0mag__\u001b[0m\u001b[0;34m.\u001b[0m\u001b[0mld\u001b[0m\u001b[0;34m(\u001b[0m\u001b[0miterator\u001b[0m\u001b[0;34m)\u001b[0m\u001b[0;34m)\u001b[0m\u001b[0;34m,\u001b[0m \u001b[0;32mNone\u001b[0m\u001b[0;34m,\u001b[0m \u001b[0mfscope\u001b[0m\u001b[0;34m)\u001b[0m\u001b[0;34m\u001b[0m\u001b[0;34m\u001b[0m\u001b[0m\n\u001b[0m\u001b[1;32m     16\u001b[0m                 \u001b[0;32mexcept\u001b[0m\u001b[0;34m:\u001b[0m\u001b[0;34m\u001b[0m\u001b[0;34m\u001b[0m\u001b[0m\n\u001b[1;32m     17\u001b[0m                     \u001b[0mdo_return\u001b[0m \u001b[0;34m=\u001b[0m \u001b[0;32mFalse\u001b[0m\u001b[0;34m\u001b[0m\u001b[0;34m\u001b[0m\u001b[0m\n",
            "\u001b[0;31mValueError\u001b[0m: in user code:\n\n    File \"/usr/local/lib/python3.8/dist-packages/keras/engine/training.py\", line 1249, in train_function  *\n        return step_function(self, iterator)\n    File \"/usr/local/lib/python3.8/dist-packages/keras/engine/training.py\", line 1233, in step_function  **\n        outputs = model.distribute_strategy.run(run_step, args=(data,))\n    File \"/usr/local/lib/python3.8/dist-packages/keras/engine/training.py\", line 1222, in run_step  **\n        outputs = model.train_step(data)\n    File \"/usr/local/lib/python3.8/dist-packages/keras/engine/training.py\", line 1023, in train_step\n        y_pred = self(x, training=True)\n    File \"/usr/local/lib/python3.8/dist-packages/keras/utils/traceback_utils.py\", line 70, in error_handler\n        raise e.with_traceback(filtered_tb) from None\n    File \"/usr/local/lib/python3.8/dist-packages/keras/engine/input_spec.py\", line 277, in assert_input_compatibility\n        raise ValueError(\n\n    ValueError: Exception encountered when calling layer 'sequential_10' (type Sequential).\n    \n    Input 0 of layer \"dense_31\" is incompatible with the layer: expected axis -1 of input shape to have value 2, but received input with shape (None, 1)\n    \n    Call arguments received by layer 'sequential_10' (type Sequential):\n      • inputs=tf.Tensor(shape=(None, 1), dtype=int32)\n      • training=True\n      • mask=None\n"
          ]
        }
      ],
      "source": [
        "#Lets create a regression data!!\n",
        "\n",
        "tf.random.set_seed(42)\n",
        "X_regression = tf.range(0,1000,5)\n",
        "Y_regression = tf.range(100,1100,5)\n",
        "X_regression, Y_regression\n",
        "\n",
        "#Split the data into training and test sets \n",
        "X_reg_train = X_regression[:150]\n",
        "X_reg_test = X_regression[150:]\n",
        "\n",
        "Y_reg_train = Y_regression[:150]\n",
        "Y_reg_test = Y_regression[150:]\n",
        "\n",
        "model_1.fit(tf.expand_dims(X_reg_train,axis = -1),Y_reg_train,epochs = 100,verbose=0)"
      ]
    },
    {
      "cell_type": "code",
      "execution_count": null,
      "metadata": {
        "colab": {
          "base_uri": "https://localhost:8080/"
        },
        "id": "O5Q7ebYtfn-O",
        "outputId": "57aed41e-6680-4a0e-a402-eb5d675b45b3"
      },
      "outputs": [
        {
          "output_type": "stream",
          "name": "stdout",
          "text": [
            "Epoch 1/200\n",
            "5/5 [==============================] - 1s 6ms/step - loss: 240.4465 - mae: 240.4465\n",
            "Epoch 2/200\n",
            "5/5 [==============================] - 0s 4ms/step - loss: 90.6295 - mae: 90.6295\n",
            "Epoch 3/200\n",
            "5/5 [==============================] - 0s 5ms/step - loss: 93.3837 - mae: 93.3837\n",
            "Epoch 4/200\n",
            "5/5 [==============================] - 0s 5ms/step - loss: 58.9202 - mae: 58.9202\n",
            "Epoch 5/200\n",
            "5/5 [==============================] - 0s 5ms/step - loss: 47.5485 - mae: 47.5485\n",
            "Epoch 6/200\n",
            "5/5 [==============================] - 0s 4ms/step - loss: 56.1553 - mae: 56.1553\n",
            "Epoch 7/200\n",
            "5/5 [==============================] - 0s 4ms/step - loss: 44.2802 - mae: 44.2802\n",
            "Epoch 8/200\n",
            "5/5 [==============================] - 0s 4ms/step - loss: 42.1036 - mae: 42.1036\n",
            "Epoch 9/200\n",
            "5/5 [==============================] - 0s 5ms/step - loss: 42.6294 - mae: 42.6294\n",
            "Epoch 10/200\n",
            "5/5 [==============================] - 0s 4ms/step - loss: 42.3924 - mae: 42.3924\n",
            "Epoch 11/200\n",
            "5/5 [==============================] - 0s 4ms/step - loss: 42.7474 - mae: 42.7474\n",
            "Epoch 12/200\n",
            "5/5 [==============================] - 0s 4ms/step - loss: 42.2102 - mae: 42.2102\n",
            "Epoch 13/200\n",
            "5/5 [==============================] - 0s 4ms/step - loss: 41.9070 - mae: 41.9070\n",
            "Epoch 14/200\n",
            "5/5 [==============================] - 0s 5ms/step - loss: 41.4558 - mae: 41.4558\n",
            "Epoch 15/200\n",
            "5/5 [==============================] - 0s 4ms/step - loss: 42.5728 - mae: 42.5728\n",
            "Epoch 16/200\n",
            "5/5 [==============================] - 0s 4ms/step - loss: 42.0320 - mae: 42.0320\n",
            "Epoch 17/200\n",
            "5/5 [==============================] - 0s 4ms/step - loss: 42.5194 - mae: 42.5194\n",
            "Epoch 18/200\n",
            "5/5 [==============================] - 0s 6ms/step - loss: 42.2825 - mae: 42.2825\n",
            "Epoch 19/200\n",
            "5/5 [==============================] - 0s 4ms/step - loss: 42.3000 - mae: 42.3000\n",
            "Epoch 20/200\n",
            "5/5 [==============================] - 0s 4ms/step - loss: 41.8204 - mae: 41.8204\n",
            "Epoch 21/200\n",
            "5/5 [==============================] - 0s 4ms/step - loss: 41.3377 - mae: 41.3377\n",
            "Epoch 22/200\n",
            "5/5 [==============================] - 0s 5ms/step - loss: 41.3253 - mae: 41.3253\n",
            "Epoch 23/200\n",
            "5/5 [==============================] - 0s 4ms/step - loss: 41.1947 - mae: 41.1947\n",
            "Epoch 24/200\n",
            "5/5 [==============================] - 0s 4ms/step - loss: 41.0353 - mae: 41.0353\n",
            "Epoch 25/200\n",
            "5/5 [==============================] - 0s 5ms/step - loss: 41.1989 - mae: 41.1989\n",
            "Epoch 26/200\n",
            "5/5 [==============================] - 0s 4ms/step - loss: 41.2178 - mae: 41.2178\n",
            "Epoch 27/200\n",
            "5/5 [==============================] - 0s 4ms/step - loss: 41.2034 - mae: 41.2034\n",
            "Epoch 28/200\n",
            "5/5 [==============================] - 0s 4ms/step - loss: 41.6864 - mae: 41.6864\n",
            "Epoch 29/200\n",
            "5/5 [==============================] - 0s 5ms/step - loss: 41.3893 - mae: 41.3893\n",
            "Epoch 30/200\n",
            "5/5 [==============================] - 0s 5ms/step - loss: 42.1830 - mae: 42.1830\n",
            "Epoch 31/200\n",
            "5/5 [==============================] - 0s 5ms/step - loss: 40.5328 - mae: 40.5328\n",
            "Epoch 32/200\n",
            "5/5 [==============================] - 0s 4ms/step - loss: 40.7740 - mae: 40.7740\n",
            "Epoch 33/200\n",
            "5/5 [==============================] - 0s 4ms/step - loss: 40.4429 - mae: 40.4429\n",
            "Epoch 34/200\n",
            "5/5 [==============================] - 0s 5ms/step - loss: 40.6934 - mae: 40.6934\n",
            "Epoch 35/200\n",
            "5/5 [==============================] - 0s 4ms/step - loss: 40.4537 - mae: 40.4537\n",
            "Epoch 36/200\n",
            "5/5 [==============================] - 0s 5ms/step - loss: 41.3394 - mae: 41.3394\n",
            "Epoch 37/200\n",
            "5/5 [==============================] - 0s 6ms/step - loss: 40.7329 - mae: 40.7329\n",
            "Epoch 38/200\n",
            "5/5 [==============================] - 0s 5ms/step - loss: 40.1691 - mae: 40.1691\n",
            "Epoch 39/200\n",
            "5/5 [==============================] - 0s 4ms/step - loss: 40.6495 - mae: 40.6495\n",
            "Epoch 40/200\n",
            "5/5 [==============================] - 0s 5ms/step - loss: 40.6396 - mae: 40.6396\n",
            "Epoch 41/200\n",
            "5/5 [==============================] - 0s 6ms/step - loss: 40.5440 - mae: 40.5440\n",
            "Epoch 42/200\n",
            "5/5 [==============================] - 0s 5ms/step - loss: 40.8786 - mae: 40.8786\n",
            "Epoch 43/200\n",
            "5/5 [==============================] - 0s 4ms/step - loss: 42.7829 - mae: 42.7829\n",
            "Epoch 44/200\n",
            "5/5 [==============================] - 0s 4ms/step - loss: 42.4736 - mae: 42.4736\n",
            "Epoch 45/200\n",
            "5/5 [==============================] - 0s 5ms/step - loss: 42.1058 - mae: 42.1058\n",
            "Epoch 46/200\n",
            "5/5 [==============================] - 0s 4ms/step - loss: 40.5148 - mae: 40.5148\n",
            "Epoch 47/200\n",
            "5/5 [==============================] - 0s 4ms/step - loss: 41.0505 - mae: 41.0505\n",
            "Epoch 48/200\n",
            "5/5 [==============================] - 0s 4ms/step - loss: 41.7563 - mae: 41.7563\n",
            "Epoch 49/200\n",
            "5/5 [==============================] - 0s 4ms/step - loss: 39.7423 - mae: 39.7423\n",
            "Epoch 50/200\n",
            "5/5 [==============================] - 0s 5ms/step - loss: 41.6923 - mae: 41.6923\n",
            "Epoch 51/200\n",
            "5/5 [==============================] - 0s 5ms/step - loss: 40.9070 - mae: 40.9070\n",
            "Epoch 52/200\n",
            "5/5 [==============================] - 0s 4ms/step - loss: 41.9072 - mae: 41.9072\n",
            "Epoch 53/200\n",
            "5/5 [==============================] - 0s 4ms/step - loss: 40.7623 - mae: 40.7623\n",
            "Epoch 54/200\n",
            "5/5 [==============================] - 0s 4ms/step - loss: 39.7849 - mae: 39.7849\n",
            "Epoch 55/200\n",
            "5/5 [==============================] - 0s 4ms/step - loss: 39.8044 - mae: 39.8044\n",
            "Epoch 56/200\n",
            "5/5 [==============================] - 0s 5ms/step - loss: 40.0018 - mae: 40.0018\n",
            "Epoch 57/200\n",
            "5/5 [==============================] - 0s 4ms/step - loss: 43.2816 - mae: 43.2816\n",
            "Epoch 58/200\n",
            "5/5 [==============================] - 0s 5ms/step - loss: 41.0001 - mae: 41.0001\n",
            "Epoch 59/200\n",
            "5/5 [==============================] - 0s 5ms/step - loss: 39.9235 - mae: 39.9235\n",
            "Epoch 60/200\n",
            "5/5 [==============================] - 0s 5ms/step - loss: 39.9671 - mae: 39.9671\n",
            "Epoch 61/200\n",
            "5/5 [==============================] - 0s 4ms/step - loss: 38.8627 - mae: 38.8627\n",
            "Epoch 62/200\n",
            "5/5 [==============================] - 0s 4ms/step - loss: 40.3501 - mae: 40.3501\n",
            "Epoch 63/200\n",
            "5/5 [==============================] - 0s 5ms/step - loss: 40.0617 - mae: 40.0617\n",
            "Epoch 64/200\n",
            "5/5 [==============================] - 0s 4ms/step - loss: 40.6452 - mae: 40.6452\n",
            "Epoch 65/200\n",
            "5/5 [==============================] - 0s 4ms/step - loss: 39.2856 - mae: 39.2856\n",
            "Epoch 66/200\n",
            "5/5 [==============================] - 0s 5ms/step - loss: 42.4618 - mae: 42.4618\n",
            "Epoch 67/200\n",
            "5/5 [==============================] - 0s 4ms/step - loss: 40.7933 - mae: 40.7933\n",
            "Epoch 68/200\n",
            "5/5 [==============================] - 0s 4ms/step - loss: 39.8364 - mae: 39.8364\n",
            "Epoch 69/200\n",
            "5/5 [==============================] - 0s 5ms/step - loss: 40.2281 - mae: 40.2281\n",
            "Epoch 70/200\n",
            "5/5 [==============================] - 0s 4ms/step - loss: 41.2755 - mae: 41.2755\n",
            "Epoch 71/200\n",
            "5/5 [==============================] - 0s 4ms/step - loss: 41.2345 - mae: 41.2345\n",
            "Epoch 72/200\n",
            "5/5 [==============================] - 0s 4ms/step - loss: 38.9668 - mae: 38.9668\n",
            "Epoch 73/200\n",
            "5/5 [==============================] - 0s 4ms/step - loss: 39.0386 - mae: 39.0386\n",
            "Epoch 74/200\n",
            "5/5 [==============================] - 0s 4ms/step - loss: 38.9250 - mae: 38.9250\n",
            "Epoch 75/200\n",
            "5/5 [==============================] - 0s 4ms/step - loss: 38.4777 - mae: 38.4777\n",
            "Epoch 76/200\n",
            "5/5 [==============================] - 0s 4ms/step - loss: 38.2496 - mae: 38.2496\n",
            "Epoch 77/200\n",
            "5/5 [==============================] - 0s 5ms/step - loss: 40.0989 - mae: 40.0989\n",
            "Epoch 78/200\n",
            "5/5 [==============================] - 0s 4ms/step - loss: 39.6459 - mae: 39.6459\n",
            "Epoch 79/200\n",
            "5/5 [==============================] - 0s 4ms/step - loss: 39.3983 - mae: 39.3983\n",
            "Epoch 80/200\n",
            "5/5 [==============================] - 0s 6ms/step - loss: 39.3067 - mae: 39.3067\n",
            "Epoch 81/200\n",
            "5/5 [==============================] - 0s 4ms/step - loss: 39.6561 - mae: 39.6561\n",
            "Epoch 82/200\n",
            "5/5 [==============================] - 0s 4ms/step - loss: 43.1761 - mae: 43.1761\n",
            "Epoch 83/200\n",
            "5/5 [==============================] - 0s 4ms/step - loss: 38.2942 - mae: 38.2942\n",
            "Epoch 84/200\n",
            "5/5 [==============================] - 0s 5ms/step - loss: 40.8803 - mae: 40.8803\n",
            "Epoch 85/200\n",
            "5/5 [==============================] - 0s 6ms/step - loss: 40.0073 - mae: 40.0073\n",
            "Epoch 86/200\n",
            "5/5 [==============================] - 0s 4ms/step - loss: 37.6090 - mae: 37.6090\n",
            "Epoch 87/200\n",
            "5/5 [==============================] - 0s 4ms/step - loss: 39.7444 - mae: 39.7444\n",
            "Epoch 88/200\n",
            "5/5 [==============================] - 0s 4ms/step - loss: 38.8461 - mae: 38.8461\n",
            "Epoch 89/200\n",
            "5/5 [==============================] - 0s 7ms/step - loss: 37.4409 - mae: 37.4409\n",
            "Epoch 90/200\n",
            "5/5 [==============================] - 0s 5ms/step - loss: 37.2580 - mae: 37.2580\n",
            "Epoch 91/200\n",
            "5/5 [==============================] - 0s 5ms/step - loss: 36.9242 - mae: 36.9242\n",
            "Epoch 92/200\n",
            "5/5 [==============================] - 0s 5ms/step - loss: 37.1895 - mae: 37.1895\n",
            "Epoch 93/200\n",
            "5/5 [==============================] - 0s 4ms/step - loss: 36.8545 - mae: 36.8545\n",
            "Epoch 94/200\n",
            "5/5 [==============================] - 0s 4ms/step - loss: 40.1826 - mae: 40.1826\n",
            "Epoch 95/200\n",
            "5/5 [==============================] - 0s 5ms/step - loss: 37.6339 - mae: 37.6339\n",
            "Epoch 96/200\n",
            "5/5 [==============================] - 0s 4ms/step - loss: 36.5005 - mae: 36.5005\n",
            "Epoch 97/200\n",
            "5/5 [==============================] - 0s 4ms/step - loss: 37.8715 - mae: 37.8715\n",
            "Epoch 98/200\n",
            "5/5 [==============================] - 0s 4ms/step - loss: 36.2541 - mae: 36.2541\n",
            "Epoch 99/200\n",
            "5/5 [==============================] - 0s 4ms/step - loss: 38.1245 - mae: 38.1245\n",
            "Epoch 100/200\n",
            "5/5 [==============================] - 0s 4ms/step - loss: 38.7939 - mae: 38.7939\n",
            "Epoch 101/200\n",
            "5/5 [==============================] - 0s 7ms/step - loss: 35.2874 - mae: 35.2874\n",
            "Epoch 102/200\n",
            "5/5 [==============================] - 0s 4ms/step - loss: 36.0927 - mae: 36.0927\n",
            "Epoch 103/200\n",
            "5/5 [==============================] - 0s 4ms/step - loss: 35.6278 - mae: 35.6278\n",
            "Epoch 104/200\n",
            "5/5 [==============================] - 0s 4ms/step - loss: 35.7883 - mae: 35.7883\n",
            "Epoch 105/200\n",
            "5/5 [==============================] - 0s 5ms/step - loss: 35.9213 - mae: 35.9213\n",
            "Epoch 106/200\n",
            "5/5 [==============================] - 0s 4ms/step - loss: 37.2734 - mae: 37.2734\n",
            "Epoch 107/200\n",
            "5/5 [==============================] - 0s 5ms/step - loss: 36.7346 - mae: 36.7346\n",
            "Epoch 108/200\n",
            "5/5 [==============================] - 0s 5ms/step - loss: 39.6492 - mae: 39.6492\n",
            "Epoch 109/200\n",
            "5/5 [==============================] - 0s 4ms/step - loss: 40.2951 - mae: 40.2951\n",
            "Epoch 110/200\n",
            "5/5 [==============================] - 0s 5ms/step - loss: 36.9254 - mae: 36.9254\n",
            "Epoch 111/200\n",
            "5/5 [==============================] - 0s 4ms/step - loss: 36.3550 - mae: 36.3550\n",
            "Epoch 112/200\n",
            "5/5 [==============================] - 0s 4ms/step - loss: 34.9370 - mae: 34.9370\n",
            "Epoch 113/200\n",
            "5/5 [==============================] - 0s 4ms/step - loss: 35.8002 - mae: 35.8002\n",
            "Epoch 114/200\n",
            "5/5 [==============================] - 0s 5ms/step - loss: 35.9655 - mae: 35.9655\n",
            "Epoch 115/200\n",
            "5/5 [==============================] - 0s 4ms/step - loss: 34.8439 - mae: 34.8439\n",
            "Epoch 116/200\n",
            "5/5 [==============================] - 0s 4ms/step - loss: 34.9789 - mae: 34.9789\n",
            "Epoch 117/200\n",
            "5/5 [==============================] - 0s 5ms/step - loss: 33.7877 - mae: 33.7877\n",
            "Epoch 118/200\n",
            "5/5 [==============================] - 0s 4ms/step - loss: 34.9884 - mae: 34.9884\n",
            "Epoch 119/200\n",
            "5/5 [==============================] - 0s 4ms/step - loss: 34.5315 - mae: 34.5315\n",
            "Epoch 120/200\n",
            "5/5 [==============================] - 0s 4ms/step - loss: 34.2357 - mae: 34.2357\n",
            "Epoch 121/200\n",
            "5/5 [==============================] - 0s 4ms/step - loss: 33.5724 - mae: 33.5724\n",
            "Epoch 122/200\n",
            "5/5 [==============================] - 0s 4ms/step - loss: 33.9923 - mae: 33.9923\n",
            "Epoch 123/200\n",
            "5/5 [==============================] - 0s 5ms/step - loss: 34.8263 - mae: 34.8263\n",
            "Epoch 124/200\n",
            "5/5 [==============================] - 0s 5ms/step - loss: 32.8040 - mae: 32.8040\n",
            "Epoch 125/200\n",
            "5/5 [==============================] - 0s 5ms/step - loss: 32.6846 - mae: 32.6846\n",
            "Epoch 126/200\n",
            "5/5 [==============================] - 0s 5ms/step - loss: 31.7803 - mae: 31.7803\n",
            "Epoch 127/200\n",
            "5/5 [==============================] - 0s 5ms/step - loss: 31.3934 - mae: 31.3934\n",
            "Epoch 128/200\n",
            "5/5 [==============================] - 0s 4ms/step - loss: 30.9147 - mae: 30.9147\n",
            "Epoch 129/200\n",
            "5/5 [==============================] - 0s 6ms/step - loss: 32.4325 - mae: 32.4325\n",
            "Epoch 130/200\n",
            "5/5 [==============================] - 0s 5ms/step - loss: 31.9833 - mae: 31.9833\n",
            "Epoch 131/200\n",
            "5/5 [==============================] - 0s 5ms/step - loss: 31.4822 - mae: 31.4822\n",
            "Epoch 132/200\n",
            "5/5 [==============================] - 0s 5ms/step - loss: 30.1091 - mae: 30.1091\n",
            "Epoch 133/200\n",
            "5/5 [==============================] - 0s 4ms/step - loss: 29.8670 - mae: 29.8670\n",
            "Epoch 134/200\n",
            "5/5 [==============================] - 0s 5ms/step - loss: 30.5773 - mae: 30.5773\n",
            "Epoch 135/200\n",
            "5/5 [==============================] - 0s 4ms/step - loss: 29.0252 - mae: 29.0252\n",
            "Epoch 136/200\n",
            "5/5 [==============================] - 0s 6ms/step - loss: 29.5517 - mae: 29.5517\n",
            "Epoch 137/200\n",
            "5/5 [==============================] - 0s 4ms/step - loss: 29.8888 - mae: 29.8888\n",
            "Epoch 138/200\n",
            "5/5 [==============================] - 0s 4ms/step - loss: 28.8059 - mae: 28.8059\n",
            "Epoch 139/200\n",
            "5/5 [==============================] - 0s 4ms/step - loss: 28.1837 - mae: 28.1837\n",
            "Epoch 140/200\n",
            "5/5 [==============================] - 0s 4ms/step - loss: 27.9060 - mae: 27.9060\n",
            "Epoch 141/200\n",
            "5/5 [==============================] - 0s 4ms/step - loss: 27.8417 - mae: 27.8417\n",
            "Epoch 142/200\n",
            "5/5 [==============================] - 0s 4ms/step - loss: 29.5567 - mae: 29.5567\n",
            "Epoch 143/200\n",
            "5/5 [==============================] - 0s 4ms/step - loss: 27.6480 - mae: 27.6480\n",
            "Epoch 144/200\n",
            "5/5 [==============================] - 0s 5ms/step - loss: 30.1263 - mae: 30.1263\n",
            "Epoch 145/200\n",
            "5/5 [==============================] - 0s 5ms/step - loss: 33.3428 - mae: 33.3428\n",
            "Epoch 146/200\n",
            "5/5 [==============================] - 0s 5ms/step - loss: 30.9391 - mae: 30.9391\n",
            "Epoch 147/200\n",
            "5/5 [==============================] - 0s 4ms/step - loss: 27.6545 - mae: 27.6545\n",
            "Epoch 148/200\n",
            "5/5 [==============================] - 0s 4ms/step - loss: 28.4351 - mae: 28.4351\n",
            "Epoch 149/200\n",
            "5/5 [==============================] - 0s 4ms/step - loss: 29.1260 - mae: 29.1260\n",
            "Epoch 150/200\n",
            "5/5 [==============================] - 0s 5ms/step - loss: 24.4869 - mae: 24.4869\n",
            "Epoch 151/200\n",
            "5/5 [==============================] - 0s 5ms/step - loss: 26.5617 - mae: 26.5617\n",
            "Epoch 152/200\n",
            "5/5 [==============================] - 0s 5ms/step - loss: 28.9722 - mae: 28.9722\n",
            "Epoch 153/200\n",
            "5/5 [==============================] - 0s 5ms/step - loss: 30.2656 - mae: 30.2656\n",
            "Epoch 154/200\n",
            "5/5 [==============================] - 0s 4ms/step - loss: 24.5601 - mae: 24.5601\n",
            "Epoch 155/200\n",
            "5/5 [==============================] - 0s 4ms/step - loss: 25.0853 - mae: 25.0853\n",
            "Epoch 156/200\n",
            "5/5 [==============================] - 0s 4ms/step - loss: 26.7342 - mae: 26.7342\n",
            "Epoch 157/200\n",
            "5/5 [==============================] - 0s 5ms/step - loss: 22.0963 - mae: 22.0963\n",
            "Epoch 158/200\n",
            "5/5 [==============================] - 0s 6ms/step - loss: 21.0916 - mae: 21.0916\n",
            "Epoch 159/200\n",
            "5/5 [==============================] - 0s 5ms/step - loss: 21.3088 - mae: 21.3088\n",
            "Epoch 160/200\n",
            "5/5 [==============================] - 0s 5ms/step - loss: 22.1098 - mae: 22.1098\n",
            "Epoch 161/200\n",
            "5/5 [==============================] - 0s 5ms/step - loss: 22.2251 - mae: 22.2251\n",
            "Epoch 162/200\n",
            "5/5 [==============================] - 0s 5ms/step - loss: 25.1252 - mae: 25.1252\n",
            "Epoch 163/200\n",
            "5/5 [==============================] - 0s 5ms/step - loss: 23.8066 - mae: 23.8066\n",
            "Epoch 164/200\n",
            "5/5 [==============================] - 0s 5ms/step - loss: 20.8841 - mae: 20.8841\n",
            "Epoch 165/200\n",
            "5/5 [==============================] - 0s 5ms/step - loss: 22.9280 - mae: 22.9280\n",
            "Epoch 166/200\n",
            "5/5 [==============================] - 0s 5ms/step - loss: 19.8860 - mae: 19.8860\n",
            "Epoch 167/200\n",
            "5/5 [==============================] - 0s 4ms/step - loss: 17.4128 - mae: 17.4128\n",
            "Epoch 168/200\n",
            "5/5 [==============================] - 0s 5ms/step - loss: 15.7698 - mae: 15.7698\n",
            "Epoch 169/200\n",
            "5/5 [==============================] - 0s 4ms/step - loss: 15.8876 - mae: 15.8876\n",
            "Epoch 170/200\n",
            "5/5 [==============================] - 0s 5ms/step - loss: 15.0116 - mae: 15.0116\n",
            "Epoch 171/200\n",
            "5/5 [==============================] - 0s 4ms/step - loss: 14.0920 - mae: 14.0920\n",
            "Epoch 172/200\n",
            "5/5 [==============================] - 0s 5ms/step - loss: 14.7076 - mae: 14.7076\n",
            "Epoch 173/200\n",
            "5/5 [==============================] - 0s 4ms/step - loss: 17.8844 - mae: 17.8844\n",
            "Epoch 174/200\n",
            "5/5 [==============================] - 0s 4ms/step - loss: 17.0980 - mae: 17.0980\n",
            "Epoch 175/200\n",
            "5/5 [==============================] - 0s 6ms/step - loss: 16.4113 - mae: 16.4113\n",
            "Epoch 176/200\n",
            "5/5 [==============================] - 0s 4ms/step - loss: 13.4231 - mae: 13.4231\n",
            "Epoch 177/200\n",
            "5/5 [==============================] - 0s 6ms/step - loss: 13.9419 - mae: 13.9419\n",
            "Epoch 178/200\n",
            "5/5 [==============================] - 0s 5ms/step - loss: 18.1180 - mae: 18.1180\n",
            "Epoch 179/200\n",
            "5/5 [==============================] - 0s 5ms/step - loss: 21.3642 - mae: 21.3642\n",
            "Epoch 180/200\n",
            "5/5 [==============================] - 0s 5ms/step - loss: 21.6727 - mae: 21.6727\n",
            "Epoch 181/200\n",
            "5/5 [==============================] - 0s 5ms/step - loss: 10.8521 - mae: 10.8521\n",
            "Epoch 182/200\n",
            "5/5 [==============================] - 0s 6ms/step - loss: 10.2205 - mae: 10.2205\n",
            "Epoch 183/200\n",
            "5/5 [==============================] - 0s 5ms/step - loss: 10.1064 - mae: 10.1064\n",
            "Epoch 184/200\n",
            "5/5 [==============================] - 0s 5ms/step - loss: 8.4687 - mae: 8.4687\n",
            "Epoch 185/200\n",
            "5/5 [==============================] - 0s 5ms/step - loss: 8.6024 - mae: 8.6024\n",
            "Epoch 186/200\n",
            "5/5 [==============================] - 0s 5ms/step - loss: 12.6289 - mae: 12.6289\n",
            "Epoch 187/200\n",
            "5/5 [==============================] - 0s 5ms/step - loss: 10.1440 - mae: 10.1440\n",
            "Epoch 188/200\n",
            "5/5 [==============================] - 0s 4ms/step - loss: 12.7660 - mae: 12.7660\n",
            "Epoch 189/200\n",
            "5/5 [==============================] - 0s 5ms/step - loss: 11.5525 - mae: 11.5525\n",
            "Epoch 190/200\n",
            "5/5 [==============================] - 0s 5ms/step - loss: 26.2803 - mae: 26.2803\n",
            "Epoch 191/200\n",
            "5/5 [==============================] - 0s 5ms/step - loss: 25.6621 - mae: 25.6621\n",
            "Epoch 192/200\n",
            "5/5 [==============================] - 0s 5ms/step - loss: 50.0032 - mae: 50.0032\n",
            "Epoch 193/200\n",
            "5/5 [==============================] - 0s 5ms/step - loss: 66.6640 - mae: 66.6640\n",
            "Epoch 194/200\n",
            "5/5 [==============================] - 0s 6ms/step - loss: 23.7933 - mae: 23.7933\n",
            "Epoch 195/200\n",
            "5/5 [==============================] - 0s 6ms/step - loss: 24.8828 - mae: 24.8828\n",
            "Epoch 196/200\n",
            "5/5 [==============================] - 0s 4ms/step - loss: 31.6915 - mae: 31.6915\n",
            "Epoch 197/200\n",
            "5/5 [==============================] - 0s 5ms/step - loss: 18.9422 - mae: 18.9422\n",
            "Epoch 198/200\n",
            "5/5 [==============================] - 0s 5ms/step - loss: 11.5801 - mae: 11.5801\n",
            "Epoch 199/200\n",
            "5/5 [==============================] - 0s 7ms/step - loss: 16.2211 - mae: 16.2211\n",
            "Epoch 200/200\n",
            "5/5 [==============================] - 0s 4ms/step - loss: 22.0660 - mae: 22.0660\n"
          ]
        },
        {
          "output_type": "execute_result",
          "data": {
            "text/plain": [
              "<keras.callbacks.History at 0x7fd13c76b640>"
            ]
          },
          "metadata": {},
          "execution_count": 52
        }
      ],
      "source": [
        "tf.random.set_seed(42)\n",
        "model_1 = tf.keras.Sequential([\n",
        "    tf.keras.layers.Dense(100),\n",
        "    tf.keras.layers.Dense(100),\n",
        "    tf.keras.layers.Dense(1)\n",
        "])\n",
        "model_1.compile(loss = tf.keras.losses.mae,\n",
        "                optimizer=tf.keras.optimizers.Adam(),\n",
        "                metrics=[\"mae\"])\n",
        "model_1.fit(tf.expand_dims(X_reg_train,axis=-1),Y_reg_train, epochs=200)\n",
        "# model_1.evaluate(tf.expand_dims(X_reg_train,axis=-1),Y_reg_train)"
      ]
    },
    {
      "cell_type": "code",
      "execution_count": null,
      "metadata": {
        "colab": {
          "base_uri": "https://localhost:8080/",
          "height": 463
        },
        "id": "yqwXSK-fg2JI",
        "outputId": "d5de8de2-3d4c-4316-a189-f2d61b7e3ebf"
      },
      "outputs": [
        {
          "output_type": "stream",
          "name": "stdout",
          "text": [
            "2/2 [==============================] - 0s 6ms/step\n"
          ]
        },
        {
          "output_type": "execute_result",
          "data": {
            "text/plain": [
              "<matplotlib.legend.Legend at 0x7fd13c5dd820>"
            ]
          },
          "metadata": {},
          "execution_count": 53
        },
        {
          "output_type": "display_data",
          "data": {
            "text/plain": [
              "<Figure size 720x504 with 1 Axes>"
            ],
            "image/png": "[encoded data removed]"
          },
          "metadata": {
            "needs_background": "light"
          }
        }
      ],
      "source": [
        "#Make Predictions!!\n",
        "Y_reg_pred = model_1.predict(X_reg_test)\n",
        "plt.figure(figsize=(10,7))\n",
        "plt.scatter(X_reg_train, Y_reg_train, c=\"b\", label=\"Training data\")\n",
        "plt.scatter(X_reg_test, Y_reg_test, c=\"g\", label=\"Testing data\")\n",
        "plt.scatter(X_reg_test, Y_reg_pred, c=\"r\", label=\"Predictions\")\n",
        "plt.legend()"
      ]
    },
    {
      "cell_type": "code",
      "execution_count": null,
      "metadata": {
        "id": "ab7UKfzphRpD",
        "colab": {
          "base_uri": "https://localhost:8080/"
        },
        "outputId": "08d98740-1e93-4fce-bbb7-dc3e4f4950d7"
      },
      "outputs": [
        {
          "output_type": "stream",
          "name": "stdout",
          "text": [
            "32/32 [==============================] - 0s 2ms/step - loss: 4.0772e-04 - accuracy: 1.0000\n"
          ]
        },
        {
          "output_type": "execute_result",
          "data": {
            "text/plain": [
              "[0.0004077182966284454, 1.0]"
            ]
          },
          "metadata": {},
          "execution_count": 54
        }
      ],
      "source": [
        "#Building a non-linear model \n",
        "\n",
        "tf.random.set_seed(42)\n",
        "model_4 = tf.keras.Sequential([\n",
        "    tf.keras.layers.Dense(100,activation = \"relu\"),\n",
        "    tf.keras.layers.Dense(100,activation = \"relu\"),\n",
        "    tf.keras.layers.Dense(100,activation = \"relu\"),\n",
        "    tf.keras.layers.Dense(1,activation = \"sigmoid\"),\n",
        "])\n",
        "\n",
        "model_4.compile(optimizer='adam',\n",
        "                loss = tf.keras.losses.BinaryCrossentropy(),\n",
        "                metrics=['accuracy'])\n",
        "history = model_4.fit(X,Y,epochs = 200, verbose = 0)\n",
        "model_4.evaluate(X,Y)\n"
      ]
    },
    {
      "cell_type": "code",
      "execution_count": null,
      "metadata": {
        "id": "i-jXg1njka77",
        "colab": {
          "base_uri": "https://localhost:8080/",
          "height": 300
        },
        "outputId": "488de7bc-6547-4825-f519-495c2f3f5ded"
      },
      "outputs": [
        {
          "output_type": "stream",
          "name": "stdout",
          "text": [
            "313/313 [==============================] - 1s 2ms/step\n",
            "doing binary classifcation...\n"
          ]
        },
        {
          "output_type": "display_data",
          "data": {
            "text/plain": [
              "<Figure size 432x288 with 1 Axes>"
            ],
            "image/png": "[encoded data removed]"
          },
          "metadata": {
            "needs_background": "light"
          }
        }
      ],
      "source": [
        "plot_decision_boundary(model = model_4, X = X, y = Y)"
      ]
    },
    {
      "cell_type": "code",
      "execution_count": null,
      "metadata": {
        "id": "2tk3Ejcak1zK",
        "colab": {
          "base_uri": "https://localhost:8080/"
        },
        "outputId": "cea7cb05-3d66-407c-92af-1cf86dfcc152"
      },
      "outputs": [
        {
          "output_type": "stream",
          "name": "stdout",
          "text": [
            "Epoch 1/100\n",
            "25/25 [==============================] - 2s 2ms/step - loss: 0.6915 - accuracy: 0.5050 - lr: 1.0000e-04\n",
            "Epoch 2/100\n",
            "25/25 [==============================] - 0s 2ms/step - loss: 0.6915 - accuracy: 0.4963 - lr: 1.1220e-04\n",
            "Epoch 3/100\n",
            "25/25 [==============================] - 0s 2ms/step - loss: 0.6914 - accuracy: 0.5000 - lr: 1.2589e-04\n",
            "Epoch 4/100\n",
            "25/25 [==============================] - 0s 3ms/step - loss: 0.6914 - accuracy: 0.4988 - lr: 1.4125e-04\n",
            "Epoch 5/100\n",
            "25/25 [==============================] - 0s 3ms/step - loss: 0.6913 - accuracy: 0.4975 - lr: 1.5849e-04\n",
            "Epoch 6/100\n",
            "25/25 [==============================] - 0s 2ms/step - loss: 0.6913 - accuracy: 0.4963 - lr: 1.7783e-04\n",
            "Epoch 7/100\n",
            "25/25 [==============================] - 0s 3ms/step - loss: 0.6912 - accuracy: 0.5000 - lr: 1.9953e-04\n",
            "Epoch 8/100\n",
            "25/25 [==============================] - 0s 3ms/step - loss: 0.6911 - accuracy: 0.5000 - lr: 2.2387e-04\n",
            "Epoch 9/100\n",
            "25/25 [==============================] - 0s 3ms/step - loss: 0.6910 - accuracy: 0.4975 - lr: 2.5119e-04\n",
            "Epoch 10/100\n",
            "25/25 [==============================] - 0s 2ms/step - loss: 0.6909 - accuracy: 0.4975 - lr: 2.8184e-04\n",
            "Epoch 11/100\n",
            "25/25 [==============================] - 0s 3ms/step - loss: 0.6908 - accuracy: 0.4975 - lr: 3.1623e-04\n",
            "Epoch 12/100\n",
            "25/25 [==============================] - 0s 3ms/step - loss: 0.6907 - accuracy: 0.4988 - lr: 3.5481e-04\n",
            "Epoch 13/100\n",
            "25/25 [==============================] - 0s 2ms/step - loss: 0.6906 - accuracy: 0.5025 - lr: 3.9811e-04\n",
            "Epoch 14/100\n",
            "25/25 [==============================] - 0s 3ms/step - loss: 0.6904 - accuracy: 0.5038 - lr: 4.4668e-04\n",
            "Epoch 15/100\n",
            "25/25 [==============================] - 0s 2ms/step - loss: 0.6903 - accuracy: 0.5050 - lr: 5.0119e-04\n",
            "Epoch 16/100\n",
            "25/25 [==============================] - 0s 3ms/step - loss: 0.6901 - accuracy: 0.5063 - lr: 5.6234e-04\n",
            "Epoch 17/100\n",
            "25/25 [==============================] - 0s 2ms/step - loss: 0.6898 - accuracy: 0.5100 - lr: 6.3096e-04\n",
            "Epoch 18/100\n",
            "25/25 [==============================] - 0s 2ms/step - loss: 0.6896 - accuracy: 0.5113 - lr: 7.0795e-04\n",
            "Epoch 19/100\n",
            "25/25 [==============================] - 0s 2ms/step - loss: 0.6893 - accuracy: 0.5163 - lr: 7.9433e-04\n",
            "Epoch 20/100\n",
            "25/25 [==============================] - 0s 3ms/step - loss: 0.6890 - accuracy: 0.5213 - lr: 8.9125e-04\n",
            "Epoch 21/100\n",
            "25/25 [==============================] - 0s 2ms/step - loss: 0.6885 - accuracy: 0.5275 - lr: 0.0010\n",
            "Epoch 22/100\n",
            "25/25 [==============================] - 0s 2ms/step - loss: 0.6881 - accuracy: 0.5713 - lr: 0.0011\n",
            "Epoch 23/100\n",
            "25/25 [==============================] - 0s 2ms/step - loss: 0.6875 - accuracy: 0.5650 - lr: 0.0013\n",
            "Epoch 24/100\n",
            "25/25 [==============================] - 0s 2ms/step - loss: 0.6869 - accuracy: 0.5375 - lr: 0.0014\n",
            "Epoch 25/100\n",
            "25/25 [==============================] - 0s 5ms/step - loss: 0.6861 - accuracy: 0.5263 - lr: 0.0016\n",
            "Epoch 26/100\n",
            "25/25 [==============================] - 0s 3ms/step - loss: 0.6850 - accuracy: 0.5263 - lr: 0.0018\n",
            "Epoch 27/100\n",
            "25/25 [==============================] - 0s 3ms/step - loss: 0.6839 - accuracy: 0.5200 - lr: 0.0020\n",
            "Epoch 28/100\n",
            "25/25 [==============================] - 0s 2ms/step - loss: 0.6826 - accuracy: 0.5225 - lr: 0.0022\n",
            "Epoch 29/100\n",
            "25/25 [==============================] - 0s 3ms/step - loss: 0.6809 - accuracy: 0.5238 - lr: 0.0025\n",
            "Epoch 30/100\n",
            "25/25 [==============================] - 0s 3ms/step - loss: 0.6789 - accuracy: 0.5213 - lr: 0.0028\n",
            "Epoch 31/100\n",
            "25/25 [==============================] - 0s 2ms/step - loss: 0.6763 - accuracy: 0.5275 - lr: 0.0032\n",
            "Epoch 32/100\n",
            "25/25 [==============================] - 0s 2ms/step - loss: 0.6726 - accuracy: 0.5325 - lr: 0.0035\n",
            "Epoch 33/100\n",
            "25/25 [==============================] - 0s 3ms/step - loss: 0.6682 - accuracy: 0.5663 - lr: 0.0040\n",
            "Epoch 34/100\n",
            "25/25 [==============================] - 0s 2ms/step - loss: 0.6628 - accuracy: 0.5900 - lr: 0.0045\n",
            "Epoch 35/100\n",
            "25/25 [==============================] - 0s 3ms/step - loss: 0.6522 - accuracy: 0.7812 - lr: 0.0050\n",
            "Epoch 36/100\n",
            "25/25 [==============================] - 0s 2ms/step - loss: 0.6279 - accuracy: 0.7500 - lr: 0.0056\n",
            "Epoch 37/100\n",
            "25/25 [==============================] - 0s 2ms/step - loss: 0.5870 - accuracy: 0.7937 - lr: 0.0063\n",
            "Epoch 38/100\n",
            "25/25 [==============================] - 0s 3ms/step - loss: 0.5268 - accuracy: 0.8950 - lr: 0.0071\n",
            "Epoch 39/100\n",
            "25/25 [==============================] - 0s 3ms/step - loss: 0.4414 - accuracy: 0.9488 - lr: 0.0079\n",
            "Epoch 40/100\n",
            "25/25 [==============================] - 0s 3ms/step - loss: 0.3493 - accuracy: 0.9563 - lr: 0.0089\n",
            "Epoch 41/100\n",
            "25/25 [==============================] - 0s 3ms/step - loss: 0.2547 - accuracy: 0.9862 - lr: 0.0100\n",
            "Epoch 42/100\n",
            "25/25 [==============================] - 0s 3ms/step - loss: 0.1839 - accuracy: 0.9787 - lr: 0.0112\n",
            "Epoch 43/100\n",
            "25/25 [==============================] - 0s 2ms/step - loss: 0.1216 - accuracy: 0.9937 - lr: 0.0126\n",
            "Epoch 44/100\n",
            "25/25 [==============================] - 0s 3ms/step - loss: 0.0916 - accuracy: 0.9950 - lr: 0.0141\n",
            "Epoch 45/100\n",
            "25/25 [==============================] - 0s 3ms/step - loss: 0.0714 - accuracy: 0.9975 - lr: 0.0158\n",
            "Epoch 46/100\n",
            "25/25 [==============================] - 0s 2ms/step - loss: 0.0540 - accuracy: 0.9975 - lr: 0.0178\n",
            "Epoch 47/100\n",
            "25/25 [==============================] - 0s 2ms/step - loss: 0.0491 - accuracy: 0.9962 - lr: 0.0200\n",
            "Epoch 48/100\n",
            "25/25 [==============================] - 0s 2ms/step - loss: 0.0392 - accuracy: 0.9987 - lr: 0.0224\n",
            "Epoch 49/100\n",
            "25/25 [==============================] - 0s 3ms/step - loss: 0.0460 - accuracy: 0.9925 - lr: 0.0251\n",
            "Epoch 50/100\n",
            "25/25 [==============================] - 0s 2ms/step - loss: 0.0458 - accuracy: 0.9825 - lr: 0.0282\n",
            "Epoch 51/100\n",
            "25/25 [==============================] - 0s 2ms/step - loss: 0.0566 - accuracy: 0.9800 - lr: 0.0316\n",
            "Epoch 52/100\n",
            "25/25 [==============================] - 0s 2ms/step - loss: 0.0430 - accuracy: 0.9887 - lr: 0.0355\n",
            "Epoch 53/100\n",
            "25/25 [==============================] - 0s 3ms/step - loss: 0.0780 - accuracy: 0.9700 - lr: 0.0398\n",
            "Epoch 54/100\n",
            "25/25 [==============================] - 0s 3ms/step - loss: 0.0613 - accuracy: 0.9787 - lr: 0.0447\n",
            "Epoch 55/100\n",
            "25/25 [==============================] - 0s 3ms/step - loss: 0.0405 - accuracy: 0.9887 - lr: 0.0501\n",
            "Epoch 56/100\n",
            "25/25 [==============================] - 0s 2ms/step - loss: 0.0444 - accuracy: 0.9825 - lr: 0.0562\n",
            "Epoch 57/100\n",
            "25/25 [==============================] - 0s 3ms/step - loss: 0.0446 - accuracy: 0.9837 - lr: 0.0631\n",
            "Epoch 58/100\n",
            "25/25 [==============================] - 0s 3ms/step - loss: 0.0398 - accuracy: 0.9850 - lr: 0.0708\n",
            "Epoch 59/100\n",
            "25/25 [==============================] - 0s 3ms/step - loss: 0.0628 - accuracy: 0.9800 - lr: 0.0794\n",
            "Epoch 60/100\n",
            "25/25 [==============================] - 0s 3ms/step - loss: 0.0458 - accuracy: 0.9825 - lr: 0.0891\n",
            "Epoch 61/100\n",
            "25/25 [==============================] - 0s 4ms/step - loss: 0.0255 - accuracy: 0.9887 - lr: 0.1000\n",
            "Epoch 62/100\n",
            "25/25 [==============================] - 0s 4ms/step - loss: 0.6400 - accuracy: 0.8500 - lr: 0.1122\n",
            "Epoch 63/100\n",
            "25/25 [==============================] - 0s 6ms/step - loss: 0.4728 - accuracy: 0.7812 - lr: 0.1259\n",
            "Epoch 64/100\n",
            "25/25 [==============================] - 0s 8ms/step - loss: 0.2100 - accuracy: 0.9137 - lr: 0.1413\n",
            "Epoch 65/100\n",
            "25/25 [==============================] - 0s 5ms/step - loss: 0.1770 - accuracy: 0.9250 - lr: 0.1585\n",
            "Epoch 66/100\n",
            "25/25 [==============================] - 0s 4ms/step - loss: 0.2422 - accuracy: 0.8988 - lr: 0.1778\n",
            "Epoch 67/100\n",
            "25/25 [==============================] - 0s 8ms/step - loss: 0.1559 - accuracy: 0.9350 - lr: 0.1995\n",
            "Epoch 68/100\n",
            "25/25 [==============================] - 0s 4ms/step - loss: 0.0525 - accuracy: 0.9825 - lr: 0.2239\n",
            "Epoch 69/100\n",
            "25/25 [==============================] - 0s 5ms/step - loss: 0.0367 - accuracy: 0.9837 - lr: 0.2512\n",
            "Epoch 70/100\n",
            "25/25 [==============================] - 0s 4ms/step - loss: 0.1173 - accuracy: 0.9588 - lr: 0.2818\n",
            "Epoch 71/100\n",
            "25/25 [==============================] - 0s 9ms/step - loss: 0.2574 - accuracy: 0.9225 - lr: 0.3162\n",
            "Epoch 72/100\n",
            "25/25 [==============================] - 0s 5ms/step - loss: 0.3220 - accuracy: 0.8750 - lr: 0.3548\n",
            "Epoch 73/100\n",
            "25/25 [==============================] - 0s 4ms/step - loss: 0.1566 - accuracy: 0.9450 - lr: 0.3981\n",
            "Epoch 74/100\n",
            "25/25 [==============================] - 0s 6ms/step - loss: 0.6209 - accuracy: 0.7875 - lr: 0.4467\n",
            "Epoch 75/100\n",
            "25/25 [==============================] - 0s 10ms/step - loss: 0.5968 - accuracy: 0.6825 - lr: 0.5012\n",
            "Epoch 76/100\n",
            "25/25 [==============================] - 0s 10ms/step - loss: 0.5796 - accuracy: 0.6900 - lr: 0.5623\n",
            "Epoch 77/100\n",
            "25/25 [==============================] - 0s 10ms/step - loss: 0.6649 - accuracy: 0.6300 - lr: 0.6310\n",
            "Epoch 78/100\n",
            "25/25 [==============================] - 0s 6ms/step - loss: 0.6125 - accuracy: 0.6637 - lr: 0.7079\n",
            "Epoch 79/100\n",
            "25/25 [==============================] - 0s 6ms/step - loss: 0.6649 - accuracy: 0.5788 - lr: 0.7943\n",
            "Epoch 80/100\n",
            "25/25 [==============================] - 0s 9ms/step - loss: 0.6698 - accuracy: 0.5875 - lr: 0.8913\n",
            "Epoch 81/100\n",
            "25/25 [==============================] - 0s 7ms/step - loss: 0.7517 - accuracy: 0.5113 - lr: 1.0000\n",
            "Epoch 82/100\n",
            "25/25 [==============================] - 0s 5ms/step - loss: 0.7275 - accuracy: 0.4700 - lr: 1.1220\n",
            "Epoch 83/100\n",
            "25/25 [==============================] - 0s 10ms/step - loss: 0.7048 - accuracy: 0.4825 - lr: 1.2589\n",
            "Epoch 84/100\n",
            "25/25 [==============================] - 0s 10ms/step - loss: 0.7056 - accuracy: 0.5075 - lr: 1.4125\n",
            "Epoch 85/100\n",
            "25/25 [==============================] - 0s 11ms/step - loss: 0.7291 - accuracy: 0.5200 - lr: 1.5849\n",
            "Epoch 86/100\n",
            "25/25 [==============================] - 0s 8ms/step - loss: 0.7409 - accuracy: 0.4800 - lr: 1.7783\n",
            "Epoch 87/100\n",
            "25/25 [==============================] - 0s 8ms/step - loss: 0.7170 - accuracy: 0.4975 - lr: 1.9953\n",
            "Epoch 88/100\n",
            "25/25 [==============================] - 0s 10ms/step - loss: 0.7073 - accuracy: 0.5075 - lr: 2.2387\n",
            "Epoch 89/100\n",
            "25/25 [==============================] - 0s 11ms/step - loss: 0.7170 - accuracy: 0.5050 - lr: 2.5119\n",
            "Epoch 90/100\n",
            "25/25 [==============================] - 0s 9ms/step - loss: 0.7227 - accuracy: 0.5175 - lr: 2.8184\n",
            "Epoch 91/100\n",
            "25/25 [==============================] - 0s 9ms/step - loss: 0.7236 - accuracy: 0.5050 - lr: 3.1623\n",
            "Epoch 92/100\n",
            "25/25 [==============================] - 0s 12ms/step - loss: 0.7656 - accuracy: 0.4725 - lr: 3.5481\n",
            "Epoch 93/100\n",
            "25/25 [==============================] - 0s 9ms/step - loss: 0.7717 - accuracy: 0.4675 - lr: 3.9811\n",
            "Epoch 94/100\n",
            "25/25 [==============================] - 0s 9ms/step - loss: 0.7780 - accuracy: 0.5150 - lr: 4.4668\n",
            "Epoch 95/100\n",
            "25/25 [==============================] - 0s 5ms/step - loss: 0.7657 - accuracy: 0.4925 - lr: 5.0119\n",
            "Epoch 96/100\n",
            "25/25 [==============================] - 0s 12ms/step - loss: 0.8669 - accuracy: 0.5075 - lr: 5.6234\n",
            "Epoch 97/100\n",
            "25/25 [==============================] - 0s 11ms/step - loss: 0.8064 - accuracy: 0.4750 - lr: 6.3096\n",
            "Epoch 98/100\n",
            "25/25 [==============================] - 0s 10ms/step - loss: 0.8417 - accuracy: 0.5000 - lr: 7.0795\n",
            "Epoch 99/100\n",
            "25/25 [==============================] - 0s 9ms/step - loss: 0.8974 - accuracy: 0.5250 - lr: 7.9433\n",
            "Epoch 100/100\n",
            "25/25 [==============================] - 0s 13ms/step - loss: 0.8075 - accuracy: 0.5125 - lr: 8.9125\n"
          ]
        }
      ],
      "source": [
        "from sklearn.model_selection import train_test_split\n",
        "\n",
        "X_train,X_test,Y_train,Y_test = train_test_split(X,Y,test_size=0.20,random_state=42)\n",
        "\n",
        "model_5 = tf.keras.Sequential([\n",
        "    tf.keras.layers.Dense(4, activation = \"relu\"),\n",
        "    tf.keras.layers.Dense(4, activation = \"relu\"),\n",
        "    tf.keras.layers.Dense(1, activation = \"sigmoid\")\n",
        "])\n",
        "\n",
        "model_5.compile(optimizer='adam',\n",
        "                loss = tf.keras.losses.BinaryCrossentropy(),\n",
        "                metrics=['accuracy'])\n",
        "\n",
        "lr_scheduler = tf.keras.callbacks.LearningRateScheduler(lambda epoch: 1e-4 * 10**(epoch/20))\n",
        "\n",
        "history = model_5.fit(X_train, Y_train, epochs = 100,callbacks = [lr_scheduler])\n"
      ]
    },
    {
      "cell_type": "code",
      "source": [
        "pd.DataFrame(history.history).plot(figsize=(10,7), xlabel=\"epochs\");"
      ],
      "metadata": {
        "colab": {
          "base_uri": "https://localhost:8080/",
          "height": 442
        },
        "id": "-kvAM2s1aFDF",
        "outputId": "4398ad06-febd-4eb8-ba87-17ced82d06ba"
      },
      "execution_count": null,
      "outputs": [
        {
          "output_type": "display_data",
          "data": {
            "text/plain": [
              "<Figure size 720x504 with 1 Axes>"
            ],
            "image/png": "[encoded data removed]"
          },
          "metadata": {
            "needs_background": "light"
          }
        }
      ]
    },
    {
      "cell_type": "code",
      "source": [
        "lrs =  1e-4 * (10**(np.arange(100)/20))\n",
        "plt.figure(figsize=(10,7))\n",
        "plt.semilogx(lrs, history.history[\"loss\"])\n",
        "plt.xlabel(\"LearningRate\")\n",
        "plt.ylabel(\"Loss\")\n"
      ],
      "metadata": {
        "colab": {
          "base_uri": "https://localhost:8080/",
          "height": 463
        },
        "id": "hTkHgEsRZO9z",
        "outputId": "74316efd-2b6e-4b0f-db48-b22c50a98d1e"
      },
      "execution_count": null,
      "outputs": [
        {
          "output_type": "execute_result",
          "data": {
            "text/plain": [
              "Text(0, 0.5, 'Loss')"
            ]
          },
          "metadata": {},
          "execution_count": 58
        },
        {
          "output_type": "display_data",
          "data": {
            "text/plain": [
              "<Figure size 720x504 with 1 Axes>"
            ],
            "image/png": "[encoded data removed]"
          },
          "metadata": {
            "needs_background": "light"
          }
        }
      ]
    },
    {
      "cell_type": "code",
      "source": [
        "#Trying models with different learning rates!!!\n",
        "\n",
        "\n",
        "# len(X_train), len(X_test)\n",
        "tf.random.set_seed(42)\n",
        "model_6 = tf.keras.Sequential([\n",
        "    tf.keras.layers.Dense(4,activation=\"relu\"),\n",
        "    tf.keras.layers.Dense(4,activation=\"relu\"),\n",
        "    tf.keras.layers.Dense(1,activation=\"sigmoid\")\n",
        "])\n",
        "model_6.compile(loss = tf.keras.losses.BinaryCrossentropy(),\n",
        "                optimizer = tf.keras.optimizers.Adam(learning_rate = 0.02),\n",
        "                metrics=['accuracy'])\n",
        "\n",
        "history = model_6.fit(X_train, Y_train, epochs=50)\n",
        "model_6.evaluate(X_test, Y_test)"
      ],
      "metadata": {
        "colab": {
          "base_uri": "https://localhost:8080/"
        },
        "id": "P3lkRj5Lavk9",
        "outputId": "fbf1eddc-682b-41c1-b5f3-13de2d1e758a"
      },
      "execution_count": null,
      "outputs": [
        {
          "output_type": "stream",
          "name": "stdout",
          "text": [
            "Epoch 1/50\n",
            "25/25 [==============================] - 1s 3ms/step - loss: 0.7003 - accuracy: 0.4888\n",
            "Epoch 2/50\n",
            "25/25 [==============================] - 0s 2ms/step - loss: 0.6834 - accuracy: 0.5325\n",
            "Epoch 3/50\n",
            "25/25 [==============================] - 0s 3ms/step - loss: 0.6683 - accuracy: 0.6075\n",
            "Epoch 4/50\n",
            "25/25 [==============================] - 0s 3ms/step - loss: 0.6539 - accuracy: 0.5962\n",
            "Epoch 5/50\n",
            "25/25 [==============================] - 0s 2ms/step - loss: 0.6386 - accuracy: 0.6212\n",
            "Epoch 6/50\n",
            "25/25 [==============================] - 0s 3ms/step - loss: 0.6110 - accuracy: 0.6612\n",
            "Epoch 7/50\n",
            "25/25 [==============================] - 0s 2ms/step - loss: 0.5819 - accuracy: 0.7013\n",
            "Epoch 8/50\n",
            "25/25 [==============================] - 0s 3ms/step - loss: 0.5025 - accuracy: 0.8062\n",
            "Epoch 9/50\n",
            "25/25 [==============================] - 0s 2ms/step - loss: 0.4438 - accuracy: 0.8263\n",
            "Epoch 10/50\n",
            "25/25 [==============================] - 0s 2ms/step - loss: 0.4083 - accuracy: 0.8413\n",
            "Epoch 11/50\n",
            "25/25 [==============================] - 0s 2ms/step - loss: 0.3552 - accuracy: 0.8925\n",
            "Epoch 12/50\n",
            "25/25 [==============================] - 0s 3ms/step - loss: 0.3240 - accuracy: 0.8913\n",
            "Epoch 13/50\n",
            "25/25 [==============================] - 0s 3ms/step - loss: 0.2913 - accuracy: 0.8988\n",
            "Epoch 14/50\n",
            "25/25 [==============================] - 0s 2ms/step - loss: 0.2263 - accuracy: 0.9262\n",
            "Epoch 15/50\n",
            "25/25 [==============================] - 0s 3ms/step - loss: 0.1221 - accuracy: 0.9850\n",
            "Epoch 16/50\n",
            "25/25 [==============================] - 0s 3ms/step - loss: 0.0923 - accuracy: 0.9887\n",
            "Epoch 17/50\n",
            "25/25 [==============================] - 0s 3ms/step - loss: 0.0772 - accuracy: 0.9912\n",
            "Epoch 18/50\n",
            "25/25 [==============================] - 0s 3ms/step - loss: 0.0733 - accuracy: 0.9862\n",
            "Epoch 19/50\n",
            "25/25 [==============================] - 0s 3ms/step - loss: 0.0539 - accuracy: 0.9900\n",
            "Epoch 20/50\n",
            "25/25 [==============================] - 0s 3ms/step - loss: 0.0412 - accuracy: 0.9975\n",
            "Epoch 21/50\n",
            "25/25 [==============================] - 0s 3ms/step - loss: 0.0468 - accuracy: 0.9950\n",
            "Epoch 22/50\n",
            "25/25 [==============================] - 0s 3ms/step - loss: 0.0455 - accuracy: 0.9900\n",
            "Epoch 23/50\n",
            "25/25 [==============================] - 0s 2ms/step - loss: 0.0358 - accuracy: 0.9950\n",
            "Epoch 24/50\n",
            "25/25 [==============================] - 0s 2ms/step - loss: 0.0336 - accuracy: 0.9912\n",
            "Epoch 25/50\n",
            "25/25 [==============================] - 0s 3ms/step - loss: 0.0281 - accuracy: 0.9962\n",
            "Epoch 26/50\n",
            "25/25 [==============================] - 0s 3ms/step - loss: 0.0248 - accuracy: 0.9975\n",
            "Epoch 27/50\n",
            "25/25 [==============================] - 0s 3ms/step - loss: 0.0217 - accuracy: 0.9962\n",
            "Epoch 28/50\n",
            "25/25 [==============================] - 0s 3ms/step - loss: 0.0297 - accuracy: 0.9937\n",
            "Epoch 29/50\n",
            "25/25 [==============================] - 0s 2ms/step - loss: 0.0282 - accuracy: 0.9937\n",
            "Epoch 30/50\n",
            "25/25 [==============================] - 0s 3ms/step - loss: 0.0232 - accuracy: 0.9975\n",
            "Epoch 31/50\n",
            "25/25 [==============================] - 0s 3ms/step - loss: 0.0221 - accuracy: 0.9950\n",
            "Epoch 32/50\n",
            "25/25 [==============================] - 0s 3ms/step - loss: 0.0291 - accuracy: 0.9912\n",
            "Epoch 33/50\n",
            "25/25 [==============================] - 0s 2ms/step - loss: 0.0265 - accuracy: 0.9950\n",
            "Epoch 34/50\n",
            "25/25 [==============================] - 0s 2ms/step - loss: 0.0209 - accuracy: 0.9962\n",
            "Epoch 35/50\n",
            "25/25 [==============================] - 0s 3ms/step - loss: 0.0176 - accuracy: 0.9975\n",
            "Epoch 36/50\n",
            "25/25 [==============================] - 0s 3ms/step - loss: 0.0202 - accuracy: 0.9950\n",
            "Epoch 37/50\n",
            "25/25 [==============================] - 0s 2ms/step - loss: 0.0284 - accuracy: 0.9900\n",
            "Epoch 38/50\n",
            "25/25 [==============================] - 0s 3ms/step - loss: 0.0229 - accuracy: 0.9950\n",
            "Epoch 39/50\n",
            "25/25 [==============================] - 0s 3ms/step - loss: 0.0159 - accuracy: 0.9962\n",
            "Epoch 40/50\n",
            "25/25 [==============================] - 0s 3ms/step - loss: 0.0217 - accuracy: 0.9950\n",
            "Epoch 41/50\n",
            "25/25 [==============================] - 0s 3ms/step - loss: 0.0210 - accuracy: 0.9937\n",
            "Epoch 42/50\n",
            "25/25 [==============================] - 0s 2ms/step - loss: 0.0180 - accuracy: 0.9937\n",
            "Epoch 43/50\n",
            "25/25 [==============================] - 0s 3ms/step - loss: 0.0142 - accuracy: 0.9987\n",
            "Epoch 44/50\n",
            "25/25 [==============================] - 0s 3ms/step - loss: 0.0147 - accuracy: 0.9962\n",
            "Epoch 45/50\n",
            "25/25 [==============================] - 0s 2ms/step - loss: 0.0255 - accuracy: 0.9925\n",
            "Epoch 46/50\n",
            "25/25 [==============================] - 0s 3ms/step - loss: 0.0211 - accuracy: 0.9912\n",
            "Epoch 47/50\n",
            "25/25 [==============================] - 0s 2ms/step - loss: 0.0163 - accuracy: 0.9962\n",
            "Epoch 48/50\n",
            "25/25 [==============================] - 0s 3ms/step - loss: 0.0158 - accuracy: 0.9937\n",
            "Epoch 49/50\n",
            "25/25 [==============================] - 0s 3ms/step - loss: 0.0127 - accuracy: 0.9987\n",
            "Epoch 50/50\n",
            "25/25 [==============================] - 0s 3ms/step - loss: 0.0099 - accuracy: 1.0000\n",
            "7/7 [==============================] - 0s 3ms/step - loss: 0.0463 - accuracy: 0.9850\n"
          ]
        },
        {
          "output_type": "execute_result",
          "data": {
            "text/plain": [
              "[0.0462980717420578, 0.9850000143051147]"
            ]
          },
          "metadata": {},
          "execution_count": 59
        }
      ]
    },
    {
      "cell_type": "code",
      "source": [
        "model_6.summary()"
      ],
      "metadata": {
        "colab": {
          "base_uri": "https://localhost:8080/"
        },
        "id": "A2Cff_eeNMGD",
        "outputId": "b6862aa7-6127-40f1-94d4-9909f155282d"
      },
      "execution_count": null,
      "outputs": [
        {
          "output_type": "stream",
          "name": "stdout",
          "text": [
            "Model: \"sequential_14\"\n",
            "_________________________________________________________________\n",
            " Layer (type)                Output Shape              Param #   \n",
            "=================================================================\n",
            " dense_44 (Dense)            (None, 4)                 12        \n",
            "                                                                 \n",
            " dense_45 (Dense)            (None, 4)                 20        \n",
            "                                                                 \n",
            " dense_46 (Dense)            (None, 1)                 5         \n",
            "                                                                 \n",
            "=================================================================\n",
            "Total params: 37\n",
            "Trainable params: 37\n",
            "Non-trainable params: 0\n",
            "_________________________________________________________________\n"
          ]
        }
      ]
    },
    {
      "cell_type": "markdown",
      "source": [
        "#More classification evaluation methods!!\n",
        "Accuracy \n",
        "Precision: higher precision leads to less false positives \n",
        "Recall : higher recall leads to less false negatives \n",
        "F1- score: \n",
        "Confusion matrix: "
      ],
      "metadata": {
        "id": "YClM40JMdTvv"
      }
    },
    {
      "cell_type": "code",
      "source": [
        "#Check the accuracy of our model \n",
        "loss, accuracy = model_6.evaluate(X_test, Y_test)\n",
        "print(f\"Loss: {loss}\")\n",
        "print(f\"Accuracy:{accuracy}\")"
      ],
      "metadata": {
        "id": "jwsYqXrikZkd",
        "colab": {
          "base_uri": "https://localhost:8080/"
        },
        "outputId": "47d1fb1d-fbbb-46be-e042-6f2e93356cf4"
      },
      "execution_count": null,
      "outputs": [
        {
          "output_type": "stream",
          "name": "stdout",
          "text": [
            "7/7 [==============================] - 0s 3ms/step - loss: 0.0463 - accuracy: 0.9850\n",
            "Loss: 0.0462980717420578\n",
            "Accuracy:0.9850000143051147\n"
          ]
        }
      ]
    },
    {
      "cell_type": "code",
      "source": [
        "#Creating a confusion matrix\n",
        "\n",
        "from sklearn.metrics import confusion_matrix\n",
        "\n",
        "#Make predictions \n",
        "Y_preds = model_6.predict(X_test)\n",
        "\n",
        "#Create confusion matrix\n",
        "# confusion_matrix(Y_test,Y_preds) --> The prediction array (Y_preds) has come out in prediction probability!!!"
      ],
      "metadata": {
        "id": "XSzpOh3TkuBK",
        "colab": {
          "base_uri": "https://localhost:8080/"
        },
        "outputId": "6a49bad5-8e4e-4670-821d-56404164be2a"
      },
      "execution_count": null,
      "outputs": [
        {
          "output_type": "stream",
          "name": "stdout",
          "text": [
            "7/7 [==============================] - 0s 2ms/step\n"
          ]
        }
      ]
    },
    {
      "cell_type": "code",
      "source": [
        "#Converting the prediction probabilities to binary format \n",
        "tf.round(Y_preds)"
      ],
      "metadata": {
        "colab": {
          "base_uri": "https://localhost:8080/"
        },
        "id": "70clpht3ay8P",
        "outputId": "bcab54ca-9e9e-4614-a52e-3c0c347be634"
      },
      "execution_count": null,
      "outputs": [
        {
          "output_type": "execute_result",
          "data": {
            "text/plain": [
              "<tf.Tensor: shape=(200, 1), dtype=float32, numpy=\n",
              "array([[1.],\n",
              "       [0.],\n",
              "       [1.],\n",
              "       [0.],\n",
              "       [1.],\n",
              "       [1.],\n",
              "       [0.],\n",
              "       [0.],\n",
              "       [1.],\n",
              "       [0.],\n",
              "       [1.],\n",
              "       [1.],\n",
              "       [0.],\n",
              "       [1.],\n",
              "       [0.],\n",
              "       [1.],\n",
              "       [1.],\n",
              "       [0.],\n",
              "       [1.],\n",
              "       [0.],\n",
              "       [0.],\n",
              "       [0.],\n",
              "       [1.],\n",
              "       [0.],\n",
              "       [0.],\n",
              "       [0.],\n",
              "       [0.],\n",
              "       [0.],\n",
              "       [0.],\n",
              "       [1.],\n",
              "       [1.],\n",
              "       [0.],\n",
              "       [1.],\n",
              "       [1.],\n",
              "       [0.],\n",
              "       [1.],\n",
              "       [1.],\n",
              "       [1.],\n",
              "       [1.],\n",
              "       [1.],\n",
              "       [1.],\n",
              "       [1.],\n",
              "       [1.],\n",
              "       [0.],\n",
              "       [0.],\n",
              "       [1.],\n",
              "       [0.],\n",
              "       [0.],\n",
              "       [1.],\n",
              "       [1.],\n",
              "       [0.],\n",
              "       [0.],\n",
              "       [0.],\n",
              "       [0.],\n",
              "       [1.],\n",
              "       [0.],\n",
              "       [1.],\n",
              "       [1.],\n",
              "       [1.],\n",
              "       [0.],\n",
              "       [1.],\n",
              "       [0.],\n",
              "       [0.],\n",
              "       [1.],\n",
              "       [1.],\n",
              "       [1.],\n",
              "       [1.],\n",
              "       [0.],\n",
              "       [0.],\n",
              "       [0.],\n",
              "       [1.],\n",
              "       [0.],\n",
              "       [0.],\n",
              "       [1.],\n",
              "       [1.],\n",
              "       [1.],\n",
              "       [1.],\n",
              "       [0.],\n",
              "       [0.],\n",
              "       [1.],\n",
              "       [0.],\n",
              "       [1.],\n",
              "       [0.],\n",
              "       [1.],\n",
              "       [1.],\n",
              "       [1.],\n",
              "       [0.],\n",
              "       [0.],\n",
              "       [0.],\n",
              "       [0.],\n",
              "       [1.],\n",
              "       [1.],\n",
              "       [1.],\n",
              "       [1.],\n",
              "       [1.],\n",
              "       [0.],\n",
              "       [1.],\n",
              "       [1.],\n",
              "       [0.],\n",
              "       [1.],\n",
              "       [0.],\n",
              "       [0.],\n",
              "       [1.],\n",
              "       [1.],\n",
              "       [0.],\n",
              "       [0.],\n",
              "       [1.],\n",
              "       [0.],\n",
              "       [0.],\n",
              "       [1.],\n",
              "       [1.],\n",
              "       [1.],\n",
              "       [0.],\n",
              "       [1.],\n",
              "       [1.],\n",
              "       [0.],\n",
              "       [1.],\n",
              "       [0.],\n",
              "       [1.],\n",
              "       [0.],\n",
              "       [1.],\n",
              "       [0.],\n",
              "       [0.],\n",
              "       [1.],\n",
              "       [1.],\n",
              "       [0.],\n",
              "       [1.],\n",
              "       [1.],\n",
              "       [0.],\n",
              "       [1.],\n",
              "       [1.],\n",
              "       [0.],\n",
              "       [1.],\n",
              "       [0.],\n",
              "       [0.],\n",
              "       [0.],\n",
              "       [1.],\n",
              "       [0.],\n",
              "       [0.],\n",
              "       [1.],\n",
              "       [0.],\n",
              "       [0.],\n",
              "       [0.],\n",
              "       [1.],\n",
              "       [0.],\n",
              "       [0.],\n",
              "       [1.],\n",
              "       [0.],\n",
              "       [1.],\n",
              "       [0.],\n",
              "       [1.],\n",
              "       [0.],\n",
              "       [1.],\n",
              "       [0.],\n",
              "       [1.],\n",
              "       [1.],\n",
              "       [1.],\n",
              "       [0.],\n",
              "       [0.],\n",
              "       [1.],\n",
              "       [0.],\n",
              "       [1.],\n",
              "       [1.],\n",
              "       [0.],\n",
              "       [1.],\n",
              "       [0.],\n",
              "       [0.],\n",
              "       [0.],\n",
              "       [0.],\n",
              "       [1.],\n",
              "       [1.],\n",
              "       [1.],\n",
              "       [1.],\n",
              "       [1.],\n",
              "       [0.],\n",
              "       [0.],\n",
              "       [0.],\n",
              "       [0.],\n",
              "       [1.],\n",
              "       [0.],\n",
              "       [0.],\n",
              "       [1.],\n",
              "       [0.],\n",
              "       [1.],\n",
              "       [1.],\n",
              "       [0.],\n",
              "       [0.],\n",
              "       [0.],\n",
              "       [1.],\n",
              "       [1.],\n",
              "       [0.],\n",
              "       [1.],\n",
              "       [1.],\n",
              "       [0.],\n",
              "       [1.],\n",
              "       [0.],\n",
              "       [1.],\n",
              "       [0.],\n",
              "       [1.],\n",
              "       [1.]], dtype=float32)>"
            ]
          },
          "metadata": {},
          "execution_count": 63
        }
      ]
    },
    {
      "cell_type": "code",
      "source": [
        "#Create confusion matric \n",
        "confusion_matrix(Y_test,tf.round(Y_preds))"
      ],
      "metadata": {
        "colab": {
          "base_uri": "https://localhost:8080/"
        },
        "id": "v01XUOhVbj6L",
        "outputId": "bcddae06-8d12-4645-9cb4-ceead0c3a98c"
      },
      "execution_count": null,
      "outputs": [
        {
          "output_type": "execute_result",
          "data": {
            "text/plain": [
              "array([[ 97,   3],\n",
              "       [  0, 100]])"
            ]
          },
          "metadata": {},
          "execution_count": 64
        }
      ]
    },
    {
      "cell_type": "code",
      "source": [
        "#Making the confusion-matrix pretty\n",
        "\n",
        "import itertools\n",
        "\n",
        "figsize = (10,10)\n",
        "cm = confusion_matrix(Y_test, tf.round(Y_preds))\n",
        "cm_norm = cm.astype(\"float\")/cm.sum(axis=1)[:, np.newaxis] #normalize the confusion matrix \n",
        "# cm_norm\n",
        "n_classes = cm.shape[0]\n",
        "# n_classes\n",
        "\n",
        "# Prettifying it!!\n",
        "fig,ax = plt.subplots(figsize=figsize)\n",
        "cax = ax.matshow(cm,cmap=plt.cm.Blues)\n",
        "fig.colorbar(cax)\n",
        "\n",
        "#Create classes \n",
        "classes = False\n",
        "\n",
        "if classes:\n",
        "  labels = classes\n",
        "else:\n",
        "  labels = np.arange(cm.shape[0])\n",
        "#Labeling the axis \n",
        "ax.set(title=\"Confusion Matrix\",\n",
        "       xlabel=\"Predicted Label\",\n",
        "       ylabel=\"True Label\",\n",
        "       xticks = np.arange(n_classes),\n",
        "       yticks = np.arange(n_classes),\n",
        "       xticklabels = labels,\n",
        "       yticklabels = labels)\n",
        "\n",
        "#Set threshold for different colors \n",
        "threshold = (cm.max() + cm.min())/2\n",
        "\n",
        "#Plot the text on each cell\n",
        "for i,j in itertools.product(range(cm.shape[0]), range(cm.shape[1])):\n",
        "  plt.text(j,i,f\"{cm[i,j]} ({cm_norm[i,j]*100:.1f}%)\",\n",
        "           horizontalalignment=\"center\",\n",
        "           color=\"white\" if cm[i,j]>threshold else \"black\",\n",
        "           size=15)"
      ],
      "metadata": {
        "colab": {
          "base_uri": "https://localhost:8080/",
          "height": 584
        },
        "id": "xjHfAaEVbwVI",
        "outputId": "f2e40f6e-3556-4055-fd47-e22ff536872b"
      },
      "execution_count": null,
      "outputs": [
        {
          "output_type": "display_data",
          "data": {
            "text/plain": [
              "<Figure size 720x720 with 2 Axes>"
            ],
            "image/png": "[encoded data removed]"
          },
          "metadata": {
            "needs_background": "light"
          }
        }
      ]
    },
    {
      "cell_type": "markdown",
      "source": [
        "#Working with a larger example (Multi-class classification)\n",
        "When you hve more than 2 classes as an option, it is known as a multi-class classification"
      ],
      "metadata": {
        "id": "zQwUBW8CeVig"
      }
    },
    {
      "cell_type": "code",
      "source": [
        "import tensorflow as tf \n",
        "from tensorflow.keras.datasets import fashion_mnist \n",
        "\n",
        "#THe data has already been sorted into training and test sets for us \n",
        "(train_data, train_labels), (test_data, test_labels) = fashion_mnist.load_data()"
      ],
      "metadata": {
        "id": "K3Z0bBI-iELE"
      },
      "execution_count": null,
      "outputs": []
    },
    {
      "cell_type": "code",
      "source": [
        "print(f\"Training sample: \\n{train_data[0]}\\n\")\n",
        "print(f\"Training label: \\n{train_labels[0]}\\n\")"
      ],
      "metadata": {
        "colab": {
          "base_uri": "https://localhost:8080/"
        },
        "id": "GvEYv8ohjFZ3",
        "outputId": "d22a0733-0a73-4a69-8cff-6e850623e4a4"
      },
      "execution_count": null,
      "outputs": [
        {
          "output_type": "stream",
          "name": "stdout",
          "text": [
            "Training sample: \n",
            "[[  0   0   0   0   0   0   0   0   0   0   0   0   0   0   0   0   0   0\n",
            "    0   0   0   0   0   0   0   0   0   0]\n",
            " [  0   0   0   0   0   0   0   0   0   0   0   0   0   0   0   0   0   0\n",
            "    0   0   0   0   0   0   0   0   0   0]\n",
            " [  0   0   0   0   0   0   0   0   0   0   0   0   0   0   0   0   0   0\n",
            "    0   0   0   0   0   0   0   0   0   0]\n",
            " [  0   0   0   0   0   0   0   0   0   0   0   0   1   0   0  13  73   0\n",
            "    0   1   4   0   0   0   0   1   1   0]\n",
            " [  0   0   0   0   0   0   0   0   0   0   0   0   3   0  36 136 127  62\n",
            "   54   0   0   0   1   3   4   0   0   3]\n",
            " [  0   0   0   0   0   0   0   0   0   0   0   0   6   0 102 204 176 134\n",
            "  144 123  23   0   0   0   0  12  10   0]\n",
            " [  0   0   0   0   0   0   0   0   0   0   0   0   0   0 155 236 207 178\n",
            "  107 156 161 109  64  23  77 130  72  15]\n",
            " [  0   0   0   0   0   0   0   0   0   0   0   1   0  69 207 223 218 216\n",
            "  216 163 127 121 122 146 141  88 172  66]\n",
            " [  0   0   0   0   0   0   0   0   0   1   1   1   0 200 232 232 233 229\n",
            "  223 223 215 213 164 127 123 196 229   0]\n",
            " [  0   0   0   0   0   0   0   0   0   0   0   0   0 183 225 216 223 228\n",
            "  235 227 224 222 224 221 223 245 173   0]\n",
            " [  0   0   0   0   0   0   0   0   0   0   0   0   0 193 228 218 213 198\n",
            "  180 212 210 211 213 223 220 243 202   0]\n",
            " [  0   0   0   0   0   0   0   0   0   1   3   0  12 219 220 212 218 192\n",
            "  169 227 208 218 224 212 226 197 209  52]\n",
            " [  0   0   0   0   0   0   0   0   0   0   6   0  99 244 222 220 218 203\n",
            "  198 221 215 213 222 220 245 119 167  56]\n",
            " [  0   0   0   0   0   0   0   0   0   4   0   0  55 236 228 230 228 240\n",
            "  232 213 218 223 234 217 217 209  92   0]\n",
            " [  0   0   1   4   6   7   2   0   0   0   0   0 237 226 217 223 222 219\n",
            "  222 221 216 223 229 215 218 255  77   0]\n",
            " [  0   3   0   0   0   0   0   0   0  62 145 204 228 207 213 221 218 208\n",
            "  211 218 224 223 219 215 224 244 159   0]\n",
            " [  0   0   0   0  18  44  82 107 189 228 220 222 217 226 200 205 211 230\n",
            "  224 234 176 188 250 248 233 238 215   0]\n",
            " [  0  57 187 208 224 221 224 208 204 214 208 209 200 159 245 193 206 223\n",
            "  255 255 221 234 221 211 220 232 246   0]\n",
            " [  3 202 228 224 221 211 211 214 205 205 205 220 240  80 150 255 229 221\n",
            "  188 154 191 210 204 209 222 228 225   0]\n",
            " [ 98 233 198 210 222 229 229 234 249 220 194 215 217 241  65  73 106 117\n",
            "  168 219 221 215 217 223 223 224 229  29]\n",
            " [ 75 204 212 204 193 205 211 225 216 185 197 206 198 213 240 195 227 245\n",
            "  239 223 218 212 209 222 220 221 230  67]\n",
            " [ 48 203 183 194 213 197 185 190 194 192 202 214 219 221 220 236 225 216\n",
            "  199 206 186 181 177 172 181 205 206 115]\n",
            " [  0 122 219 193 179 171 183 196 204 210 213 207 211 210 200 196 194 191\n",
            "  195 191 198 192 176 156 167 177 210  92]\n",
            " [  0   0  74 189 212 191 175 172 175 181 185 188 189 188 193 198 204 209\n",
            "  210 210 211 188 188 194 192 216 170   0]\n",
            " [  2   0   0   0  66 200 222 237 239 242 246 243 244 221 220 193 191 179\n",
            "  182 182 181 176 166 168  99  58   0   0]\n",
            " [  0   0   0   0   0   0   0  40  61  44  72  41  35   0   0   0   0   0\n",
            "    0   0   0   0   0   0   0   0   0   0]\n",
            " [  0   0   0   0   0   0   0   0   0   0   0   0   0   0   0   0   0   0\n",
            "    0   0   0   0   0   0   0   0   0   0]\n",
            " [  0   0   0   0   0   0   0   0   0   0   0   0   0   0   0   0   0   0\n",
            "    0   0   0   0   0   0   0   0   0   0]]\n",
            "\n",
            "Training label: \n",
            "9\n",
            "\n"
          ]
        }
      ]
    },
    {
      "cell_type": "code",
      "source": [
        "#Check the shaoe of a single example \n",
        "train_data[0].shape, train_labels[0].shape"
      ],
      "metadata": {
        "colab": {
          "base_uri": "https://localhost:8080/"
        },
        "id": "3tlFWbXejYAW",
        "outputId": "74d774e1-f431-4990-b6ba-269e848d1e41"
      },
      "execution_count": null,
      "outputs": [
        {
          "output_type": "execute_result",
          "data": {
            "text/plain": [
              "((28, 28), ())"
            ]
          },
          "metadata": {},
          "execution_count": 68
        }
      ]
    },
    {
      "cell_type": "code",
      "source": [
        "import matplotlib.pyplot as plt\n",
        "plt.imshow(train_data[0])"
      ],
      "metadata": {
        "colab": {
          "base_uri": "https://localhost:8080/",
          "height": 282
        },
        "id": "UHPIzHTzjozu",
        "outputId": "6b382c48-3443-45c3-cb03-bb992db014fa"
      },
      "execution_count": null,
      "outputs": [
        {
          "output_type": "execute_result",
          "data": {
            "text/plain": [
              "<matplotlib.image.AxesImage at 0x7fd14d983820>"
            ]
          },
          "metadata": {},
          "execution_count": 69
        },
        {
          "output_type": "display_data",
          "data": {
            "text/plain": [
              "<Figure size 432x288 with 1 Axes>"
            ],
            "image/png": "[encoded data removed]"
          },
          "metadata": {
            "needs_background": "light"
          }
        }
      ]
    },
    {
      "cell_type": "code",
      "source": [
        "#Create a small list so we can index onto our training labels so they're human-readable \n",
        "\n",
        "class_names = [\"T_shirt/top\", \"Trousers\", \"Pullover\", \"Dress\", \"Coat\", \"Sandal\", \"Shirt\",\"Sneaker\",\"Bag\",\"Ankle Boot\"]\n"
      ],
      "metadata": {
        "id": "TuBND_7UjzKc"
      },
      "execution_count": null,
      "outputs": []
    },
    {
      "cell_type": "code",
      "source": [
        "plt.imshow(train_data[170], cmap=plt.cm.binary)\n",
        "plt.title(class_names[train_labels[170]])"
      ],
      "metadata": {
        "colab": {
          "base_uri": "https://localhost:8080/",
          "height": 298
        },
        "id": "-_9d7C1PkvTF",
        "outputId": "d0409c0d-83ff-409f-fdb8-1974842e2c09"
      },
      "execution_count": null,
      "outputs": [
        {
          "output_type": "execute_result",
          "data": {
            "text/plain": [
              "Text(0.5, 1.0, 'Trousers')"
            ]
          },
          "metadata": {},
          "execution_count": 71
        },
        {
          "output_type": "display_data",
          "data": {
            "text/plain": [
              "<Figure size 432x288 with 1 Axes>"
            ],
            "image/png": "[encoded data removed]"
          },
          "metadata": {
            "needs_background": "light"
          }
        }
      ]
    },
    {
      "cell_type": "code",
      "source": [
        "#Plot mulitple random images of fashion mnist\n",
        "\n",
        "import random \n",
        "plt.figure(figsize=(7,7))\n",
        "for i in range(4):\n",
        "  ax =plt.subplot(2,2,i+1)\n",
        "  rand_index = random.choice(range(len(train_data)))\n",
        "  plt.imshow(train_data[rand_index], cmap=plt.cm.binary)\n",
        "  plt.title(class_names[train_labels[rand_index]])\n",
        "  plt.axis(False)"
      ],
      "metadata": {
        "colab": {
          "base_uri": "https://localhost:8080/",
          "height": 427
        },
        "id": "GRGYe850k6zT",
        "outputId": "3fae5c7f-d27d-47aa-aba4-0904c3aa8746"
      },
      "execution_count": null,
      "outputs": [
        {
          "output_type": "display_data",
          "data": {
            "text/plain": [
              "<Figure size 504x504 with 4 Axes>"
            ],
            "image/png": "[encoded data removed]"
          },
          "metadata": {
            "needs_background": "light"
          }
        }
      ]
    },
    {
      "cell_type": "code",
      "source": [
        "#Building a multi-class classification model \n",
        "tf.random.set_seed(42)\n",
        "\n",
        "model_7 = tf.keras.Sequential([\n",
        "    tf.keras.layers.Flatten(input_shape=(28,28)), #Need to flatten the input data \n",
        "    tf.keras.layers.Dense(4, activation=\"relu\"),\n",
        "    tf.keras.layers.Dense(4, activation=\"relu\"),\n",
        "    tf.keras.layers.Dense(10, activation=\"softmax\")\n",
        "])\n",
        "\n",
        "model_7.compile(loss=tf.keras.losses.SparseCategoricalCrossentropy(),\n",
        "                optimizer=tf.keras.optimizers.Adam(),\n",
        "                metrics=[\"accuracy\"])\n",
        "\n",
        "non_norm_history = model_7.fit(train_data,train_labels,epochs=5,validation_data=(test_data,test_labels))"
      ],
      "metadata": {
        "colab": {
          "base_uri": "https://localhost:8080/"
        },
        "id": "9luD9EnIlmR8",
        "outputId": "d700e627-a047-4646-a700-a5f4dda7a4c3"
      },
      "execution_count": null,
      "outputs": [
        {
          "output_type": "stream",
          "name": "stdout",
          "text": [
            "Epoch 1/5\n",
            "1875/1875 [==============================] - 7s 3ms/step - loss: 2.3581 - accuracy: 0.0977 - val_loss: 2.3042 - val_accuracy: 0.1000\n",
            "Epoch 2/5\n",
            "1875/1875 [==============================] - 5s 2ms/step - loss: 2.3028 - accuracy: 0.0985 - val_loss: 2.3035 - val_accuracy: 0.1000\n",
            "Epoch 3/5\n",
            "1875/1875 [==============================] - 6s 3ms/step - loss: 2.2359 - accuracy: 0.1268 - val_loss: 2.0762 - val_accuracy: 0.1783\n",
            "Epoch 4/5\n",
            "1875/1875 [==============================] - 5s 3ms/step - loss: 1.8245 - accuracy: 0.2349 - val_loss: 1.6941 - val_accuracy: 0.2865\n",
            "Epoch 5/5\n",
            "1875/1875 [==============================] - 6s 3ms/step - loss: 1.6423 - accuracy: 0.2897 - val_loss: 1.6034 - val_accuracy: 0.3158\n"
          ]
        }
      ]
    },
    {
      "cell_type": "code",
      "source": [
        "#Nueral networks prefer data to be scaled (normalization), this means they like to have numbers in tensors between 0 and 1\n",
        "#We can normalize the data by dividing all the numbers in the dataset by dividing the numbers by the largest number!!\n",
        "train_data_norm = train_data/255.0\n",
        "test_data_norm = test_data/255.0\n",
        "train_data_norm.min(), train_data_norm.max()"
      ],
      "metadata": {
        "id": "QPDLB_P0olMD",
        "colab": {
          "base_uri": "https://localhost:8080/"
        },
        "outputId": "dadde483-f567-4c32-eee6-88db51c53e60"
      },
      "execution_count": null,
      "outputs": [
        {
          "output_type": "execute_result",
          "data": {
            "text/plain": [
              "(0.0, 1.0)"
            ]
          },
          "metadata": {},
          "execution_count": 74
        }
      ]
    },
    {
      "cell_type": "code",
      "source": [
        "#Lets fit the model with the normalized data\n",
        "\n",
        "tf.random.set_seed(42)\n",
        "\n",
        "model_8 = tf.keras.Sequential([\n",
        "    tf.keras.layers.Flatten(input_shape=(28,28)),\n",
        "    tf.keras.layers.Dense(4, activation=\"relu\"),\n",
        "    tf.keras.layers.Dense(4,activation=\"relu\"),\n",
        "    tf.keras.layers.Dense(10,activation=\"softmax\")\n",
        "])\n",
        "\n",
        "model_8.compile(loss = tf.keras.losses.SparseCategoricalCrossentropy(),\n",
        "                optimizer = tf.keras.optimizers.Adam(),\n",
        "                metrics=[\"accuracy\"])\n",
        "\n",
        "norm_history = model_8.fit(train_data_norm,train_labels, epochs=5, validation_data=(test_data_norm,test_labels))"
      ],
      "metadata": {
        "colab": {
          "base_uri": "https://localhost:8080/"
        },
        "id": "LKjpLeFf4pY8",
        "outputId": "c9f1a783-d85d-4fff-8762-f620ed4e4366"
      },
      "execution_count": null,
      "outputs": [
        {
          "output_type": "stream",
          "name": "stdout",
          "text": [
            "Epoch 1/5\n",
            "1875/1875 [==============================] - 6s 3ms/step - loss: 1.4883 - accuracy: 0.4620 - val_loss: 1.2078 - val_accuracy: 0.6118\n",
            "Epoch 2/5\n",
            "1875/1875 [==============================] - 6s 3ms/step - loss: 1.0167 - accuracy: 0.6493 - val_loss: 0.9075 - val_accuracy: 0.6873\n",
            "Epoch 3/5\n",
            "1875/1875 [==============================] - 5s 3ms/step - loss: 0.8270 - accuracy: 0.7067 - val_loss: 0.7990 - val_accuracy: 0.7168\n",
            "Epoch 4/5\n",
            "1875/1875 [==============================] - 6s 3ms/step - loss: 0.7592 - accuracy: 0.7326 - val_loss: 0.7618 - val_accuracy: 0.7313\n",
            "Epoch 5/5\n",
            "1875/1875 [==============================] - 5s 3ms/step - loss: 0.7150 - accuracy: 0.7449 - val_loss: 0.7190 - val_accuracy: 0.7472\n"
          ]
        }
      ]
    },
    {
      "cell_type": "code",
      "source": [
        "import pandas as pd \n",
        "#Comparing the normalized and non-normalized data model!!\n",
        "pd.DataFrame(non_norm_history.history).plot(title=\"Non-normalized data\")\n",
        "pd.DataFrame(norm_history.history).plot(title=\"Normalized data\")"
      ],
      "metadata": {
        "id": "LVVlSV6q5nD1",
        "colab": {
          "base_uri": "https://localhost:8080/",
          "height": 562
        },
        "outputId": "a7706d82-dd7a-41de-9a52-377f90d62183"
      },
      "execution_count": null,
      "outputs": [
        {
          "output_type": "execute_result",
          "data": {
            "text/plain": [
              "<AxesSubplot:title={'center':'Normalized data'}>"
            ]
          },
          "metadata": {},
          "execution_count": 79
        },
        {
          "output_type": "display_data",
          "data": {
            "text/plain": [
              "<Figure size 432x288 with 1 Axes>"
            ],
            "image/png": "[encoded data removed]"
          },
          "metadata": {
            "needs_background": "light"
          }
        },
        {
          "output_type": "display_data",
          "data": {
            "text/plain": [
              "<Figure size 432x288 with 1 Axes>"
            ],
            "image/png": "[encoded data removed]"
          },
          "metadata": {
            "needs_background": "light"
          }
        }
      ]
    },
    {
      "cell_type": "markdown",
      "source": [
        "Finding the ideal learning rate - the one where the loss decreases the most!!\n"
      ],
      "metadata": {
        "id": "fKjQWHbPKK3O"
      }
    },
    {
      "cell_type": "code",
      "source": [
        "tf.random.set_seed(42)\n",
        "model_9 = tf.keras.Sequential([\n",
        "    tf.keras.layers.Flatten(input_shape=(28,28)),\n",
        "    tf.keras.layers.Dense(4,activation=\"relu\"),\n",
        "    tf.keras.layers.Dense(4,activation=\"relu\"),\n",
        "    tf.keras.layers.Dense(10,activation=\"softmax\")\n",
        "])\n",
        "\n",
        "model_9.compile(loss = tf.keras.losses.SparseCategoricalCrossentropy(),\n",
        "                optimizer = tf.keras.optimizers.Adam(),\n",
        "                metrics=[\"accuracy\"])\n",
        "\n",
        "lr_scheduler = tf.keras.callbacks.LearningRateScheduler(lambda epoch: 1e-3 * 10**(epoch/20))\n",
        "\n",
        "find_lr_history = model_9.fit(train_data_norm,train_labels,epochs=40,validation_data=(test_data_norm,test_labels),callbacks=[lr_scheduler])"
      ],
      "metadata": {
        "colab": {
          "base_uri": "https://localhost:8080/"
        },
        "id": "3z27lTGILCvc",
        "outputId": "bd9e90cf-6628-4877-f14f-9017cdb1baa7"
      },
      "execution_count": null,
      "outputs": [
        {
          "output_type": "stream",
          "name": "stdout",
          "text": [
            "Epoch 1/40\n",
            "1875/1875 [==============================] - 63s 3ms/step - loss: 1.2440 - accuracy: 0.5655 - val_loss: 0.8631 - val_accuracy: 0.7299 - lr: 0.0010\n",
            "Epoch 2/40\n",
            "1875/1875 [==============================] - 6s 3ms/step - loss: 0.7250 - accuracy: 0.7601 - val_loss: 0.6870 - val_accuracy: 0.7599 - lr: 0.0011\n",
            "Epoch 3/40\n",
            "1875/1875 [==============================] - 5s 3ms/step - loss: 0.6230 - accuracy: 0.7806 - val_loss: 0.6267 - val_accuracy: 0.7755 - lr: 0.0013\n",
            "Epoch 4/40\n",
            "1875/1875 [==============================] - 6s 3ms/step - loss: 0.5805 - accuracy: 0.7970 - val_loss: 0.5942 - val_accuracy: 0.7921 - lr: 0.0014\n",
            "Epoch 5/40\n",
            "1875/1875 [==============================] - 5s 3ms/step - loss: 0.5579 - accuracy: 0.8076 - val_loss: 0.6242 - val_accuracy: 0.7849 - lr: 0.0016\n",
            "Epoch 6/40\n",
            "1875/1875 [==============================] - 5s 3ms/step - loss: 0.5435 - accuracy: 0.8127 - val_loss: 0.5921 - val_accuracy: 0.7936 - lr: 0.0018\n",
            "Epoch 7/40\n",
            "1875/1875 [==============================] - 6s 3ms/step - loss: 0.5375 - accuracy: 0.8155 - val_loss: 0.5715 - val_accuracy: 0.8023 - lr: 0.0020\n",
            "Epoch 8/40\n",
            "1875/1875 [==============================] - 5s 3ms/step - loss: 0.5312 - accuracy: 0.8168 - val_loss: 0.5526 - val_accuracy: 0.8127 - lr: 0.0022\n",
            "Epoch 9/40\n",
            "1875/1875 [==============================] - 6s 3ms/step - loss: 0.5284 - accuracy: 0.8185 - val_loss: 0.5769 - val_accuracy: 0.8037 - lr: 0.0025\n",
            "Epoch 10/40\n",
            "1875/1875 [==============================] - 5s 3ms/step - loss: 0.5269 - accuracy: 0.8189 - val_loss: 0.5785 - val_accuracy: 0.8015 - lr: 0.0028\n",
            "Epoch 11/40\n",
            "1875/1875 [==============================] - 6s 3ms/step - loss: 0.5274 - accuracy: 0.8167 - val_loss: 0.5529 - val_accuracy: 0.8074 - lr: 0.0032\n",
            "Epoch 12/40\n",
            "1875/1875 [==============================] - 5s 3ms/step - loss: 0.5271 - accuracy: 0.8177 - val_loss: 0.5653 - val_accuracy: 0.8034 - lr: 0.0035\n",
            "Epoch 13/40\n",
            "1875/1875 [==============================] - 5s 3ms/step - loss: 0.5271 - accuracy: 0.8171 - val_loss: 0.5565 - val_accuracy: 0.8067 - lr: 0.0040\n",
            "Epoch 14/40\n",
            "1875/1875 [==============================] - 6s 3ms/step - loss: 0.5300 - accuracy: 0.8161 - val_loss: 0.6126 - val_accuracy: 0.7900 - lr: 0.0045\n",
            "Epoch 15/40\n",
            "1875/1875 [==============================] - 5s 3ms/step - loss: 0.5334 - accuracy: 0.8164 - val_loss: 0.6137 - val_accuracy: 0.7917 - lr: 0.0050\n",
            "Epoch 16/40\n",
            "1875/1875 [==============================] - 6s 3ms/step - loss: 0.5338 - accuracy: 0.8156 - val_loss: 0.5583 - val_accuracy: 0.8092 - lr: 0.0056\n",
            "Epoch 17/40\n",
            "1875/1875 [==============================] - 5s 3ms/step - loss: 0.5338 - accuracy: 0.8151 - val_loss: 0.5764 - val_accuracy: 0.8016 - lr: 0.0063\n",
            "Epoch 18/40\n",
            "1875/1875 [==============================] - 5s 3ms/step - loss: 0.5402 - accuracy: 0.8127 - val_loss: 0.5653 - val_accuracy: 0.8049 - lr: 0.0071\n",
            "Epoch 19/40\n",
            "1875/1875 [==============================] - 5s 3ms/step - loss: 0.5436 - accuracy: 0.8128 - val_loss: 0.6034 - val_accuracy: 0.7913 - lr: 0.0079\n",
            "Epoch 20/40\n",
            "1875/1875 [==============================] - 5s 2ms/step - loss: 0.5496 - accuracy: 0.8091 - val_loss: 0.5790 - val_accuracy: 0.8002 - lr: 0.0089\n",
            "Epoch 21/40\n",
            "1875/1875 [==============================] - 6s 3ms/step - loss: 0.5508 - accuracy: 0.8112 - val_loss: 0.5674 - val_accuracy: 0.8108 - lr: 0.0100\n",
            "Epoch 22/40\n",
            "1875/1875 [==============================] - 5s 3ms/step - loss: 0.5628 - accuracy: 0.8055 - val_loss: 0.5882 - val_accuracy: 0.8013 - lr: 0.0112\n",
            "Epoch 23/40\n",
            "1875/1875 [==============================] - 6s 3ms/step - loss: 0.5671 - accuracy: 0.8057 - val_loss: 0.6351 - val_accuracy: 0.7822 - lr: 0.0126\n",
            "Epoch 24/40\n",
            "1875/1875 [==============================] - 5s 3ms/step - loss: 0.5724 - accuracy: 0.8046 - val_loss: 0.6572 - val_accuracy: 0.7794 - lr: 0.0141\n",
            "Epoch 25/40\n",
            "1875/1875 [==============================] - 5s 3ms/step - loss: 0.5888 - accuracy: 0.7995 - val_loss: 0.6245 - val_accuracy: 0.8028 - lr: 0.0158\n",
            "Epoch 26/40\n",
            "1875/1875 [==============================] - 6s 3ms/step - loss: 0.6053 - accuracy: 0.7957 - val_loss: 0.7183 - val_accuracy: 0.7642 - lr: 0.0178\n",
            "Epoch 27/40\n",
            "1875/1875 [==============================] - 5s 3ms/step - loss: 0.6113 - accuracy: 0.7935 - val_loss: 0.6910 - val_accuracy: 0.7724 - lr: 0.0200\n",
            "Epoch 28/40\n",
            "1875/1875 [==============================] - 6s 3ms/step - loss: 0.6284 - accuracy: 0.7880 - val_loss: 0.7546 - val_accuracy: 0.7538 - lr: 0.0224\n",
            "Epoch 29/40\n",
            "1875/1875 [==============================] - 5s 3ms/step - loss: 0.6353 - accuracy: 0.7844 - val_loss: 0.6631 - val_accuracy: 0.7806 - lr: 0.0251\n",
            "Epoch 30/40\n",
            "1875/1875 [==============================] - 6s 3ms/step - loss: 0.6752 - accuracy: 0.7752 - val_loss: 0.6951 - val_accuracy: 0.7720 - lr: 0.0282\n",
            "Epoch 31/40\n",
            "1875/1875 [==============================] - 5s 3ms/step - loss: 0.6916 - accuracy: 0.7700 - val_loss: 0.6700 - val_accuracy: 0.7720 - lr: 0.0316\n",
            "Epoch 32/40\n",
            "1875/1875 [==============================] - 5s 3ms/step - loss: 0.7474 - accuracy: 0.7531 - val_loss: 0.7808 - val_accuracy: 0.7364 - lr: 0.0355\n",
            "Epoch 33/40\n",
            "1875/1875 [==============================] - 6s 3ms/step - loss: 0.7796 - accuracy: 0.7407 - val_loss: 0.8294 - val_accuracy: 0.7134 - lr: 0.0398\n",
            "Epoch 34/40\n",
            "1875/1875 [==============================] - 5s 3ms/step - loss: 0.7995 - accuracy: 0.7135 - val_loss: 0.7858 - val_accuracy: 0.7157 - lr: 0.0447\n",
            "Epoch 35/40\n",
            "1875/1875 [==============================] - 6s 3ms/step - loss: 0.9161 - accuracy: 0.6554 - val_loss: 1.0571 - val_accuracy: 0.5985 - lr: 0.0501\n",
            "Epoch 36/40\n",
            "1875/1875 [==============================] - 5s 3ms/step - loss: 1.2190 - accuracy: 0.5007 - val_loss: 1.3019 - val_accuracy: 0.4857 - lr: 0.0562\n",
            "Epoch 37/40\n",
            "1875/1875 [==============================] - 6s 3ms/step - loss: 1.1604 - accuracy: 0.5290 - val_loss: 1.2913 - val_accuracy: 0.4523 - lr: 0.0631\n",
            "Epoch 38/40\n",
            "1875/1875 [==============================] - 5s 3ms/step - loss: 1.2538 - accuracy: 0.4872 - val_loss: 1.2591 - val_accuracy: 0.4355 - lr: 0.0708\n",
            "Epoch 39/40\n",
            "1875/1875 [==============================] - 5s 3ms/step - loss: 1.2781 - accuracy: 0.4438 - val_loss: 1.1830 - val_accuracy: 0.4894 - lr: 0.0794\n",
            "Epoch 40/40\n",
            "1875/1875 [==============================] - 6s 3ms/step - loss: 1.5233 - accuracy: 0.3947 - val_loss: 1.5420 - val_accuracy: 0.3696 - lr: 0.0891\n"
          ]
        }
      ]
    },
    {
      "cell_type": "code",
      "source": [
        "import numpy as np\n",
        "import matplotlib.pyplot as plt\n",
        "\n",
        "lrs = 1e-3 *(10**(tf.range(40)/20))\n",
        "plt.semilogx(lrs,find_lr_history.history[\"loss\"])"
      ],
      "metadata": {
        "colab": {
          "base_uri": "https://localhost:8080/",
          "height": 286
        },
        "id": "FWtZ3u0RMCvr",
        "outputId": "190a96f7-72cc-4d81-b521-a6f47be5d643"
      },
      "execution_count": null,
      "outputs": [
        {
          "output_type": "execute_result",
          "data": {
            "text/plain": [
              "[<matplotlib.lines.Line2D at 0x7fd1385fca90>]"
            ]
          },
          "metadata": {},
          "execution_count": 84
        },
        {
          "output_type": "display_data",
          "data": {
            "text/plain": [
              "<Figure size 432x288 with 1 Axes>"
            ],
            "image/png": "[encoded data removed]"
          },
          "metadata": {
            "needs_background": "light"
          }
        }
      ]
    },
    {
      "cell_type": "code",
      "source": [
        "#Let's refit the model with the ideal learning rate \n",
        "tf.random.set_seed(42)\n",
        "model_10 = tf.keras.Sequential([\n",
        "    tf.keras.layers.Flatten(input_shape=(28,28)),\n",
        "    tf.keras.layers.Dense(4,activation=\"relu\"),\n",
        "    tf.keras.layers.Dense(4,activation=\"relu\"),\n",
        "    tf.keras.layers.Dense(10,activation=\"softmax\")\n",
        "])\n",
        "model_10.compile(loss = tf.keras.losses.SparseCategoricalCrossentropy(),\n",
        "                 optimizer = tf.keras.optimizers.Adam(learning_rate = 0.001),\n",
        "                 metrics = [\"accuracy\"])\n",
        "history_10 = model_10.fit(train_data_norm,train_labels,epochs=20,validation_data = (test_data_norm,test_labels))"
      ],
      "metadata": {
        "colab": {
          "base_uri": "https://localhost:8080/",
          "height": 217
        },
        "id": "KhEEX4B2Qm5k",
        "outputId": "c45be0e2-662b-48cf-e5c2-8cc2942dc6a5"
      },
      "execution_count": null,
      "outputs": [
        {
          "output_type": "error",
          "ename": "NameError",
          "evalue": "ignored",
          "traceback": [
            "\u001b[0;31m---------------------------------------------------------------------------\u001b[0m",
            "\u001b[0;31mNameError\u001b[0m                                 Traceback (most recent call last)",
            "\u001b[0;32m<ipython-input-15-1aafbbd01230>\u001b[0m in \u001b[0;36m<module>\u001b[0;34m\u001b[0m\n\u001b[1;32m     10\u001b[0m                  \u001b[0moptimizer\u001b[0m \u001b[0;34m=\u001b[0m \u001b[0mtf\u001b[0m\u001b[0;34m.\u001b[0m\u001b[0mkeras\u001b[0m\u001b[0;34m.\u001b[0m\u001b[0moptimizers\u001b[0m\u001b[0;34m.\u001b[0m\u001b[0mAdam\u001b[0m\u001b[0;34m(\u001b[0m\u001b[0mlearning_rate\u001b[0m \u001b[0;34m=\u001b[0m \u001b[0;36m0.001\u001b[0m\u001b[0;34m)\u001b[0m\u001b[0;34m,\u001b[0m\u001b[0;34m\u001b[0m\u001b[0;34m\u001b[0m\u001b[0m\n\u001b[1;32m     11\u001b[0m                  metrics = [\"accuracy\"])\n\u001b[0;32m---> 12\u001b[0;31m \u001b[0mhistory_10\u001b[0m \u001b[0;34m=\u001b[0m \u001b[0mmodel_10\u001b[0m\u001b[0;34m.\u001b[0m\u001b[0mfit\u001b[0m\u001b[0;34m(\u001b[0m\u001b[0mtrain_data_norm\u001b[0m\u001b[0;34m,\u001b[0m\u001b[0mtrain_labels\u001b[0m\u001b[0;34m,\u001b[0m\u001b[0mepochs\u001b[0m\u001b[0;34m=\u001b[0m\u001b[0;36m20\u001b[0m\u001b[0;34m,\u001b[0m\u001b[0mvalidation_data\u001b[0m \u001b[0;34m=\u001b[0m \u001b[0;34m(\u001b[0m\u001b[0mtest_data_norm\u001b[0m\u001b[0;34m,\u001b[0m\u001b[0mtest_labels\u001b[0m\u001b[0;34m)\u001b[0m\u001b[0;34m)\u001b[0m\u001b[0;34m\u001b[0m\u001b[0;34m\u001b[0m\u001b[0m\n\u001b[0m",
            "\u001b[0;31mNameError\u001b[0m: name 'train_data_norm' is not defined"
          ]
        }
      ]
    },
    {
      "cell_type": "markdown",
      "source": [
        "#Evaluating our multi-class classification model \n",
        "To evaluate our multi-class classification model we could:\n",
        "*Evaluate its performance using other classification metrics\n",
        "*Asses some its predict\n",
        "*Improve its results"
      ],
      "metadata": {
        "id": "4sy4wE5vUBy3"
      }
    },
    {
      "cell_type": "code",
      "source": [
        "# Note: The following confusion matrix code is a remix of Scikit-Learn's \n",
        "# plot_confusion_matrix function - https://scikit-learn.org/stable/modules/generated/sklearn.metrics.plot_confusion_matrix.html\n",
        "# and Made with ML's introductory notebook - https://github.com/GokuMohandas/MadeWithML/blob/main/notebooks/08_Neural_Networks.ipynb\n",
        "import itertools\n",
        "from sklearn.metrics import confusion_matrix\n",
        "\n",
        "# Our function needs a different name to sklearn's plot_confusion_matrix\n",
        "def make_confusion_matrix(y_true, y_pred, classes=None, figsize=(10, 10), text_size=15): \n",
        "  \"\"\"Makes a labelled confusion matrix comparing predictions and ground truth labels.\n",
        "\n",
        "  If classes is passed, confusion matrix will be labelled, if not, integer class values\n",
        "  will be used.\n",
        "\n",
        "  Args:\n",
        "    y_true: Array of truth labels (must be same shape as y_pred).\n",
        "    y_pred: Array of predicted labels (must be same shape as y_true).\n",
        "    classes: Array of class labels (e.g. string form). If `None`, integer labels are used.\n",
        "    figsize: Size of output figure (default=(10, 10)).\n",
        "    text_size: Size of output figure text (default=15).\n",
        "  \n",
        "  Returns:\n",
        "    A labelled confusion matrix plot comparing y_true and y_pred.\n",
        "\n",
        "  Example usage:\n",
        "    make_confusion_matrix(y_true=test_labels, # ground truth test labels\n",
        "                          y_pred=y_preds, # predicted labels\n",
        "                          classes=class_names, # array of class label names\n",
        "                          figsize=(15, 15),\n",
        "                          text_size=10)\n",
        "  \"\"\"  \n",
        "  # Create the confustion matrix\n",
        "  cm = confusion_matrix(y_true, y_pred)\n",
        "  cm_norm = cm.astype(\"float\") / cm.sum(axis=1)[:, np.newaxis] # normalize it\n",
        "  n_classes = cm.shape[0] # find the number of classes we're dealing with\n",
        "\n",
        "  # Plot the figure and make it pretty\n",
        "  fig, ax = plt.subplots(figsize=figsize)\n",
        "  cax = ax.matshow(cm, cmap=plt.cm.Blues) # colors will represent how 'correct' a class is, darker == better\n",
        "  fig.colorbar(cax)\n",
        "\n",
        "  # Are there a list of classes?\n",
        "  if classes:\n",
        "    labels = classes\n",
        "  else:\n",
        "    labels = np.arange(cm.shape[0])\n",
        "  \n",
        "  # Label the axes\n",
        "  ax.set(title=\"Confusion Matrix\",\n",
        "         xlabel=\"Predicted label\",\n",
        "         ylabel=\"True label\",\n",
        "         xticks=np.arange(n_classes), # create enough axis slots for each class\n",
        "         yticks=np.arange(n_classes), \n",
        "         xticklabels=labels, # axes will labeled with class names (if they exist) or ints\n",
        "         yticklabels=labels)\n",
        "  \n",
        "  # Make x-axis labels appear on bottom\n",
        "  ax.xaxis.set_label_position(\"bottom\")\n",
        "  ax.xaxis.tick_bottom()\n",
        "\n",
        "  # Set the threshold for different colors\n",
        "  threshold = (cm.max() + cm.min()) / 2.\n",
        "\n",
        "  # Plot the text on each cell\n",
        "  for i, j in itertools.product(range(cm.shape[0]), range(cm.shape[1])):\n",
        "    plt.text(j, i, f\"{cm[i, j]} ({cm_norm[i, j]*100:.1f}%)\",\n",
        "             horizontalalignment=\"center\",\n",
        "             color=\"white\" if cm[i, j] > threshold else \"black\",\n",
        "             size=text_size)"
      ],
      "metadata": {
        "id": "e3D5x9GcUmHv"
      },
      "execution_count": null,
      "outputs": []
    },
    {
      "cell_type": "code",
      "source": [
        "class_names\n"
      ],
      "metadata": {
        "colab": {
          "base_uri": "https://localhost:8080/"
        },
        "id": "RaIwawmWVxjq",
        "outputId": "a312c7a6-57b6-48fd-c6f7-437bad922a0f"
      },
      "execution_count": null,
      "outputs": [
        {
          "output_type": "execute_result",
          "data": {
            "text/plain": [
              "['T_shirt/top',\n",
              " 'Trousers',\n",
              " 'Pullover',\n",
              " 'Dress',\n",
              " 'Coat',\n",
              " 'Sandal',\n",
              " 'Shirt',\n",
              " 'Sneaker',\n",
              " 'Bag',\n",
              " 'Ankle Boot']"
            ]
          },
          "metadata": {},
          "execution_count": 88
        }
      ]
    },
    {
      "cell_type": "code",
      "source": [
        "Y_probs = model_10.predict(test_data_norm)\n",
        "Y_probs[:5]"
      ],
      "metadata": {
        "colab": {
          "base_uri": "https://localhost:8080/"
        },
        "id": "5Q9XCqZRV67m",
        "outputId": "9ae0f3e6-c5e1-4580-9545-9a4bd508754d"
      },
      "execution_count": null,
      "outputs": [
        {
          "output_type": "stream",
          "name": "stdout",
          "text": [
            "313/313 [==============================] - 1s 4ms/step\n"
          ]
        },
        {
          "output_type": "execute_result",
          "data": {
            "text/plain": [
              "array([[2.1917418e-11, 1.9602103e-11, 3.9550401e-14, 1.0760269e-13,\n",
              "        2.0707568e-16, 2.8707752e-02, 4.5633073e-14, 4.5781702e-02,\n",
              "        8.4685709e-08, 9.2551041e-01],\n",
              "       [1.3075377e-02, 1.6152479e-05, 4.6858051e-01, 3.8020010e-03,\n",
              "        2.8422877e-01, 1.4932705e-03, 2.2446869e-01, 5.1718729e-04,\n",
              "        3.5470501e-03, 2.7089362e-04],\n",
              "       [1.0467251e-03, 9.9727452e-01, 2.6699807e-11, 1.6784345e-03,\n",
              "        1.2725868e-10, 1.9657731e-09, 4.1045436e-07, 5.9191735e-22,\n",
              "        2.6670918e-13, 6.7673783e-33],\n",
              "       [3.9764831e-04, 9.9377537e-01, 1.6377557e-11, 5.8267382e-03,\n",
              "        2.7756550e-10, 1.7524185e-09, 2.2748965e-07, 5.8553422e-21,\n",
              "        4.6655657e-12, 1.3262151e-32],\n",
              "       [2.4919853e-01, 2.1138038e-03, 1.5052092e-01, 2.9187856e-02,\n",
              "        6.5962054e-02, 2.4139017e-03, 5.0041229e-01, 1.4439958e-06,\n",
              "        1.8917555e-04, 2.1528873e-08]], dtype=float32)"
            ]
          },
          "metadata": {},
          "execution_count": 90
        }
      ]
    },
    {
      "cell_type": "code",
      "source": [
        "Y_probs[1], class_names[tf.argmax(Y_probs[1])]"
      ],
      "metadata": {
        "colab": {
          "base_uri": "https://localhost:8080/"
        },
        "id": "DfYZuB8WWRY7",
        "outputId": "a422d23a-61ca-4b94-9039-ec35ce86ca35"
      },
      "execution_count": null,
      "outputs": [
        {
          "output_type": "execute_result",
          "data": {
            "text/plain": [
              "(array([1.3075377e-02, 1.6152479e-05, 4.6858051e-01, 3.8020010e-03,\n",
              "        2.8422877e-01, 1.4932705e-03, 2.2446869e-01, 5.1718729e-04,\n",
              "        3.5470501e-03, 2.7089362e-04], dtype=float32), 'Pullover')"
            ]
          },
          "metadata": {},
          "execution_count": 93
        }
      ]
    },
    {
      "cell_type": "code",
      "source": [
        "#Creating a confusion matrix \n",
        "from sklearn.metrics import confusion_matrix\n",
        "# confusion_matrix(y_true=test_labels, \n",
        "#                  y_pred=Y_preds)\n",
        "make_confusion_matrix(y_true=test_labels, \n",
        "                      y_pred=Y_probs,\n",
        "                      classes=class_names,\n",
        "                      figsize=(15, 15),\n",
        "                      text_size=10)"
      ],
      "metadata": {
        "colab": {
          "base_uri": "https://localhost:8080/",
          "height": 235
        },
        "id": "SzlkY2NkW_53",
        "outputId": "8d1aab44-8974-4978-f705-c07a1234cb46"
      },
      "execution_count": null,
      "outputs": [
        {
          "output_type": "error",
          "ename": "TypeError",
          "evalue": "ignored",
          "traceback": [
            "\u001b[0;31m---------------------------------------------------------------------------\u001b[0m",
            "\u001b[0;31mTypeError\u001b[0m                                 Traceback (most recent call last)",
            "\u001b[0;32m<ipython-input-110-27a872c537a5>\u001b[0m in \u001b[0;36m<module>\u001b[0;34m\u001b[0m\n\u001b[1;32m      3\u001b[0m \u001b[0;31m# confusion_matrix(y_true=test_labels,\u001b[0m\u001b[0;34m\u001b[0m\u001b[0;34m\u001b[0m\u001b[0;34m\u001b[0m\u001b[0m\n\u001b[1;32m      4\u001b[0m \u001b[0;31m#                  y_pred=Y_preds)\u001b[0m\u001b[0;34m\u001b[0m\u001b[0;34m\u001b[0m\u001b[0;34m\u001b[0m\u001b[0m\n\u001b[0;32m----> 5\u001b[0;31m make_confusion_matrix(y_true=test_labels, \n\u001b[0m\u001b[1;32m      6\u001b[0m                       \u001b[0my_pred\u001b[0m\u001b[0;34m=\u001b[0m\u001b[0mY_probs\u001b[0m\u001b[0;34m,\u001b[0m\u001b[0;34m\u001b[0m\u001b[0;34m\u001b[0m\u001b[0m\n\u001b[1;32m      7\u001b[0m                       \u001b[0mclasses\u001b[0m\u001b[0;34m=\u001b[0m\u001b[0mclass_names\u001b[0m\u001b[0;34m,\u001b[0m\u001b[0;34m\u001b[0m\u001b[0;34m\u001b[0m\u001b[0m\n",
            "\u001b[0;31mTypeError\u001b[0m: make_confusion_matrix() got an unexpected keyword argument 'y_true'"
          ]
        }
      ]
    },
    {
      "cell_type": "code",
      "source": [
        "test_labels.shape,Y_probs.shape"
      ],
      "metadata": {
        "colab": {
          "base_uri": "https://localhost:8080/"
        },
        "id": "ew1HhvLzX0i5",
        "outputId": "e81aed54-0189-4c71-c96f-4f576b89258f"
      },
      "execution_count": null,
      "outputs": [
        {
          "output_type": "execute_result",
          "data": {
            "text/plain": [
              "((10000,), (10000, 10))"
            ]
          },
          "metadata": {},
          "execution_count": 112
        }
      ]
    },
    {
      "cell_type": "code",
      "source": [
        "#Visualize the data more for a better understanding \n",
        "import random\n",
        "import matplotlib.pyplot as plt\n",
        "def plot_random_image(model,images,true_labels,classes):\n",
        "  #Set up a random integer \n",
        "  i = random.randint(0,len(images))\n",
        "  #Create predictions and targets\n",
        "  target_image = images[i]\n",
        "  pred_probs = model.predict(target_image.reshape(1,28,28))\n",
        "  pred_label = classes[pred_probs.argmax()]\n",
        "  true_label = classes[true_labels[i]]\n",
        "\n",
        "  #Plot the image \n",
        "  plt.imshow(target_image, cmap=plt.cm.binary)\n",
        "\n",
        "  #change the color of the titles depending on whether the predictions are right or wrong\n",
        "\n",
        "  if pred_label == true_label:\n",
        "    color = \"green\"\n",
        "  else:\n",
        "    color = \"red\"\n",
        "\n",
        "  #Add xlabel information \n",
        "  plt.xlabel(\"Pred: {} {:2.0f}% (True: {})\".format(pred_label,\n",
        "                                                   100*tf.reduce_max(pred_probs),\n",
        "                                                   true_label),color=color)"
      ],
      "metadata": {
        "id": "jgB1AjXqcwFC"
      },
      "execution_count": null,
      "outputs": []
    },
    {
      "cell_type": "code",
      "source": [
        "plot_random_image(model = model_10,images = test_data_norm,true_labels = test_labels,classes=class_names)"
      ],
      "metadata": {
        "colab": {
          "base_uri": "https://localhost:8080/",
          "height": 183
        },
        "id": "_E0b5fWwzAM7",
        "outputId": "fc1ac19a-56ca-4ac6-a2fd-5e42a1d812ef"
      },
      "execution_count": null,
      "outputs": [
        {
          "output_type": "error",
          "ename": "NameError",
          "evalue": "ignored",
          "traceback": [
            "\u001b[0;31m---------------------------------------------------------------------------\u001b[0m",
            "\u001b[0;31mNameError\u001b[0m                                 Traceback (most recent call last)",
            "\u001b[0;32m<ipython-input-14-1b9a4a6b38e0>\u001b[0m in \u001b[0;36m<module>\u001b[0;34m\u001b[0m\n\u001b[0;32m----> 1\u001b[0;31m \u001b[0mplot_random_image\u001b[0m\u001b[0;34m(\u001b[0m\u001b[0mmodel\u001b[0m \u001b[0;34m=\u001b[0m \u001b[0mmodel_10\u001b[0m\u001b[0;34m,\u001b[0m\u001b[0mimages\u001b[0m \u001b[0;34m=\u001b[0m \u001b[0mtest_data_norm\u001b[0m\u001b[0;34m,\u001b[0m\u001b[0mtrue_labels\u001b[0m \u001b[0;34m=\u001b[0m \u001b[0mtest_labels\u001b[0m\u001b[0;34m,\u001b[0m\u001b[0mclasses\u001b[0m\u001b[0;34m=\u001b[0m\u001b[0mclass_names\u001b[0m\u001b[0;34m)\u001b[0m\u001b[0;34m\u001b[0m\u001b[0;34m\u001b[0m\u001b[0m\n\u001b[0m",
            "\u001b[0;31mNameError\u001b[0m: name 'model_10' is not defined"
          ]
        }
      ]
    },
    {
      "cell_type": "code",
      "source": [
        "#What patterns is our model learning \n",
        "\n",
        "model_10.layers\n"
      ],
      "metadata": {
        "colab": {
          "base_uri": "https://localhost:8080/"
        },
        "id": "HzcqmH9nz_-Z",
        "outputId": "f7249070-682a-4f27-baf2-839c89639a6d"
      },
      "execution_count": null,
      "outputs": [
        {
          "output_type": "execute_result",
          "data": {
            "text/plain": [
              "[<keras.layers.reshaping.flatten.Flatten at 0x7fd13f988c40>,\n",
              " <keras.layers.core.dense.Dense at 0x7fd13860ec70>,\n",
              " <keras.layers.core.dense.Dense at 0x7fd13860e250>,\n",
              " <keras.layers.core.dense.Dense at 0x7fd13860ec10>]"
            ]
          },
          "metadata": {},
          "execution_count": 126
        }
      ]
    },
    {
      "cell_type": "code",
      "source": [
        "#Get the patterns of a layer in our network\n",
        "weights,biases = model_10.layers[1].get_weights()\n",
        "weights,weights.shape"
      ],
      "metadata": {
        "colab": {
          "base_uri": "https://localhost:8080/"
        },
        "id": "sXhqfbdl1TdB",
        "outputId": "4f8093f2-1a8b-4949-da7c-6b4cfc6c60c8"
      },
      "execution_count": null,
      "outputs": [
        {
          "output_type": "execute_result",
          "data": {
            "text/plain": [
              "(array([[ 0.79259634, -0.54193807, -0.56949013, -0.8077723 ],\n",
              "        [ 1.0812879 ,  0.09911548, -0.11673807, -0.28556368],\n",
              "        [ 0.45590192, -0.16340347,  0.97923285, -1.0787514 ],\n",
              "        ...,\n",
              "        [-0.6623712 , -0.11864455, -0.5513248 , -0.2278705 ],\n",
              "        [-0.19406947,  0.5982205 , -0.59626955, -0.1818839 ],\n",
              "        [ 0.14674881,  0.11107579, -0.32708186, -0.24117944]],\n",
              "       dtype=float32), (784, 4))"
            ]
          },
          "metadata": {},
          "execution_count": 127
        }
      ]
    },
    {
      "cell_type": "code",
      "source": [
        "biases"
      ],
      "metadata": {
        "colab": {
          "base_uri": "https://localhost:8080/"
        },
        "id": "dL0bWhGI1nX4",
        "outputId": "7d544221-928d-49f4-b6a1-4a2137a2e9ff"
      },
      "execution_count": null,
      "outputs": [
        {
          "output_type": "execute_result",
          "data": {
            "text/plain": [
              "array([ 1.2102108, -1.7144632, -0.1996024,  1.6043324], dtype=float32)"
            ]
          },
          "metadata": {},
          "execution_count": 128
        }
      ]
    },
    {
      "cell_type": "code",
      "source": [
        "#Exercises!!!\n",
        "# tf.random.set_seed(42)\n",
        "from sklearn.datasets import make_moons\n",
        "\n",
        "X,Y = make_moons(n_samples = 100,noise=0.1)\n",
        "\n",
        "for i in X:\n",
        "  if (i[0]<0.0):\n",
        "    i[0] = i[0]*-1\n",
        "  if (i[1]<0.0):\n",
        "    i[1]= i[1]*-1\n",
        "X"
      ],
      "metadata": {
        "id": "Two4h4ms27T6",
        "colab": {
          "base_uri": "https://localhost:8080/"
        },
        "outputId": "e5cc003a-04ef-479b-aa9e-c9f2fafead07"
      },
      "execution_count": null,
      "outputs": [
        {
          "output_type": "execute_result",
          "data": {
            "text/plain": [
              "array([[1.99391929, 0.24327379],\n",
              "       [1.40062337, 0.20251645],\n",
              "       [2.10476395, 0.39683765],\n",
              "       [0.2466508 , 0.92332062],\n",
              "       [0.16453876, 1.04223641],\n",
              "       [0.13370143, 0.33074271],\n",
              "       [0.83772865, 0.04858591],\n",
              "       [0.49664625, 0.33600104],\n",
              "       [0.92707707, 0.15230413],\n",
              "       [0.90548925, 0.35205008],\n",
              "       [0.7914624 , 0.12351561],\n",
              "       [0.12015124, 0.01458871],\n",
              "       [0.55422843, 0.86708161],\n",
              "       [1.64677905, 0.04753718],\n",
              "       [0.49926054, 0.82279447],\n",
              "       [0.21704629, 0.02908403],\n",
              "       [1.05325861, 0.29080058],\n",
              "       [1.87221408, 0.14128627],\n",
              "       [0.8365788 , 0.30628257],\n",
              "       [0.47070876, 0.19020623],\n",
              "       [0.82797857, 0.37537213],\n",
              "       [0.02841348, 0.58663566],\n",
              "       [0.85839722, 0.370948  ],\n",
              "       [0.61411048, 0.58847907],\n",
              "       [0.56769238, 0.66577159],\n",
              "       [0.19541324, 1.13801404],\n",
              "       [1.83797638, 0.12857762],\n",
              "       [0.58553426, 0.90272633],\n",
              "       [1.07652971, 0.53992076],\n",
              "       [0.40393153, 0.93324622],\n",
              "       [0.26368142, 0.19008302],\n",
              "       [0.28043685, 0.91859502],\n",
              "       [2.03667382, 0.27104618],\n",
              "       [0.52009694, 0.88391839],\n",
              "       [0.23923063, 0.07308824],\n",
              "       [0.38389269, 0.20065778],\n",
              "       [1.13822066, 0.13524504],\n",
              "       [1.43388037, 0.56601784],\n",
              "       [0.01571758, 0.86360957],\n",
              "       [0.73085042, 0.6931746 ],\n",
              "       [0.56362662, 0.40679381],\n",
              "       [0.13504764, 1.0019745 ],\n",
              "       [0.54121558, 0.66254666],\n",
              "       [1.82345671, 0.22090132],\n",
              "       [1.88407541, 0.20488179],\n",
              "       [1.54953161, 0.49852625],\n",
              "       [0.78213674, 0.77672739],\n",
              "       [1.0972786 , 0.31257468],\n",
              "       [1.13816559, 0.04900655],\n",
              "       [0.75372066, 0.52556636],\n",
              "       [0.26164293, 0.18311118],\n",
              "       [0.08012847, 0.24654515],\n",
              "       [1.94405171, 0.14723167],\n",
              "       [1.86786295, 0.0114371 ],\n",
              "       [0.64269633, 0.6310226 ],\n",
              "       [0.50879323, 0.81989445],\n",
              "       [1.73307272, 0.13700186],\n",
              "       [0.64624863, 0.87894245],\n",
              "       [0.05952033, 0.17242666],\n",
              "       [0.73722289, 0.52682682],\n",
              "       [2.09171359, 0.38909057],\n",
              "       [0.9467551 , 0.47307795],\n",
              "       [1.94067544, 0.17881718],\n",
              "       [0.73286197, 0.57124025],\n",
              "       [1.06573145, 0.56584178],\n",
              "       [0.62775849, 0.74346124],\n",
              "       [0.79816843, 0.29047401],\n",
              "       [1.26582118, 0.51976373],\n",
              "       [0.07920928, 0.84328839],\n",
              "       [1.47287297, 0.29805042],\n",
              "       [0.74943369, 0.50369632],\n",
              "       [0.43885991, 0.85229584],\n",
              "       [0.7833459 , 0.56938072],\n",
              "       [0.02309274, 0.8788375 ],\n",
              "       [0.89096207, 0.00753925],\n",
              "       [0.82121131, 0.46688653],\n",
              "       [0.86944736, 0.2788462 ],\n",
              "       [0.55526715, 0.23559233],\n",
              "       [1.25824512, 0.28199727],\n",
              "       [1.57549588, 0.01319315],\n",
              "       [0.33029691, 0.36354361],\n",
              "       [0.75305234, 0.59666881],\n",
              "       [1.4169305 , 0.53797232],\n",
              "       [0.58023734, 0.85207051],\n",
              "       [0.28327848, 0.82364145],\n",
              "       [0.24636623, 0.52053682],\n",
              "       [1.35215583, 0.42531562],\n",
              "       [0.02718251, 1.13586131],\n",
              "       [0.57587151, 0.43367662],\n",
              "       [0.11862068, 0.04216763],\n",
              "       [0.12477114, 0.85128964],\n",
              "       [0.93796297, 0.35687313],\n",
              "       [0.29797366, 0.74283702],\n",
              "       [0.96421584, 0.60677638],\n",
              "       [0.10159863, 0.07008291],\n",
              "       [0.99917214, 0.14579193],\n",
              "       [0.25210135, 0.38635534],\n",
              "       [1.97259662, 0.50393379],\n",
              "       [0.55062666, 0.91607834],\n",
              "       [1.07912546, 0.32512495]])"
            ]
          },
          "metadata": {},
          "execution_count": 3
        }
      ]
    },
    {
      "cell_type": "code",
      "source": [
        "X.min(),X.max()\n",
        "X = X/X.max()\n",
        "X.max(),X.min()"
      ],
      "metadata": {
        "colab": {
          "base_uri": "https://localhost:8080/"
        },
        "id": "NNG8qzzi1cbq",
        "outputId": "ef7a4b12-27eb-450c-8924-28aaadf2c487"
      },
      "execution_count": null,
      "outputs": [
        {
          "output_type": "execute_result",
          "data": {
            "text/plain": [
              "(1.0, 0.0035819913852215743)"
            ]
          },
          "metadata": {},
          "execution_count": 4
        }
      ]
    },
    {
      "cell_type": "code",
      "source": [
        "\n",
        "#Split the data in train and test!! \n",
        "from sklearn.model_selection import train_test_split\n",
        "train_data,test_data,train_labels,test_labels = train_test_split(X,Y,test_size=0.2,random_state=42)\n",
        "len(train_data),len(train_labels),len(test_data),len(test_labels)"
      ],
      "metadata": {
        "colab": {
          "base_uri": "https://localhost:8080/"
        },
        "id": "Tk4jXrVt2iyS",
        "outputId": "e56d55be-b0f2-4687-8066-7bbabc5de06c"
      },
      "execution_count": null,
      "outputs": [
        {
          "output_type": "execute_result",
          "data": {
            "text/plain": [
              "(80, 80, 20, 20)"
            ]
          },
          "metadata": {},
          "execution_count": 5
        }
      ]
    },
    {
      "cell_type": "code",
      "source": [
        "#Training the model!!\n",
        "\n",
        "import tensorflow as tf\n",
        "tf.random.set_seed(42)\n",
        "\n",
        "model_ex = tf.keras.Sequential([\n",
        "    tf.keras.layers.Dense(100,activation=\"relu\"),\n",
        "    tf.keras.layers.Dense(100,activation=\"relu\"),\n",
        "    tf.keras.layers.Dense(100,activation=\"relu\"),\n",
        "    tf.keras.layers.Dense(100,activation=\"relu\"),\n",
        "    tf.keras.layers.Dense(1,activation=\"sigmoid\")\n",
        "])\n",
        "\n",
        "model_ex.compile(loss = tf.keras.losses.BinaryCrossentropy(),\n",
        "                 optimizer = tf.keras.optimizers.Adam(),\n",
        "                 metrics=[\"accuracy\"])\n",
        "\n",
        "model_ex.fit(train_data,train_labels,epochs=500,verbose=0)\n",
        "model_ex.evaluate(test_data,test_labels)"
      ],
      "metadata": {
        "colab": {
          "base_uri": "https://localhost:8080/"
        },
        "id": "gSQMjyKs2pcg",
        "outputId": "ca0eefc5-9c26-4a3f-ef63-1f71e4eb476d"
      },
      "execution_count": null,
      "outputs": [
        {
          "output_type": "stream",
          "name": "stdout",
          "text": [
            "1/1 [==============================] - 0s 213ms/step - loss: 0.4546 - accuracy: 0.9500\n"
          ]
        },
        {
          "output_type": "execute_result",
          "data": {
            "text/plain": [
              "[0.4545799791812897, 0.949999988079071]"
            ]
          },
          "metadata": {},
          "execution_count": 6
        }
      ]
    },
    {
      "cell_type": "code",
      "source": [
        "plot_decision_boundary(model = model_ex, X = train_data, y = train_labels)"
      ],
      "metadata": {
        "colab": {
          "base_uri": "https://localhost:8080/",
          "height": 300
        },
        "id": "tgqnZgWba4PK",
        "outputId": "5ebe6ca1-c425-4485-98aa-e2c03073fe72"
      },
      "execution_count": null,
      "outputs": [
        {
          "output_type": "stream",
          "name": "stdout",
          "text": [
            "313/313 [==============================] - 1s 2ms/step\n",
            "doing binary classifcation...\n"
          ]
        },
        {
          "output_type": "display_data",
          "data": {
            "text/plain": [
              "<Figure size 432x288 with 1 Axes>"
            ],
            "image/png": "[encoded data removed]"
          },
          "metadata": {
            "needs_background": "light"
          }
        }
      ]
    },
    {
      "cell_type": "code",
      "source": [
        "plot_decision_boundary(model=model_ex,X=test_data,y=test_labels)"
      ],
      "metadata": {
        "colab": {
          "base_uri": "https://localhost:8080/",
          "height": 300
        },
        "id": "Jate6P_tjX3N",
        "outputId": "d4be190e-b1d6-4bb7-a589-72510f6239f1"
      },
      "execution_count": null,
      "outputs": [
        {
          "output_type": "stream",
          "name": "stdout",
          "text": [
            "313/313 [==============================] - 1s 2ms/step\n",
            "doing binary classifcation...\n"
          ]
        },
        {
          "output_type": "display_data",
          "data": {
            "text/plain": [
              "<Figure size 432x288 with 1 Axes>"
            ],
            "image/png": "[encoded data removed]"
          },
          "metadata": {
            "needs_background": "light"
          }
        }
      ]
    },
    {
      "cell_type": "code",
      "source": [
        "import tensorflow as tf \n",
        "from tensorflow.keras.datasets import fashion_mnist \n",
        "\n",
        "\n",
        "(train_data, train_labels), (test_data, test_labels) = fashion_mnist.load_data()\n",
        "train_data[0], train_labels[0]\n",
        "class_names"
      ],
      "metadata": {
        "colab": {
          "base_uri": "https://localhost:8080/",
          "height": 200
        },
        "id": "v99SjYqGk4Ci",
        "outputId": "7c294334-c229-47be-dbbc-c9b84a0ba974"
      },
      "execution_count": null,
      "outputs": [
        {
          "output_type": "error",
          "ename": "NameError",
          "evalue": "ignored",
          "traceback": [
            "\u001b[0;31m---------------------------------------------------------------------------\u001b[0m",
            "\u001b[0;31mNameError\u001b[0m                                 Traceback (most recent call last)",
            "\u001b[0;32m<ipython-input-21-94ae9c918bf0>\u001b[0m in \u001b[0;36m<module>\u001b[0;34m\u001b[0m\n\u001b[1;32m      5\u001b[0m \u001b[0;34m(\u001b[0m\u001b[0mtrain_data\u001b[0m\u001b[0;34m,\u001b[0m \u001b[0mtrain_labels\u001b[0m\u001b[0;34m)\u001b[0m\u001b[0;34m,\u001b[0m \u001b[0;34m(\u001b[0m\u001b[0mtest_data\u001b[0m\u001b[0;34m,\u001b[0m \u001b[0mtest_labels\u001b[0m\u001b[0;34m)\u001b[0m \u001b[0;34m=\u001b[0m \u001b[0mfashion_mnist\u001b[0m\u001b[0;34m.\u001b[0m\u001b[0mload_data\u001b[0m\u001b[0;34m(\u001b[0m\u001b[0;34m)\u001b[0m\u001b[0;34m\u001b[0m\u001b[0;34m\u001b[0m\u001b[0m\n\u001b[1;32m      6\u001b[0m \u001b[0mtrain_data\u001b[0m\u001b[0;34m[\u001b[0m\u001b[0;36m0\u001b[0m\u001b[0;34m]\u001b[0m\u001b[0;34m,\u001b[0m \u001b[0mtrain_labels\u001b[0m\u001b[0;34m[\u001b[0m\u001b[0;36m0\u001b[0m\u001b[0;34m]\u001b[0m\u001b[0;34m\u001b[0m\u001b[0;34m\u001b[0m\u001b[0m\n\u001b[0;32m----> 7\u001b[0;31m \u001b[0mclass_names\u001b[0m\u001b[0;34m\u001b[0m\u001b[0;34m\u001b[0m\u001b[0m\n\u001b[0m",
            "\u001b[0;31mNameError\u001b[0m: name 'class_names' is not defined"
          ]
        }
      ]
    },
    {
      "cell_type": "code",
      "source": [
        "#Normalize the data \n",
        "\n",
        "\n",
        "\n",
        "train_data = train_data/(train_data.max())\n",
        "test_data = test_data/(test_data.max())\n",
        "\n",
        "train_labels = train_labels/(train_labels.max())\n",
        "test_labels = test_labels/(test_labels.max())\n",
        "\n",
        "test_labels\n",
        "# train_data.max(),test_data.max()"
      ],
      "metadata": {
        "colab": {
          "base_uri": "https://localhost:8080/"
        },
        "id": "9HUe6b9omX6a",
        "outputId": "087d4a56-d898-4e72-b4cd-0f0a720f5d45"
      },
      "execution_count": null,
      "outputs": [
        {
          "output_type": "execute_result",
          "data": {
            "text/plain": [
              "array([1.        , 0.22222222, 0.11111111, ..., 0.88888889, 0.11111111,\n",
              "       0.55555556])"
            ]
          },
          "metadata": {},
          "execution_count": 4
        }
      ]
    },
    {
      "cell_type": "code",
      "source": [
        "import tensorflow as tf\n",
        "tf.random.set_seed(42)\n",
        "\n",
        "model_ex_2 = tf.keras.Sequential([\n",
        "    tf.keras.layers.Flatten(input_shape=(28,28)),\n",
        "    tf.keras.layers.Dense(4,activation=\"relu\"),\n",
        "    tf.keras.layers.Dense(4,activation=\"relu\"),\n",
        "    tf.keras.layers.Dense(4,activation=\"relu\"),\n",
        "    tf.keras.layers.Dense(4,activation=\"relu\"),\n",
        "    tf.keras.layers.Dense(10,activation=\"softmax\")\n",
        "])\n",
        "\n",
        "model_ex_2.compile(loss = tf.keras.losses.SparseCategoricalCrossentropy(),\n",
        "                   optimizer = tf.keras.optimizers.Adam(),\n",
        "                   metrics = [\"accuracy\"])\n",
        "\n",
        "model_ex_2.fit(train_data,train_labels,epochs = 50)\n",
        "model_ex_2.evaluate(test_data,test_labels)"
      ],
      "metadata": {
        "colab": {
          "base_uri": "https://localhost:8080/"
        },
        "id": "_cPzUZhQm-ip",
        "outputId": "92e3c58f-70ed-438b-8758-3fe64b2fdd36"
      },
      "execution_count": null,
      "outputs": [
        {
          "output_type": "stream",
          "name": "stdout",
          "text": [
            "Epoch 1/50\n",
            "1875/1875 [==============================] - 9s 4ms/step - loss: 1.6988 - accuracy: 0.2794\n",
            "Epoch 2/50\n",
            "1875/1875 [==============================] - 6s 3ms/step - loss: 1.5336 - accuracy: 0.3148\n",
            "Epoch 3/50\n",
            "1875/1875 [==============================] - 5s 3ms/step - loss: 1.4948 - accuracy: 0.3511\n",
            "Epoch 4/50\n",
            "1875/1875 [==============================] - 6s 3ms/step - loss: 1.4301 - accuracy: 0.4119\n",
            "Epoch 5/50\n",
            "1875/1875 [==============================] - 5s 3ms/step - loss: 1.3305 - accuracy: 0.4243\n",
            "Epoch 6/50\n",
            "1875/1875 [==============================] - 6s 3ms/step - loss: 1.2835 - accuracy: 0.4304\n",
            "Epoch 7/50\n",
            "1875/1875 [==============================] - 5s 3ms/step - loss: 1.2670 - accuracy: 0.4349\n",
            "Epoch 8/50\n",
            "1875/1875 [==============================] - 6s 3ms/step - loss: 1.2446 - accuracy: 0.4364\n",
            "Epoch 9/50\n",
            "1875/1875 [==============================] - 6s 3ms/step - loss: 1.2404 - accuracy: 0.4349\n",
            "Epoch 10/50\n",
            "1875/1875 [==============================] - 5s 3ms/step - loss: 1.2229 - accuracy: 0.4403\n",
            "Epoch 11/50\n",
            "1875/1875 [==============================] - 6s 3ms/step - loss: 1.2092 - accuracy: 0.4451\n",
            "Epoch 12/50\n",
            "1875/1875 [==============================] - 6s 3ms/step - loss: 1.1884 - accuracy: 0.4581\n",
            "Epoch 13/50\n",
            "1875/1875 [==============================] - 6s 3ms/step - loss: 1.1802 - accuracy: 0.4688\n",
            "Epoch 14/50\n",
            "1875/1875 [==============================] - 5s 3ms/step - loss: 1.1812 - accuracy: 0.4660\n",
            "Epoch 15/50\n",
            "1875/1875 [==============================] - 7s 4ms/step - loss: 1.1483 - accuracy: 0.5044\n",
            "Epoch 16/50\n",
            "1875/1875 [==============================] - 6s 3ms/step - loss: 1.1093 - accuracy: 0.5403\n",
            "Epoch 17/50\n",
            "1875/1875 [==============================] - 6s 3ms/step - loss: 1.0762 - accuracy: 0.5549\n",
            "Epoch 18/50\n",
            "1875/1875 [==============================] - 6s 3ms/step - loss: 1.0631 - accuracy: 0.5594\n",
            "Epoch 19/50\n",
            "1875/1875 [==============================] - 6s 3ms/step - loss: 1.0523 - accuracy: 0.5632\n",
            "Epoch 20/50\n",
            "1875/1875 [==============================] - 6s 3ms/step - loss: 1.0467 - accuracy: 0.5625\n",
            "Epoch 21/50\n",
            "1875/1875 [==============================] - 6s 3ms/step - loss: 1.0380 - accuracy: 0.5630\n",
            "Epoch 22/50\n",
            "1875/1875 [==============================] - 6s 3ms/step - loss: 1.0374 - accuracy: 0.5627\n",
            "Epoch 23/50\n",
            "1875/1875 [==============================] - 6s 3ms/step - loss: 1.0284 - accuracy: 0.5677\n",
            "Epoch 24/50\n",
            "1875/1875 [==============================] - 6s 3ms/step - loss: 1.0258 - accuracy: 0.5692\n",
            "Epoch 25/50\n",
            "1875/1875 [==============================] - 6s 3ms/step - loss: 1.0203 - accuracy: 0.5734\n",
            "Epoch 26/50\n",
            "1875/1875 [==============================] - 6s 3ms/step - loss: 1.0178 - accuracy: 0.5733\n",
            "Epoch 27/50\n",
            "1875/1875 [==============================] - 5s 3ms/step - loss: 1.0261 - accuracy: 0.5688\n",
            "Epoch 28/50\n",
            "1875/1875 [==============================] - 6s 3ms/step - loss: 1.0167 - accuracy: 0.5732\n",
            "Epoch 29/50\n",
            "1875/1875 [==============================] - 5s 3ms/step - loss: 1.0092 - accuracy: 0.5779\n",
            "Epoch 30/50\n",
            "1875/1875 [==============================] - 6s 3ms/step - loss: 1.0084 - accuracy: 0.5802\n",
            "Epoch 31/50\n",
            "1875/1875 [==============================] - 5s 3ms/step - loss: 1.0078 - accuracy: 0.5812\n",
            "Epoch 32/50\n",
            "1875/1875 [==============================] - 6s 3ms/step - loss: 1.0052 - accuracy: 0.5832\n",
            "Epoch 33/50\n",
            "1875/1875 [==============================] - 6s 3ms/step - loss: 0.9867 - accuracy: 0.5982\n",
            "Epoch 34/50\n",
            "1875/1875 [==============================] - 6s 3ms/step - loss: 0.9882 - accuracy: 0.5859\n",
            "Epoch 35/50\n",
            "1875/1875 [==============================] - 6s 3ms/step - loss: 0.9617 - accuracy: 0.6069\n",
            "Epoch 36/50\n",
            "1875/1875 [==============================] - 5s 3ms/step - loss: 0.9544 - accuracy: 0.6081\n",
            "Epoch 37/50\n",
            "1875/1875 [==============================] - 7s 4ms/step - loss: 0.9334 - accuracy: 0.6231\n",
            "Epoch 38/50\n",
            "1875/1875 [==============================] - 5s 3ms/step - loss: 0.9484 - accuracy: 0.6144\n",
            "Epoch 39/50\n",
            "1875/1875 [==============================] - 6s 3ms/step - loss: 0.9642 - accuracy: 0.6101\n",
            "Epoch 40/50\n",
            "1875/1875 [==============================] - 5s 3ms/step - loss: 0.9532 - accuracy: 0.6166\n",
            "Epoch 41/50\n",
            "1875/1875 [==============================] - 6s 3ms/step - loss: 0.9407 - accuracy: 0.6179\n",
            "Epoch 42/50\n",
            "1875/1875 [==============================] - 5s 3ms/step - loss: 0.9441 - accuracy: 0.6172\n",
            "Epoch 43/50\n",
            "1875/1875 [==============================] - 7s 3ms/step - loss: 0.9308 - accuracy: 0.6240\n",
            "Epoch 44/50\n",
            "1875/1875 [==============================] - 5s 3ms/step - loss: 0.9250 - accuracy: 0.6268\n",
            "Epoch 45/50\n",
            "1875/1875 [==============================] - 6s 3ms/step - loss: 0.9289 - accuracy: 0.6221\n",
            "Epoch 46/50\n",
            "1875/1875 [==============================] - 6s 3ms/step - loss: 0.9209 - accuracy: 0.6271\n",
            "Epoch 47/50\n",
            "1875/1875 [==============================] - 6s 3ms/step - loss: 0.9258 - accuracy: 0.6233\n",
            "Epoch 48/50\n",
            "1875/1875 [==============================] - 6s 3ms/step - loss: 0.9254 - accuracy: 0.6220\n",
            "Epoch 49/50\n",
            "1875/1875 [==============================] - 5s 3ms/step - loss: 0.9140 - accuracy: 0.6281\n",
            "Epoch 50/50\n",
            "1875/1875 [==============================] - 7s 4ms/step - loss: 0.9204 - accuracy: 0.6217\n",
            "313/313 [==============================] - 1s 2ms/step - loss: 0.9326 - accuracy: 0.6464\n"
          ]
        },
        {
          "output_type": "execute_result",
          "data": {
            "text/plain": [
              "[0.9325711131095886, 0.646399974822998]"
            ]
          },
          "metadata": {},
          "execution_count": 42
        }
      ]
    },
    {
      "cell_type": "code",
      "source": [
        "def softmax(data):\n",
        "  data = data.reshape(1, -1)\n",
        "  return tf.exp(data)/tf.reduce_sum(tf.exp(data), 1)  \n",
        "\n",
        "\n",
        "softmax(train_data)"
      ],
      "metadata": {
        "colab": {
          "base_uri": "https://localhost:8080/"
        },
        "id": "gZ8mDiNkpP_z",
        "outputId": "c838b71c-48d7-4095-f365-4649d6c6e771"
      },
      "execution_count": null,
      "outputs": [
        {
          "output_type": "execute_result",
          "data": {
            "text/plain": [
              "<tf.Tensor: shape=(1, 47040000), dtype=float64, numpy=\n",
              "array([[1.49433566e-08, 1.49433566e-08, 1.49433566e-08, ...,\n",
              "        1.49433566e-08, 1.49433566e-08, 1.49433566e-08]])>"
            ]
          },
          "metadata": {},
          "execution_count": 11
        }
      ]
    },
    {
      "cell_type": "code",
      "source": [
        "plot_random_image(model = model_ex_2,images = test_data,true_labels = test_labels,classes = class_names)"
      ],
      "metadata": {
        "colab": {
          "base_uri": "https://localhost:8080/",
          "height": 296
        },
        "id": "DSS5M6Ta_7Cc",
        "outputId": "f0975586-b538-484a-92be-364734587245"
      },
      "execution_count": null,
      "outputs": [
        {
          "output_type": "stream",
          "name": "stdout",
          "text": [
            "1/1 [==============================] - 0s 32ms/step\n"
          ]
        },
        {
          "output_type": "display_data",
          "data": {
            "text/plain": [
              "<Figure size 432x288 with 1 Axes>"
            ],
            "image/png": "[encoded data removed]"
          },
          "metadata": {
            "needs_background": "light"
          }
        }
      ]
    },
    {
      "cell_type": "code",
      "source": [
        "class_names"
      ],
      "metadata": {
        "colab": {
          "base_uri": "https://localhost:8080/"
        },
        "id": "3qwJrhyWDrfG",
        "outputId": "de375244-73a7-41c2-833b-252c0b57b3bb"
      },
      "execution_count": null,
      "outputs": [
        {
          "output_type": "execute_result",
          "data": {
            "text/plain": [
              "['T_shirt/top',\n",
              " 'Trousers',\n",
              " 'Pullover',\n",
              " 'Dress',\n",
              " 'Coat',\n",
              " 'Sandal',\n",
              " 'Shirt',\n",
              " 'Sneaker',\n",
              " 'Bag',\n",
              " 'Ankle Boot']"
            ]
          },
          "metadata": {},
          "execution_count": 45
        }
      ]
    },
    {
      "cell_type": "code",
      "source": [
        "import matplotlib.pyplot as plt\n",
        "def plot_random_image_me():\n",
        "  i = random.randint(0,len(images))\n",
        "  target_image = images[i]\n",
        "  plt.imshow(target_image)"
      ],
      "metadata": {
        "id": "2mQN54FAEBKU"
      },
      "execution_count": null,
      "outputs": []
    },
    {
      "cell_type": "code",
      "source": [],
      "metadata": {
        "id": "UnwrlB-8FsmA"
      },
      "execution_count": null,
      "outputs": []
    }
  ],
  "metadata": {
    "colab": {
      "provenance": []
    },
    "kernelspec": {
      "display_name": "Python 3",
      "name": "python3"
    },
    "language_info": {
      "name": "python"
    }
  },
  "nbformat": 4,
  "nbformat_minor": 0
}