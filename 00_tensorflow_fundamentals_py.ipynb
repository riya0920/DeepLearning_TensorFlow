{
  "nbformat": 4,
  "nbformat_minor": 0,
  "metadata": {
    "colab": {
      "provenance": []
    },
    "kernelspec": {
      "name": "python3",
      "display_name": "Python 3"
    },
    "language_info": {
      "name": "python"
    },
    "accelerator": "GPU",
    "gpuClass": "standard"
  },
  "cells": [
    {
      "cell_type": "code",
      "execution_count": null,
      "metadata": {
        "id": "By1xk_JwFyg6",
        "colab": {
          "base_uri": "https://localhost:8080/"
        },
        "outputId": "81c1a7a4-4fa7-4ff7-be4b-09bc314f22f7"
      },
      "outputs": [
        {
          "output_type": "stream",
          "name": "stdout",
          "text": [
            "2.11.0\n"
          ]
        }
      ],
      "source": [
        "#Fundamental concepts of tensors \n",
        "\n",
        "\n",
        "#Importing tensorflow!!\n",
        "import tensorflow as tf \n",
        "print(tf.__version__)"
      ]
    },
    {
      "cell_type": "code",
      "source": [
        "# Creating tensors!\n",
        "\n",
        "scalar = tf.constant(7)\n",
        "scalar"
      ],
      "metadata": {
        "colab": {
          "base_uri": "https://localhost:8080/"
        },
        "id": "JSPsYwKE4UUl",
        "outputId": "797d528d-ca79-4edb-d8b4-6f5f6188bc3f"
      },
      "execution_count": null,
      "outputs": [
        {
          "output_type": "execute_result",
          "data": {
            "text/plain": [
              "<tf.Tensor: shape=(), dtype=int32, numpy=7>"
            ]
          },
          "metadata": {},
          "execution_count": 3
        }
      ]
    },
    {
      "cell_type": "code",
      "source": [
        "#Check dimensions of the tensor\n",
        "\n",
        "scalar.ndim"
      ],
      "metadata": {
        "colab": {
          "base_uri": "https://localhost:8080/"
        },
        "id": "yaYZz66_5AWR",
        "outputId": "06a08497-144d-4a26-bf69-031c6eda06ea"
      },
      "execution_count": null,
      "outputs": [
        {
          "output_type": "execute_result",
          "data": {
            "text/plain": [
              "0"
            ]
          },
          "metadata": {},
          "execution_count": 4
        }
      ]
    },
    {
      "cell_type": "code",
      "source": [
        "#Create a vector\n",
        "vector = tf.constant([10,10])\n",
        "vector"
      ],
      "metadata": {
        "colab": {
          "base_uri": "https://localhost:8080/"
        },
        "id": "Dbtz9A8s5Lho",
        "outputId": "52e1f0fb-dc85-495b-ad16-5cab01be97dd"
      },
      "execution_count": null,
      "outputs": [
        {
          "output_type": "execute_result",
          "data": {
            "text/plain": [
              "<tf.Tensor: shape=(2,), dtype=int32, numpy=array([10, 10], dtype=int32)>"
            ]
          },
          "metadata": {},
          "execution_count": 5
        }
      ]
    },
    {
      "cell_type": "code",
      "source": [
        "vector.ndim"
      ],
      "metadata": {
        "colab": {
          "base_uri": "https://localhost:8080/"
        },
        "id": "TpRec4AR5Uk7",
        "outputId": "3b1cacb2-794c-444b-928b-a268e30f1d5d"
      },
      "execution_count": null,
      "outputs": [
        {
          "output_type": "execute_result",
          "data": {
            "text/plain": [
              "1"
            ]
          },
          "metadata": {},
          "execution_count": 6
        }
      ]
    },
    {
      "cell_type": "code",
      "source": [
        "#Create a matrix \n",
        "matrix = tf.constant([[10,7],\n",
        "                     [7,10]])\n",
        "matrix"
      ],
      "metadata": {
        "colab": {
          "base_uri": "https://localhost:8080/"
        },
        "id": "mk3Jx8DS5dLk",
        "outputId": "c172c7cf-e234-4208-821c-7a5666f82f7d"
      },
      "execution_count": null,
      "outputs": [
        {
          "output_type": "execute_result",
          "data": {
            "text/plain": [
              "<tf.Tensor: shape=(2, 2), dtype=int32, numpy=\n",
              "array([[10,  7],\n",
              "       [ 7, 10]], dtype=int32)>"
            ]
          },
          "metadata": {},
          "execution_count": 7
        }
      ]
    },
    {
      "cell_type": "code",
      "source": [
        "matrix.ndim"
      ],
      "metadata": {
        "colab": {
          "base_uri": "https://localhost:8080/"
        },
        "id": "-lZ-bOzj5rdk",
        "outputId": "74e56787-d80e-4d0f-8e26-47bdaa91f3d8"
      },
      "execution_count": null,
      "outputs": [
        {
          "output_type": "execute_result",
          "data": {
            "text/plain": [
              "2"
            ]
          },
          "metadata": {},
          "execution_count": 8
        }
      ]
    },
    {
      "cell_type": "code",
      "source": [
        "#Create another matrix\n",
        "another_matrix = tf.constant([[10.,7.],\n",
        "                              [3.,2.],\n",
        "                              [8.,9.]],dtype=tf.float16)\n",
        "another_matrix"
      ],
      "metadata": {
        "colab": {
          "base_uri": "https://localhost:8080/"
        },
        "id": "jVILFDGyE0J3",
        "outputId": "eb3cdb18-7033-414a-ae0f-37ae2e0d3986"
      },
      "execution_count": null,
      "outputs": [
        {
          "output_type": "execute_result",
          "data": {
            "text/plain": [
              "<tf.Tensor: shape=(3, 2), dtype=float16, numpy=\n",
              "array([[10.,  7.],\n",
              "       [ 3.,  2.],\n",
              "       [ 8.,  9.]], dtype=float16)>"
            ]
          },
          "metadata": {},
          "execution_count": 9
        }
      ]
    },
    {
      "cell_type": "code",
      "source": [
        "another_matrix.ndim"
      ],
      "metadata": {
        "colab": {
          "base_uri": "https://localhost:8080/"
        },
        "id": "kRAWzKaNGgoF",
        "outputId": "17d22435-8c1d-4ae9-bf86-bbf5d4fd2a69"
      },
      "execution_count": null,
      "outputs": [
        {
          "output_type": "execute_result",
          "data": {
            "text/plain": [
              "2"
            ]
          },
          "metadata": {},
          "execution_count": 10
        }
      ]
    },
    {
      "cell_type": "code",
      "source": [
        "#Creating a tensor\n",
        "\n",
        "tensor = tf.constant([[[1,2,3],[4,5,6]],\n",
        "                      [[7,8,9],[10,11,12]],\n",
        "                      [[13,14,15],[16,27,18]]])\n",
        "tensor"
      ],
      "metadata": {
        "colab": {
          "base_uri": "https://localhost:8080/"
        },
        "id": "8cEuW9u-HWVL",
        "outputId": "17788cef-23bb-4dca-df75-352c211c52cd"
      },
      "execution_count": null,
      "outputs": [
        {
          "output_type": "execute_result",
          "data": {
            "text/plain": [
              "<tf.Tensor: shape=(3, 2, 3), dtype=int32, numpy=\n",
              "array([[[ 1,  2,  3],\n",
              "        [ 4,  5,  6]],\n",
              "\n",
              "       [[ 7,  8,  9],\n",
              "        [10, 11, 12]],\n",
              "\n",
              "       [[13, 14, 15],\n",
              "        [16, 27, 18]]], dtype=int32)>"
            ]
          },
          "metadata": {},
          "execution_count": 11
        }
      ]
    },
    {
      "cell_type": "code",
      "source": [
        "tensor.ndim"
      ],
      "metadata": {
        "colab": {
          "base_uri": "https://localhost:8080/"
        },
        "id": "btPFlE4qIKiM",
        "outputId": "e9fe00c5-c09f-4c95-f865-78fff44695a4"
      },
      "execution_count": null,
      "outputs": [
        {
          "output_type": "execute_result",
          "data": {
            "text/plain": [
              "3"
            ]
          },
          "metadata": {},
          "execution_count": 12
        }
      ]
    },
    {
      "cell_type": "code",
      "source": [
        "#Creating a tensor with tf.variable\n",
        "changeable_tensor = tf.Variable([10,7])\n",
        "unchangeable_tensor = tf.constant([10,7])\n",
        "unchangeable_tensor, changeable_tensor\n",
        "\n",
        "\n",
        "#Changing elements in changeable_tensor\n",
        "changeable_tensor[0].assign(7)\n",
        "changeable_tensor\n",
        "\n",
        "# While creating a tensor with tf.Variable, you can modify it.\n",
        "# While creating a tensor with tf.constant, you can't modify it."
      ],
      "metadata": {
        "colab": {
          "base_uri": "https://localhost:8080/"
        },
        "id": "bEnTrPQuIOPo",
        "outputId": "86a3757b-57e1-4bf8-8e7a-2be997d6b49c"
      },
      "execution_count": null,
      "outputs": [
        {
          "output_type": "execute_result",
          "data": {
            "text/plain": [
              "<tf.Variable 'Variable:0' shape=(2,) dtype=int32, numpy=array([7, 7], dtype=int32)>"
            ]
          },
          "metadata": {},
          "execution_count": 13
        }
      ]
    },
    {
      "cell_type": "code",
      "source": [
        "random_1 = tf.random.Generator.from_seed(7) # sets seed for reproductibility\n",
        "random_1 = random_1.normal(shape=(3,2))\n",
        "random_1"
      ],
      "metadata": {
        "colab": {
          "base_uri": "https://localhost:8080/"
        },
        "id": "q7GrPbLCKsYU",
        "outputId": "2258569b-1cb4-4242-cf8d-a52da98ba792"
      },
      "execution_count": null,
      "outputs": [
        {
          "output_type": "execute_result",
          "data": {
            "text/plain": [
              "<tf.Tensor: shape=(3, 2), dtype=float32, numpy=\n",
              "array([[-1.3240396 ,  0.28785667],\n",
              "       [-0.8757901 , -0.08857018],\n",
              "       [ 0.69211644,  0.84215707]], dtype=float32)>"
            ]
          },
          "metadata": {},
          "execution_count": 14
        }
      ]
    },
    {
      "cell_type": "code",
      "source": [
        "random_2 = tf.random.Generator.from_seed(10)\n",
        "random_2 = random_2.normal(shape=(3,2))\n",
        "random_2"
      ],
      "metadata": {
        "colab": {
          "base_uri": "https://localhost:8080/"
        },
        "id": "EWq3DDGfNp5S",
        "outputId": "442a18ec-79c7-4e9d-e601-5991be26652b"
      },
      "execution_count": null,
      "outputs": [
        {
          "output_type": "execute_result",
          "data": {
            "text/plain": [
              "<tf.Tensor: shape=(3, 2), dtype=float32, numpy=\n",
              "array([[-0.29604465, -0.21134205],\n",
              "       [ 0.01063002,  1.5165398 ],\n",
              "       [ 0.27305737, -0.29925638]], dtype=float32)>"
            ]
          },
          "metadata": {},
          "execution_count": 15
        }
      ]
    },
    {
      "cell_type": "code",
      "source": [
        "random_1 == random_2"
      ],
      "metadata": {
        "colab": {
          "base_uri": "https://localhost:8080/"
        },
        "id": "Ff2930WtONwK",
        "outputId": "ea3dea5f-70eb-4823-936e-a78609d52ca0"
      },
      "execution_count": null,
      "outputs": [
        {
          "output_type": "execute_result",
          "data": {
            "text/plain": [
              "<tf.Tensor: shape=(3, 2), dtype=bool, numpy=\n",
              "array([[False, False],\n",
              "       [False, False],\n",
              "       [False, False]])>"
            ]
          },
          "metadata": {},
          "execution_count": 16
        }
      ]
    },
    {
      "cell_type": "code",
      "source": [
        "#Shuffling the tensor values!!\n",
        "not_shuffled = tf.constant([[10,7],\n",
        "                            [3,4],\n",
        "                            [2,5]])\n",
        "not_shuffled\n",
        "tf.random.shuffle(not_shuffled,seed=42)"
      ],
      "metadata": {
        "colab": {
          "base_uri": "https://localhost:8080/"
        },
        "id": "dK3bpB_zOaCU",
        "outputId": "f73fc7c8-f8b5-448c-b0bc-1805d263ba09"
      },
      "execution_count": null,
      "outputs": [
        {
          "output_type": "execute_result",
          "data": {
            "text/plain": [
              "<tf.Tensor: shape=(3, 2), dtype=int32, numpy=\n",
              "array([[ 2,  5],\n",
              "       [ 3,  4],\n",
              "       [10,  7]], dtype=int32)>"
            ]
          },
          "metadata": {},
          "execution_count": 17
        }
      ]
    },
    {
      "cell_type": "code",
      "source": [
        "import numpy as np\n",
        "numpy_A = np.arange(1,25)\n",
        "numpy_A"
      ],
      "metadata": {
        "colab": {
          "base_uri": "https://localhost:8080/"
        },
        "id": "AmxptSzvQIln",
        "outputId": "99e1b77a-048f-43d1-8814-c2bc11d3cee7"
      },
      "execution_count": null,
      "outputs": [
        {
          "output_type": "execute_result",
          "data": {
            "text/plain": [
              "array([ 1,  2,  3,  4,  5,  6,  7,  8,  9, 10, 11, 12, 13, 14, 15, 16, 17,\n",
              "       18, 19, 20, 21, 22, 23, 24])"
            ]
          },
          "metadata": {},
          "execution_count": 18
        }
      ]
    },
    {
      "cell_type": "code",
      "source": [
        "#Creating a rank 4 tensor\n",
        "rank_4_tensor = tf.zeros(shape=[2,3,4,5])\n",
        "rank_4_tensor"
      ],
      "metadata": {
        "id": "PQ-v8NzWTrJj",
        "colab": {
          "base_uri": "https://localhost:8080/"
        },
        "outputId": "6bc8b324-cef6-4114-d7ea-471ae6ced11a"
      },
      "execution_count": null,
      "outputs": [
        {
          "output_type": "execute_result",
          "data": {
            "text/plain": [
              "<tf.Tensor: shape=(2, 3, 4, 5), dtype=float32, numpy=\n",
              "array([[[[0., 0., 0., 0., 0.],\n",
              "         [0., 0., 0., 0., 0.],\n",
              "         [0., 0., 0., 0., 0.],\n",
              "         [0., 0., 0., 0., 0.]],\n",
              "\n",
              "        [[0., 0., 0., 0., 0.],\n",
              "         [0., 0., 0., 0., 0.],\n",
              "         [0., 0., 0., 0., 0.],\n",
              "         [0., 0., 0., 0., 0.]],\n",
              "\n",
              "        [[0., 0., 0., 0., 0.],\n",
              "         [0., 0., 0., 0., 0.],\n",
              "         [0., 0., 0., 0., 0.],\n",
              "         [0., 0., 0., 0., 0.]]],\n",
              "\n",
              "\n",
              "       [[[0., 0., 0., 0., 0.],\n",
              "         [0., 0., 0., 0., 0.],\n",
              "         [0., 0., 0., 0., 0.],\n",
              "         [0., 0., 0., 0., 0.]],\n",
              "\n",
              "        [[0., 0., 0., 0., 0.],\n",
              "         [0., 0., 0., 0., 0.],\n",
              "         [0., 0., 0., 0., 0.],\n",
              "         [0., 0., 0., 0., 0.]],\n",
              "\n",
              "        [[0., 0., 0., 0., 0.],\n",
              "         [0., 0., 0., 0., 0.],\n",
              "         [0., 0., 0., 0., 0.],\n",
              "         [0., 0., 0., 0., 0.]]]], dtype=float32)>"
            ]
          },
          "metadata": {},
          "execution_count": 19
        }
      ]
    },
    {
      "cell_type": "code",
      "source": [
        "rank_4_tensor.shape,  rank_4_tensor.ndim,  tf.size(rank_4_tensor)"
      ],
      "metadata": {
        "colab": {
          "base_uri": "https://localhost:8080/"
        },
        "id": "RPJbtnEdJm9t",
        "outputId": "6f53ff95-f397-48a6-d6cb-708b525dc16d"
      },
      "execution_count": null,
      "outputs": [
        {
          "output_type": "execute_result",
          "data": {
            "text/plain": [
              "(TensorShape([2, 3, 4, 5]), 4, <tf.Tensor: shape=(), dtype=int32, numpy=120>)"
            ]
          },
          "metadata": {},
          "execution_count": 20
        }
      ]
    },
    {
      "cell_type": "code",
      "source": [
        "print(\"Datatype of every element: \", rank_4_tensor.dtype)\n",
        "print(\"Number of dimenstions : \", rank_4_tensor.ndim)\n",
        "print(\"Shape of tensor: \",rank_4_tensor.shape)\n",
        "print(\"Elements alond the 0 axis: \", rank_4_tensor[0])\n",
        "print(\"Elements in the last index: \", rank_4_tensor[-1])\n",
        "print(\"Total numer of elements in the tensor: \",tf.size(rank_4_tensor).numpy())"
      ],
      "metadata": {
        "colab": {
          "base_uri": "https://localhost:8080/"
        },
        "id": "3hODtbhKJ1oE",
        "outputId": "cb1b536b-f4fd-46d0-d090-17c89c92413f"
      },
      "execution_count": null,
      "outputs": [
        {
          "output_type": "stream",
          "name": "stdout",
          "text": [
            "Datatype of every element:  <dtype: 'float32'>\n",
            "Number of dimenstions :  4\n",
            "Shape of tensor:  (2, 3, 4, 5)\n",
            "Elements alond the 0 axis:  tf.Tensor(\n",
            "[[[0. 0. 0. 0. 0.]\n",
            "  [0. 0. 0. 0. 0.]\n",
            "  [0. 0. 0. 0. 0.]\n",
            "  [0. 0. 0. 0. 0.]]\n",
            "\n",
            " [[0. 0. 0. 0. 0.]\n",
            "  [0. 0. 0. 0. 0.]\n",
            "  [0. 0. 0. 0. 0.]\n",
            "  [0. 0. 0. 0. 0.]]\n",
            "\n",
            " [[0. 0. 0. 0. 0.]\n",
            "  [0. 0. 0. 0. 0.]\n",
            "  [0. 0. 0. 0. 0.]\n",
            "  [0. 0. 0. 0. 0.]]], shape=(3, 4, 5), dtype=float32)\n",
            "Elements in the last index:  tf.Tensor(\n",
            "[[[0. 0. 0. 0. 0.]\n",
            "  [0. 0. 0. 0. 0.]\n",
            "  [0. 0. 0. 0. 0.]\n",
            "  [0. 0. 0. 0. 0.]]\n",
            "\n",
            " [[0. 0. 0. 0. 0.]\n",
            "  [0. 0. 0. 0. 0.]\n",
            "  [0. 0. 0. 0. 0.]\n",
            "  [0. 0. 0. 0. 0.]]\n",
            "\n",
            " [[0. 0. 0. 0. 0.]\n",
            "  [0. 0. 0. 0. 0.]\n",
            "  [0. 0. 0. 0. 0.]\n",
            "  [0. 0. 0. 0. 0.]]], shape=(3, 4, 5), dtype=float32)\n",
            "Total numer of elements in the tensor:  120\n"
          ]
        }
      ]
    },
    {
      "cell_type": "code",
      "source": [
        "#Indexing tensors\n",
        "\n",
        "#Get the first two elements of each dimension\n",
        "\n",
        "list = [1,2,3,4,5]\n",
        "list[:2]\n",
        "rank_4_tensor[:2,:2,:2,:2]"
      ],
      "metadata": {
        "colab": {
          "base_uri": "https://localhost:8080/"
        },
        "id": "0YctpbqFKvQW",
        "outputId": "1b34b927-1ede-463c-cc74-79710c0ea644"
      },
      "execution_count": null,
      "outputs": [
        {
          "output_type": "execute_result",
          "data": {
            "text/plain": [
              "<tf.Tensor: shape=(2, 2, 2, 2), dtype=float32, numpy=\n",
              "array([[[[0., 0.],\n",
              "         [0., 0.]],\n",
              "\n",
              "        [[0., 0.],\n",
              "         [0., 0.]]],\n",
              "\n",
              "\n",
              "       [[[0., 0.],\n",
              "         [0., 0.]],\n",
              "\n",
              "        [[0., 0.],\n",
              "         [0., 0.]]]], dtype=float32)>"
            ]
          },
          "metadata": {},
          "execution_count": 22
        }
      ]
    },
    {
      "cell_type": "code",
      "source": [
        "rank_4_tensor[:1,:1,:,:1]"
      ],
      "metadata": {
        "colab": {
          "base_uri": "https://localhost:8080/"
        },
        "id": "3-Zi05G6Lr6e",
        "outputId": "0a1d2a07-e0cb-49ee-e003-cfc6dcd85e4b"
      },
      "execution_count": null,
      "outputs": [
        {
          "output_type": "execute_result",
          "data": {
            "text/plain": [
              "<tf.Tensor: shape=(1, 1, 4, 1), dtype=float32, numpy=\n",
              "array([[[[0.],\n",
              "         [0.],\n",
              "         [0.],\n",
              "         [0.]]]], dtype=float32)>"
            ]
          },
          "metadata": {},
          "execution_count": 23
        }
      ]
    },
    {
      "cell_type": "code",
      "source": [
        "rank_2_tensor = tf.constant([[10,7],[2,3]])\n",
        "rank_2_tensor"
      ],
      "metadata": {
        "colab": {
          "base_uri": "https://localhost:8080/"
        },
        "id": "iJwRjB85MIi8",
        "outputId": "274161bf-9e6a-40c4-dc7e-c9c69d701b5d"
      },
      "execution_count": null,
      "outputs": [
        {
          "output_type": "execute_result",
          "data": {
            "text/plain": [
              "<tf.Tensor: shape=(2, 2), dtype=int32, numpy=\n",
              "array([[10,  7],\n",
              "       [ 2,  3]], dtype=int32)>"
            ]
          },
          "metadata": {},
          "execution_count": 24
        }
      ]
    },
    {
      "cell_type": "code",
      "source": [
        "#Get last item of each row \n",
        "rank_2_tensor[:,-1]"
      ],
      "metadata": {
        "colab": {
          "base_uri": "https://localhost:8080/"
        },
        "id": "7TtQwthwMmlE",
        "outputId": "fee1baf0-ef9d-42e6-df80-49581dafd9f7"
      },
      "execution_count": null,
      "outputs": [
        {
          "output_type": "execute_result",
          "data": {
            "text/plain": [
              "<tf.Tensor: shape=(2,), dtype=int32, numpy=array([7, 3], dtype=int32)>"
            ]
          },
          "metadata": {},
          "execution_count": 25
        }
      ]
    },
    {
      "cell_type": "code",
      "source": [
        "#Altering the size of the tensor!!\n",
        "rank_3_tensor =rank_2_tensor[...,tf.newaxis]\n",
        "rank_3_tensor"
      ],
      "metadata": {
        "colab": {
          "base_uri": "https://localhost:8080/"
        },
        "id": "XvkMbAOwNUFl",
        "outputId": "3bf4aab3-9e99-494b-de1a-d07a879306de"
      },
      "execution_count": null,
      "outputs": [
        {
          "output_type": "execute_result",
          "data": {
            "text/plain": [
              "<tf.Tensor: shape=(2, 2, 1), dtype=int32, numpy=\n",
              "array([[[10],\n",
              "        [ 7]],\n",
              "\n",
              "       [[ 2],\n",
              "        [ 3]]], dtype=int32)>"
            ]
          },
          "metadata": {},
          "execution_count": 26
        }
      ]
    },
    {
      "cell_type": "code",
      "source": [
        "#Another way of adding extra dimension of rank_2_tensor\n",
        "tf.expand_dims(rank_2_tensor,axis=-1)"
      ],
      "metadata": {
        "colab": {
          "base_uri": "https://localhost:8080/"
        },
        "id": "lqJipNasOFYG",
        "outputId": "3da0eae6-1720-4944-a8ea-813a67bf5161"
      },
      "execution_count": null,
      "outputs": [
        {
          "output_type": "execute_result",
          "data": {
            "text/plain": [
              "<tf.Tensor: shape=(2, 2, 1), dtype=int32, numpy=\n",
              "array([[[10],\n",
              "        [ 7]],\n",
              "\n",
              "       [[ 2],\n",
              "        [ 3]]], dtype=int32)>"
            ]
          },
          "metadata": {},
          "execution_count": 27
        }
      ]
    },
    {
      "cell_type": "code",
      "source": [
        "tf.expand_dims(rank_2_tensor,axis=0)"
      ],
      "metadata": {
        "colab": {
          "base_uri": "https://localhost:8080/"
        },
        "id": "mfdzWoUZO7Co",
        "outputId": "8ecb6626-9f9b-44c8-9156-31e6204e81fe"
      },
      "execution_count": null,
      "outputs": [
        {
          "output_type": "execute_result",
          "data": {
            "text/plain": [
              "<tf.Tensor: shape=(1, 2, 2), dtype=int32, numpy=\n",
              "array([[[10,  7],\n",
              "        [ 2,  3]]], dtype=int32)>"
            ]
          },
          "metadata": {},
          "execution_count": 28
        }
      ]
    },
    {
      "cell_type": "code",
      "source": [
        "#Tensor Operations!!\n",
        "tensor = tf.constant([[10,7],[3,4]])\n",
        "tensor+10"
      ],
      "metadata": {
        "colab": {
          "base_uri": "https://localhost:8080/"
        },
        "id": "5r1oqPBuPcIp",
        "outputId": "d0f160f9-6520-4346-e577-db974a3f267e"
      },
      "execution_count": null,
      "outputs": [
        {
          "output_type": "execute_result",
          "data": {
            "text/plain": [
              "<tf.Tensor: shape=(2, 2), dtype=int32, numpy=\n",
              "array([[20, 17],\n",
              "       [13, 14]], dtype=int32)>"
            ]
          },
          "metadata": {},
          "execution_count": 29
        }
      ]
    },
    {
      "cell_type": "code",
      "source": [
        "tensor1 = tf.constant([[1,1],[1,1]])\n",
        "tensor+tensor1"
      ],
      "metadata": {
        "colab": {
          "base_uri": "https://localhost:8080/"
        },
        "id": "7TRCR5gXQKY3",
        "outputId": "a51b1f21-58e6-4a8b-ae34-f0140c1b2f9d"
      },
      "execution_count": null,
      "outputs": [
        {
          "output_type": "execute_result",
          "data": {
            "text/plain": [
              "<tf.Tensor: shape=(2, 2), dtype=int32, numpy=\n",
              "array([[11,  8],\n",
              "       [ 4,  5]], dtype=int32)>"
            ]
          },
          "metadata": {},
          "execution_count": 30
        }
      ]
    },
    {
      "cell_type": "code",
      "source": [
        "tensor*10"
      ],
      "metadata": {
        "colab": {
          "base_uri": "https://localhost:8080/"
        },
        "id": "X01ZExRkQWhG",
        "outputId": "d7e9924b-2321-4dad-ac07-191b51a9602a"
      },
      "execution_count": null,
      "outputs": [
        {
          "output_type": "execute_result",
          "data": {
            "text/plain": [
              "<tf.Tensor: shape=(2, 2), dtype=int32, numpy=\n",
              "array([[100,  70],\n",
              "       [ 30,  40]], dtype=int32)>"
            ]
          },
          "metadata": {},
          "execution_count": 31
        }
      ]
    },
    {
      "cell_type": "code",
      "source": [
        "tensor-10"
      ],
      "metadata": {
        "colab": {
          "base_uri": "https://localhost:8080/"
        },
        "id": "15C7b3-VQfM3",
        "outputId": "4fdbf7d0-4bb9-4121-89f7-47d493ecb5fd"
      },
      "execution_count": null,
      "outputs": [
        {
          "output_type": "execute_result",
          "data": {
            "text/plain": [
              "<tf.Tensor: shape=(2, 2), dtype=int32, numpy=\n",
              "array([[ 0, -3],\n",
              "       [-7, -6]], dtype=int32)>"
            ]
          },
          "metadata": {},
          "execution_count": 32
        }
      ]
    },
    {
      "cell_type": "code",
      "source": [
        "#Tensor-flow built-in functions \n",
        "tf.multiply(tensor,10)"
      ],
      "metadata": {
        "colab": {
          "base_uri": "https://localhost:8080/"
        },
        "id": "pXPv7E_RQkno",
        "outputId": "04887d49-c23d-4ccb-c4ec-40487dc6da5d"
      },
      "execution_count": null,
      "outputs": [
        {
          "output_type": "execute_result",
          "data": {
            "text/plain": [
              "<tf.Tensor: shape=(2, 2), dtype=int32, numpy=\n",
              "array([[100,  70],\n",
              "       [ 30,  40]], dtype=int32)>"
            ]
          },
          "metadata": {},
          "execution_count": 33
        }
      ]
    },
    {
      "cell_type": "code",
      "source": [
        "tf.add(tensor,tensor1)"
      ],
      "metadata": {
        "colab": {
          "base_uri": "https://localhost:8080/"
        },
        "id": "54Hy2YenQwMg",
        "outputId": "a865adeb-8ac1-4c68-c479-c6b8d2cf1e84"
      },
      "execution_count": null,
      "outputs": [
        {
          "output_type": "execute_result",
          "data": {
            "text/plain": [
              "<tf.Tensor: shape=(2, 2), dtype=int32, numpy=\n",
              "array([[11,  8],\n",
              "       [ 4,  5]], dtype=int32)>"
            ]
          },
          "metadata": {},
          "execution_count": 113
        }
      ]
    },
    {
      "cell_type": "code",
      "source": [
        "#Matrix Multiplication\n",
        "tf.multiply(tensor,tensor1)"
      ],
      "metadata": {
        "colab": {
          "base_uri": "https://localhost:8080/"
        },
        "id": "bp2V8CoaRA7T",
        "outputId": "2fb32a86-0ea9-4b7d-86e4-e3c0a5ed442c"
      },
      "execution_count": null,
      "outputs": [
        {
          "output_type": "execute_result",
          "data": {
            "text/plain": [
              "<tf.Tensor: shape=(2, 2), dtype=int32, numpy=\n",
              "array([[10,  7],\n",
              "       [ 3,  4]], dtype=int32)>"
            ]
          },
          "metadata": {},
          "execution_count": 35
        }
      ]
    },
    {
      "cell_type": "code",
      "source": [
        "tensor2 = tf.constant([[2,3],[4,5]])\n",
        "tf.multiply(tensor,tensor2)"
      ],
      "metadata": {
        "colab": {
          "base_uri": "https://localhost:8080/"
        },
        "id": "v9W7V39JRbe_",
        "outputId": "c1c151c8-69ed-43ca-d52e-51d3792d35e8"
      },
      "execution_count": null,
      "outputs": [
        {
          "output_type": "execute_result",
          "data": {
            "text/plain": [
              "<tf.Tensor: shape=(2, 2), dtype=int32, numpy=\n",
              "array([[20, 21],\n",
              "       [12, 20]], dtype=int32)>"
            ]
          },
          "metadata": {},
          "execution_count": 36
        }
      ]
    },
    {
      "cell_type": "code",
      "source": [
        "tensor"
      ],
      "metadata": {
        "colab": {
          "base_uri": "https://localhost:8080/"
        },
        "id": "L2g84pp_RqVx",
        "outputId": "ced27d91-98bd-4782-8772-ee4f84041893"
      },
      "execution_count": null,
      "outputs": [
        {
          "output_type": "execute_result",
          "data": {
            "text/plain": [
              "<tf.Tensor: shape=(2, 2), dtype=int32, numpy=\n",
              "array([[10,  7],\n",
              "       [ 3,  4]], dtype=int32)>"
            ]
          },
          "metadata": {},
          "execution_count": 37
        }
      ]
    },
    {
      "cell_type": "code",
      "source": [
        "tensor2"
      ],
      "metadata": {
        "colab": {
          "base_uri": "https://localhost:8080/"
        },
        "id": "O1bouiOLRu_9",
        "outputId": "7338d90a-ab9d-4008-8473-01d4cec2aacd"
      },
      "execution_count": null,
      "outputs": [
        {
          "output_type": "execute_result",
          "data": {
            "text/plain": [
              "<tf.Tensor: shape=(2, 2), dtype=int32, numpy=\n",
              "array([[2, 3],\n",
              "       [4, 5]], dtype=int32)>"
            ]
          },
          "metadata": {},
          "execution_count": 38
        }
      ]
    },
    {
      "cell_type": "code",
      "source": [
        "tf.matmul(tensor,tensor)"
      ],
      "metadata": {
        "colab": {
          "base_uri": "https://localhost:8080/"
        },
        "id": "DBytGGBiRwkx",
        "outputId": "2d7bf820-d885-4cc0-8ebb-0b62866d9497"
      },
      "execution_count": null,
      "outputs": [
        {
          "output_type": "execute_result",
          "data": {
            "text/plain": [
              "<tf.Tensor: shape=(2, 2), dtype=int32, numpy=\n",
              "array([[121,  98],\n",
              "       [ 42,  37]], dtype=int32)>"
            ]
          },
          "metadata": {},
          "execution_count": 39
        }
      ]
    },
    {
      "cell_type": "code",
      "source": [
        "t1 = tf.constant([[1,2,5],[7,2,1],[3,3,3]])\n",
        "t1"
      ],
      "metadata": {
        "colab": {
          "base_uri": "https://localhost:8080/"
        },
        "id": "Kqh6YxEFSL3q",
        "outputId": "751d4942-c8ce-4f6b-ee8b-5afd98a73cf0"
      },
      "execution_count": null,
      "outputs": [
        {
          "output_type": "execute_result",
          "data": {
            "text/plain": [
              "<tf.Tensor: shape=(3, 3), dtype=int32, numpy=\n",
              "array([[1, 2, 5],\n",
              "       [7, 2, 1],\n",
              "       [3, 3, 3]], dtype=int32)>"
            ]
          },
          "metadata": {},
          "execution_count": 40
        }
      ]
    },
    {
      "cell_type": "code",
      "source": [
        "t2 = tf.constant([[3,5],[6,7],[1,8]])\n",
        "t2"
      ],
      "metadata": {
        "colab": {
          "base_uri": "https://localhost:8080/"
        },
        "id": "s3hP05wuSrkd",
        "outputId": "cc2ff423-9b51-489e-b781-b14c240a967e"
      },
      "execution_count": null,
      "outputs": [
        {
          "output_type": "execute_result",
          "data": {
            "text/plain": [
              "<tf.Tensor: shape=(3, 2), dtype=int32, numpy=\n",
              "array([[3, 5],\n",
              "       [6, 7],\n",
              "       [1, 8]], dtype=int32)>"
            ]
          },
          "metadata": {},
          "execution_count": 41
        }
      ]
    },
    {
      "cell_type": "code",
      "source": [
        "tf.matmul(t1,t2)"
      ],
      "metadata": {
        "colab": {
          "base_uri": "https://localhost:8080/"
        },
        "id": "2rzTj0PqSx20",
        "outputId": "16c33102-52b7-486a-fcba-96a590bd8cf8"
      },
      "execution_count": null,
      "outputs": [
        {
          "output_type": "execute_result",
          "data": {
            "text/plain": [
              "<tf.Tensor: shape=(3, 2), dtype=int32, numpy=\n",
              "array([[20, 59],\n",
              "       [34, 57],\n",
              "       [30, 60]], dtype=int32)>"
            ]
          },
          "metadata": {},
          "execution_count": 42
        }
      ]
    },
    {
      "cell_type": "code",
      "source": [
        "#Matrix Mul with different shapes!!\n",
        "x = tf.constant([[1,2],[3,4],[5,6]])\n",
        "y = tf.constant([[7,8],[9,10],[11,12]])\n",
        "x,y"
      ],
      "metadata": {
        "colab": {
          "base_uri": "https://localhost:8080/"
        },
        "id": "I5p-l_AnS3tm",
        "outputId": "15a33bba-f711-4820-c197-cb26709f7358"
      },
      "execution_count": null,
      "outputs": [
        {
          "output_type": "execute_result",
          "data": {
            "text/plain": [
              "(<tf.Tensor: shape=(3, 2), dtype=int32, numpy=\n",
              " array([[1, 2],\n",
              "        [3, 4],\n",
              "        [5, 6]], dtype=int32)>, <tf.Tensor: shape=(3, 2), dtype=int32, numpy=\n",
              " array([[ 7,  8],\n",
              "        [ 9, 10],\n",
              "        [11, 12]], dtype=int32)>)"
            ]
          },
          "metadata": {},
          "execution_count": 43
        }
      ]
    },
    {
      "cell_type": "code",
      "source": [
        "t1 @ t2"
      ],
      "metadata": {
        "colab": {
          "base_uri": "https://localhost:8080/"
        },
        "id": "81vqklM5Tfs4",
        "outputId": "786956f0-ce12-4ea9-fa2d-e81ba14ce15a"
      },
      "execution_count": null,
      "outputs": [
        {
          "output_type": "execute_result",
          "data": {
            "text/plain": [
              "<tf.Tensor: shape=(3, 2), dtype=int32, numpy=\n",
              "array([[20, 59],\n",
              "       [34, 57],\n",
              "       [30, 60]], dtype=int32)>"
            ]
          },
          "metadata": {},
          "execution_count": 44
        }
      ]
    },
    {
      "cell_type": "code",
      "source": [
        "tf.reshape(y,shape=(2,3))"
      ],
      "metadata": {
        "colab": {
          "base_uri": "https://localhost:8080/"
        },
        "id": "GaYG_zelTjZe",
        "outputId": "be7d2cb5-d089-4bb3-b561-fea3116ca124"
      },
      "execution_count": null,
      "outputs": [
        {
          "output_type": "execute_result",
          "data": {
            "text/plain": [
              "<tf.Tensor: shape=(2, 3), dtype=int32, numpy=\n",
              "array([[ 7,  8,  9],\n",
              "       [10, 11, 12]], dtype=int32)>"
            ]
          },
          "metadata": {},
          "execution_count": 45
        }
      ]
    },
    {
      "cell_type": "code",
      "source": [
        "x @ tf.reshape(y,shape=(2,3))"
      ],
      "metadata": {
        "colab": {
          "base_uri": "https://localhost:8080/"
        },
        "id": "sdTGN_ksVZ5f",
        "outputId": "1893405e-6783-4830-8b0c-7450bcf045e0"
      },
      "execution_count": null,
      "outputs": [
        {
          "output_type": "execute_result",
          "data": {
            "text/plain": [
              "<tf.Tensor: shape=(3, 3), dtype=int32, numpy=\n",
              "array([[ 27,  30,  33],\n",
              "       [ 61,  68,  75],\n",
              "       [ 95, 106, 117]], dtype=int32)>"
            ]
          },
          "metadata": {},
          "execution_count": 46
        }
      ]
    },
    {
      "cell_type": "code",
      "source": [
        "tf.reshape(x,shape=(2,3)) @ y"
      ],
      "metadata": {
        "colab": {
          "base_uri": "https://localhost:8080/"
        },
        "id": "ZCntmA9iVg2B",
        "outputId": "f57049ca-b8e9-49dd-8d91-81eaf872268a"
      },
      "execution_count": null,
      "outputs": [
        {
          "output_type": "execute_result",
          "data": {
            "text/plain": [
              "<tf.Tensor: shape=(2, 2), dtype=int32, numpy=\n",
              "array([[ 58,  64],\n",
              "       [139, 154]], dtype=int32)>"
            ]
          },
          "metadata": {},
          "execution_count": 47
        }
      ]
    },
    {
      "cell_type": "code",
      "source": [
        "tf.transpose(x),tf.reshape(x,shape=(2,3)),x"
      ],
      "metadata": {
        "colab": {
          "base_uri": "https://localhost:8080/"
        },
        "id": "I0PijINpWJtO",
        "outputId": "b92b2813-872f-47ce-972f-47d472ee118b"
      },
      "execution_count": null,
      "outputs": [
        {
          "output_type": "execute_result",
          "data": {
            "text/plain": [
              "(<tf.Tensor: shape=(2, 3), dtype=int32, numpy=\n",
              " array([[1, 3, 5],\n",
              "        [2, 4, 6]], dtype=int32)>,\n",
              " <tf.Tensor: shape=(2, 3), dtype=int32, numpy=\n",
              " array([[1, 2, 3],\n",
              "        [4, 5, 6]], dtype=int32)>,\n",
              " <tf.Tensor: shape=(3, 2), dtype=int32, numpy=\n",
              " array([[1, 2],\n",
              "        [3, 4],\n",
              "        [5, 6]], dtype=int32)>)"
            ]
          },
          "metadata": {},
          "execution_count": 48
        }
      ]
    },
    {
      "cell_type": "code",
      "source": [
        "tf.matmul(x,tf.transpose(y))"
      ],
      "metadata": {
        "colab": {
          "base_uri": "https://localhost:8080/"
        },
        "id": "0JGDXJhfWhIs",
        "outputId": "e5c5e721-5237-4f18-a8cb-964640979991"
      },
      "execution_count": null,
      "outputs": [
        {
          "output_type": "execute_result",
          "data": {
            "text/plain": [
              "<tf.Tensor: shape=(3, 3), dtype=int32, numpy=\n",
              "array([[ 23,  29,  35],\n",
              "       [ 53,  67,  81],\n",
              "       [ 83, 105, 127]], dtype=int32)>"
            ]
          },
          "metadata": {},
          "execution_count": 49
        }
      ]
    },
    {
      "cell_type": "code",
      "source": [
        "#Perform matrix multiplication with tensordot()\n",
        "x,y"
      ],
      "metadata": {
        "id": "1eyzJpOfW_hF",
        "colab": {
          "base_uri": "https://localhost:8080/"
        },
        "outputId": "321202ed-a917-4d45-92fb-6715f0e9a054"
      },
      "execution_count": null,
      "outputs": [
        {
          "output_type": "execute_result",
          "data": {
            "text/plain": [
              "(<tf.Tensor: shape=(3, 2), dtype=int32, numpy=\n",
              " array([[1, 2],\n",
              "        [3, 4],\n",
              "        [5, 6]], dtype=int32)>, <tf.Tensor: shape=(3, 2), dtype=int32, numpy=\n",
              " array([[ 7,  8],\n",
              "        [ 9, 10],\n",
              "        [11, 12]], dtype=int32)>)"
            ]
          },
          "metadata": {},
          "execution_count": 50
        }
      ]
    },
    {
      "cell_type": "code",
      "source": [
        "tf.tensordot(tf.transpose(x),y,axes=1)"
      ],
      "metadata": {
        "colab": {
          "base_uri": "https://localhost:8080/"
        },
        "id": "Qs-KRm--FF5y",
        "outputId": "80a261d0-466e-4751-bd45-de17f39c584a"
      },
      "execution_count": null,
      "outputs": [
        {
          "output_type": "execute_result",
          "data": {
            "text/plain": [
              "<tf.Tensor: shape=(2, 2), dtype=int32, numpy=\n",
              "array([[ 89,  98],\n",
              "       [116, 128]], dtype=int32)>"
            ]
          },
          "metadata": {},
          "execution_count": 55
        }
      ]
    },
    {
      "cell_type": "code",
      "source": [
        "#Perform matrix multiplication with transposing y\n",
        "tf.matmul(x,tf.reshape(y,shape=(2,3)))"
      ],
      "metadata": {
        "colab": {
          "base_uri": "https://localhost:8080/"
        },
        "id": "VP3asKYJFcqZ",
        "outputId": "e2b906f0-f9b9-4bd4-c309-8c9511f46691"
      },
      "execution_count": null,
      "outputs": [
        {
          "output_type": "execute_result",
          "data": {
            "text/plain": [
              "<tf.Tensor: shape=(3, 3), dtype=int32, numpy=\n",
              "array([[ 27,  30,  33],\n",
              "       [ 61,  68,  75],\n",
              "       [ 95, 106, 117]], dtype=int32)>"
            ]
          },
          "metadata": {},
          "execution_count": 53
        }
      ]
    },
    {
      "cell_type": "code",
      "source": [
        "#Check the value of y and rehsape y and transpose y\n",
        "print(\"Normal y: \", y)\n",
        "print(\"Reshaped y: \", tf.reshape(y,shape=(2,3)))\n",
        "print(\"Transposed y: \", tf.transpose(y))"
      ],
      "metadata": {
        "colab": {
          "base_uri": "https://localhost:8080/"
        },
        "id": "-T1dCH9MF4A0",
        "outputId": "85566bd5-fb89-4ba2-e8e9-cd32d3c54814"
      },
      "execution_count": null,
      "outputs": [
        {
          "output_type": "stream",
          "name": "stdout",
          "text": [
            "Normal y:  tf.Tensor(\n",
            "[[ 7  8]\n",
            " [ 9 10]\n",
            " [11 12]], shape=(3, 2), dtype=int32)\n",
            "Reshaped y:  tf.Tensor(\n",
            "[[ 7  8  9]\n",
            " [10 11 12]], shape=(2, 3), dtype=int32)\n",
            "Transposed y:  tf.Tensor(\n",
            "[[ 7  9 11]\n",
            " [ 8 10 12]], shape=(2, 3), dtype=int32)\n"
          ]
        }
      ]
    },
    {
      "cell_type": "code",
      "source": [
        "#Changing the datatype of a tensor!!\n",
        "B = tf.constant([1.7,7.4])\n",
        "B.dtype"
      ],
      "metadata": {
        "colab": {
          "base_uri": "https://localhost:8080/"
        },
        "id": "RFlyDHk0Getr",
        "outputId": "e23a5cb4-64a0-41cc-be53-ebc2071aea48"
      },
      "execution_count": null,
      "outputs": [
        {
          "output_type": "execute_result",
          "data": {
            "text/plain": [
              "tf.float32"
            ]
          },
          "metadata": {},
          "execution_count": 57
        }
      ]
    },
    {
      "cell_type": "code",
      "source": [
        "C = tf.constant([7,4])\n",
        "C.dtype"
      ],
      "metadata": {
        "colab": {
          "base_uri": "https://localhost:8080/"
        },
        "id": "rteibudhHvS8",
        "outputId": "461fae30-3f96-4d97-d425-e82e9ea10152"
      },
      "execution_count": null,
      "outputs": [
        {
          "output_type": "execute_result",
          "data": {
            "text/plain": [
              "tf.int32"
            ]
          },
          "metadata": {},
          "execution_count": 59
        }
      ]
    },
    {
      "cell_type": "code",
      "source": [
        "D = tf.cast(B,dtype=tf.float16)\n",
        "D,D.dtype"
      ],
      "metadata": {
        "colab": {
          "base_uri": "https://localhost:8080/"
        },
        "id": "_VAB6FnfHytb",
        "outputId": "57be7405-11a6-4435-a52e-06fdf4104970"
      },
      "execution_count": null,
      "outputs": [
        {
          "output_type": "execute_result",
          "data": {
            "text/plain": [
              "(<tf.Tensor: shape=(2,), dtype=float16, numpy=array([7., 4.], dtype=float16)>,\n",
              " tf.float16)"
            ]
          },
          "metadata": {},
          "execution_count": 62
        }
      ]
    },
    {
      "cell_type": "code",
      "source": [
        "E = tf.cast(C,dtype=tf.float32)\n",
        "E, E.dtype"
      ],
      "metadata": {
        "colab": {
          "base_uri": "https://localhost:8080/"
        },
        "id": "zpWvnVw3Iqht",
        "outputId": "efab9ca4-52e8-43a1-fbdf-f5c2d77b526a"
      },
      "execution_count": null,
      "outputs": [
        {
          "output_type": "execute_result",
          "data": {
            "text/plain": [
              "(<tf.Tensor: shape=(2,), dtype=float32, numpy=array([7., 4.], dtype=float32)>,\n",
              " tf.float32)"
            ]
          },
          "metadata": {},
          "execution_count": 65
        }
      ]
    },
    {
      "cell_type": "code",
      "source": [
        "#Aggregation\n",
        "\n",
        "\n",
        "\n",
        "F = tf.constant([-1,-2])\n",
        "F,tf.abs(F)"
      ],
      "metadata": {
        "colab": {
          "base_uri": "https://localhost:8080/"
        },
        "id": "BmzfWZnqJHaP",
        "outputId": "39812c51-4052-425f-fa3f-15c8ea0edac7"
      },
      "execution_count": null,
      "outputs": [
        {
          "output_type": "execute_result",
          "data": {
            "text/plain": [
              "(<tf.Tensor: shape=(2,), dtype=int32, numpy=array([-1, -2], dtype=int32)>,\n",
              " <tf.Tensor: shape=(2,), dtype=int32, numpy=array([1, 2], dtype=int32)>)"
            ]
          },
          "metadata": {},
          "execution_count": 67
        }
      ]
    },
    {
      "cell_type": "code",
      "source": [
        "G = tf.constant([[1,2],[5,3],[10,7],[0,4]])\n",
        "tf.reduce_max(G),tf.reduce_min(G),tf.reduce_mean(G),tf.reduce_sum(G)\n"
      ],
      "metadata": {
        "colab": {
          "base_uri": "https://localhost:8080/"
        },
        "id": "j0gyQyQWKm52",
        "outputId": "f8fafbc0-d068-4ad2-f7b9-2b8cb0beb265"
      },
      "execution_count": null,
      "outputs": [
        {
          "output_type": "execute_result",
          "data": {
            "text/plain": [
              "(<tf.Tensor: shape=(), dtype=int32, numpy=10>,\n",
              " <tf.Tensor: shape=(), dtype=int32, numpy=0>,\n",
              " <tf.Tensor: shape=(), dtype=int32, numpy=4>,\n",
              " <tf.Tensor: shape=(), dtype=int32, numpy=32>)"
            ]
          },
          "metadata": {},
          "execution_count": 76
        }
      ]
    },
    {
      "cell_type": "code",
      "source": [
        "import tensorflow_probability as tfp\n",
        "tfp.stats.variance(G), tf.math.reduce_std(tf.cast(G, dtype=tf.float32))"
      ],
      "metadata": {
        "colab": {
          "base_uri": "https://localhost:8080/"
        },
        "id": "ehxENdmdLWdP",
        "outputId": "35295d1a-1bb5-4f43-c895-373a69794aea"
      },
      "execution_count": null,
      "outputs": [
        {
          "output_type": "execute_result",
          "data": {
            "text/plain": [
              "(<tf.Tensor: shape=(2,), dtype=int32, numpy=array([15,  3], dtype=int32)>,\n",
              " <tf.Tensor: shape=(), dtype=float32, numpy=3.082207>,\n",
              " <tf.Tensor: shape=(2,), dtype=float32, numpy=array([3.9370039, 1.8708287], dtype=float32)>)"
            ]
          },
          "metadata": {},
          "execution_count": 89
        }
      ]
    },
    {
      "cell_type": "code",
      "source": [
        "H = tf.random.uniform(shape=[50])\n",
        "H"
      ],
      "metadata": {
        "colab": {
          "base_uri": "https://localhost:8080/"
        },
        "id": "rJao6VCmQirp",
        "outputId": "3c4be5a2-432f-431b-b84f-9ed3cc4066f6"
      },
      "execution_count": null,
      "outputs": [
        {
          "output_type": "execute_result",
          "data": {
            "text/plain": [
              "<tf.Tensor: shape=(50,), dtype=float32, numpy=\n",
              "array([0.4920913 , 0.6705848 , 0.08583224, 0.21306682, 0.15107548,\n",
              "       0.04895198, 0.63222444, 0.6570554 , 0.01653647, 0.76964796,\n",
              "       0.28211522, 0.49321413, 0.69883156, 0.39800513, 0.1402446 ,\n",
              "       0.5807916 , 0.39105964, 0.4578563 , 0.49515438, 0.21729982,\n",
              "       0.6649177 , 0.9535117 , 0.53260493, 0.73216975, 0.6709511 ,\n",
              "       0.89878464, 0.7838266 , 0.63601875, 0.91660106, 0.05445516,\n",
              "       0.80904186, 0.00993884, 0.5972105 , 0.7263868 , 0.02550995,\n",
              "       0.94523287, 0.9811009 , 0.32621765, 0.09952581, 0.30045354,\n",
              "       0.0938139 , 0.4997803 , 0.8138944 , 0.22635138, 0.07764137,\n",
              "       0.79017246, 0.72513855, 0.23930764, 0.57776   , 0.10994267],\n",
              "      dtype=float32)>"
            ]
          },
          "metadata": {},
          "execution_count": 106
        }
      ]
    },
    {
      "cell_type": "code",
      "source": [
        "tf.argmax(H) # positional maximum\n"
      ],
      "metadata": {
        "colab": {
          "base_uri": "https://localhost:8080/"
        },
        "id": "lugnc9pNTGli",
        "outputId": "626592bd-9efc-4a15-903f-3d7962097e7d"
      },
      "execution_count": null,
      "outputs": [
        {
          "output_type": "execute_result",
          "data": {
            "text/plain": [
              "<tf.Tensor: shape=(), dtype=int64, numpy=36>"
            ]
          },
          "metadata": {},
          "execution_count": 107
        }
      ]
    },
    {
      "cell_type": "code",
      "source": [
        "#Squeezing the tensors (removing all single dimensions)\n",
        "tf.random.set_seed(42)\n",
        "I = tf.constant(tf.random.uniform(shape=[50]), shape=(1,1,1,1,50))\n",
        "I"
      ],
      "metadata": {
        "colab": {
          "base_uri": "https://localhost:8080/"
        },
        "id": "15zVa8lcVRIO",
        "outputId": "5b62cd6e-6805-44b0-dca9-d9705beeb41d"
      },
      "execution_count": null,
      "outputs": [
        {
          "output_type": "execute_result",
          "data": {
            "text/plain": [
              "<tf.Tensor: shape=(1, 1, 1, 1, 50), dtype=float32, numpy=\n",
              "array([[[[[0.6645621 , 0.44100678, 0.3528825 , 0.46448255, 0.03366041,\n",
              "           0.68467236, 0.74011743, 0.8724445 , 0.22632635, 0.22319686,\n",
              "           0.3103881 , 0.7223358 , 0.13318717, 0.5480639 , 0.5746088 ,\n",
              "           0.8996835 , 0.00946367, 0.5212307 , 0.6345445 , 0.1993283 ,\n",
              "           0.72942245, 0.54583454, 0.10756552, 0.6767061 , 0.6602763 ,\n",
              "           0.33695042, 0.60141766, 0.21062577, 0.8527372 , 0.44062173,\n",
              "           0.9485276 , 0.23752594, 0.81179297, 0.5263394 , 0.494308  ,\n",
              "           0.21612847, 0.8457197 , 0.8718841 , 0.3083862 , 0.6868038 ,\n",
              "           0.23764038, 0.7817228 , 0.9671384 , 0.06870162, 0.79873943,\n",
              "           0.66028714, 0.5871513 , 0.16461694, 0.7381023 , 0.32054043]]]]],\n",
              "      dtype=float32)>"
            ]
          },
          "metadata": {},
          "execution_count": 109
        }
      ]
    },
    {
      "cell_type": "code",
      "source": [
        "I_squeezed = tf.squeeze(I)\n",
        "I_squeezed"
      ],
      "metadata": {
        "colab": {
          "base_uri": "https://localhost:8080/"
        },
        "id": "GrY1BghgXRhW",
        "outputId": "aaffedde-4b60-4c44-e4b1-cc59b8da2f2e"
      },
      "execution_count": null,
      "outputs": [
        {
          "output_type": "execute_result",
          "data": {
            "text/plain": [
              "<tf.Tensor: shape=(50,), dtype=float32, numpy=\n",
              "array([0.6645621 , 0.44100678, 0.3528825 , 0.46448255, 0.03366041,\n",
              "       0.68467236, 0.74011743, 0.8724445 , 0.22632635, 0.22319686,\n",
              "       0.3103881 , 0.7223358 , 0.13318717, 0.5480639 , 0.5746088 ,\n",
              "       0.8996835 , 0.00946367, 0.5212307 , 0.6345445 , 0.1993283 ,\n",
              "       0.72942245, 0.54583454, 0.10756552, 0.6767061 , 0.6602763 ,\n",
              "       0.33695042, 0.60141766, 0.21062577, 0.8527372 , 0.44062173,\n",
              "       0.9485276 , 0.23752594, 0.81179297, 0.5263394 , 0.494308  ,\n",
              "       0.21612847, 0.8457197 , 0.8718841 , 0.3083862 , 0.6868038 ,\n",
              "       0.23764038, 0.7817228 , 0.9671384 , 0.06870162, 0.79873943,\n",
              "       0.66028714, 0.5871513 , 0.16461694, 0.7381023 , 0.32054043],\n",
              "      dtype=float32)>"
            ]
          },
          "metadata": {},
          "execution_count": 111
        }
      ]
    },
    {
      "cell_type": "code",
      "source": [
        "#One-hot encoding!!\n",
        "list1 = [0,1,2,3]\n",
        "tf.one_hot(list1,depth=4)\n",
        "#IF you want other values than 0s and 1s, use on-value for 1 and off-value for 0s"
      ],
      "metadata": {
        "colab": {
          "base_uri": "https://localhost:8080/"
        },
        "id": "oxUUvUmeXePm",
        "outputId": "9caba3eb-f855-491c-f4a4-5b5b7864c8cc"
      },
      "execution_count": null,
      "outputs": [
        {
          "output_type": "execute_result",
          "data": {
            "text/plain": [
              "<tf.Tensor: shape=(4, 4), dtype=float32, numpy=\n",
              "array([[1., 0., 0., 0.],\n",
              "       [0., 1., 0., 0.],\n",
              "       [0., 0., 1., 0.],\n",
              "       [0., 0., 0., 1.]], dtype=float32)>"
            ]
          },
          "metadata": {},
          "execution_count": 112
        }
      ]
    },
    {
      "cell_type": "code",
      "source": [
        "J = tf.range(1,10)\n",
        "J,tf.square(J),tf.sqrt(tf.cast(J,dtype=tf.float32)),tf.math.log(tf.cast(I,dtype=tf.float32))"
      ],
      "metadata": {
        "colab": {
          "base_uri": "https://localhost:8080/"
        },
        "id": "GLTbcrWnYmxc",
        "outputId": "d94f214f-c32f-418f-a0e2-98c87a7fe72d"
      },
      "execution_count": null,
      "outputs": [
        {
          "output_type": "execute_result",
          "data": {
            "text/plain": [
              "(<tf.Tensor: shape=(9,), dtype=int32, numpy=array([1, 2, 3, 4, 5, 6, 7, 8, 9], dtype=int32)>,\n",
              " <tf.Tensor: shape=(9,), dtype=int32, numpy=array([ 1,  4,  9, 16, 25, 36, 49, 64, 81], dtype=int32)>,\n",
              " <tf.Tensor: shape=(9,), dtype=float32, numpy=\n",
              " array([1.       , 1.4142135, 1.7320508, 2.       , 2.236068 , 2.4494898,\n",
              "        2.6457512, 2.828427 , 3.       ], dtype=float32)>,\n",
              " <tf.Tensor: shape=(1, 1, 1, 1, 50), dtype=float32, numpy=\n",
              " array([[[[[-0.40862694, -0.818695  , -1.0416201 , -0.7668313 ,\n",
              "            -3.3914328 , -0.37881485, -0.3009464 , -0.13645622,\n",
              "            -1.4857774 , -1.4997011 , -1.1699319 , -0.32526514,\n",
              "            -2.0159998 , -0.6013634 , -0.5540658 , -0.10571226,\n",
              "            -4.6602955 , -0.6515625 , -0.45484787, -1.612802  ,\n",
              "            -0.31550223, -0.60543936, -2.229655  , -0.39051828,\n",
              "            -0.4150969 , -1.0878195 , -0.50846565, -1.5576724 ,\n",
              "            -0.15930387, -0.8195685 , -0.05284442, -1.4374784 ,\n",
              "            -0.20850994, -0.641809  , -0.70459646, -1.5318823 ,\n",
              "            -0.16756731, -0.13709876, -1.1764023 , -0.37570658,\n",
              "            -1.4369967 , -0.2462551 , -0.03341366, -2.6779823 ,\n",
              "            -0.22472048, -0.41508046, -0.5324727 , -1.8041341 ,\n",
              "            -0.30367282, -1.1377468 ]]]]], dtype=float32)>)"
            ]
          },
          "metadata": {},
          "execution_count": 120
        }
      ]
    },
    {
      "cell_type": "code",
      "source": [
        "import tensorflow as tf\n",
        "tf.config.list_physical_devices(\"GPU\")\n"
      ],
      "metadata": {
        "colab": {
          "base_uri": "https://localhost:8080/"
        },
        "id": "H-L1A5W9ZWwu",
        "outputId": "1e7b6a17-6489-4a33-9333-768872c4a937"
      },
      "execution_count": null,
      "outputs": [
        {
          "output_type": "execute_result",
          "data": {
            "text/plain": [
              "[PhysicalDevice(name='/physical_device:GPU:0', device_type='GPU')]"
            ]
          },
          "metadata": {},
          "execution_count": 1
        }
      ]
    },
    {
      "cell_type": "code",
      "source": [
        "#EXERCISES!!!!\n",
        "\n",
        "a = tf.constant(2)\n",
        "a,a.shape,a.ndim"
      ],
      "metadata": {
        "id": "cCKT2UARcFHG",
        "colab": {
          "base_uri": "https://localhost:8080/"
        },
        "outputId": "9abc2dbc-904a-4a86-bb3f-0cc155daebc6"
      },
      "execution_count": null,
      "outputs": [
        {
          "output_type": "execute_result",
          "data": {
            "text/plain": [
              "(<tf.Tensor: shape=(), dtype=int32, numpy=2>, TensorShape([]), 0)"
            ]
          },
          "metadata": {},
          "execution_count": 7
        }
      ]
    },
    {
      "cell_type": "code",
      "source": [
        "b = tf.constant([1,2])\n",
        "b,b.shape,b.ndim"
      ],
      "metadata": {
        "colab": {
          "base_uri": "https://localhost:8080/"
        },
        "id": "DB717SP5ef20",
        "outputId": "b878f5e5-1341-4208-d113-e2a6b6d32a01"
      },
      "execution_count": null,
      "outputs": [
        {
          "output_type": "execute_result",
          "data": {
            "text/plain": [
              "(<tf.Tensor: shape=(2,), dtype=int32, numpy=array([1, 2], dtype=int32)>,\n",
              " TensorShape([2]),\n",
              " 1)"
            ]
          },
          "metadata": {},
          "execution_count": 8
        }
      ]
    },
    {
      "cell_type": "code",
      "source": [
        "c = tf.constant([[1,2],[3,4]])\n",
        "c"
      ],
      "metadata": {
        "colab": {
          "base_uri": "https://localhost:8080/"
        },
        "id": "WwqW6XagekkM",
        "outputId": "ccc84fa6-bc47-47ca-e712-5668c50a281c"
      },
      "execution_count": null,
      "outputs": [
        {
          "output_type": "execute_result",
          "data": {
            "text/plain": [
              "<tf.Tensor: shape=(2, 2), dtype=int32, numpy=\n",
              "array([[1, 2],\n",
              "       [3, 4]], dtype=int32)>"
            ]
          },
          "metadata": {},
          "execution_count": 4
        }
      ]
    },
    {
      "cell_type": "code",
      "source": [
        "d = tf.constant([[[1,2],[3,4]],[[5,6],[7,8]]])\n",
        "d"
      ],
      "metadata": {
        "colab": {
          "base_uri": "https://localhost:8080/"
        },
        "id": "0ZNElaUgeqUo",
        "outputId": "7e4dc271-b829-4f34-c8d7-337b712c3882"
      },
      "execution_count": null,
      "outputs": [
        {
          "output_type": "execute_result",
          "data": {
            "text/plain": [
              "<tf.Tensor: shape=(2, 2, 2), dtype=int32, numpy=\n",
              "array([[[1, 2],\n",
              "        [3, 4]],\n",
              "\n",
              "       [[5, 6],\n",
              "        [7, 8]]], dtype=int32)>"
            ]
          },
          "metadata": {},
          "execution_count": 5
        }
      ]
    },
    {
      "cell_type": "code",
      "source": [
        "tf.random.set_seed(42)\n",
        "e = tf.random.uniform(shape=(5,300))\n",
        "e"
      ],
      "metadata": {
        "colab": {
          "base_uri": "https://localhost:8080/"
        },
        "id": "-BstZPFae5y9",
        "outputId": "4398250e-7431-413f-c2aa-96cebdd7265f"
      },
      "execution_count": null,
      "outputs": [
        {
          "output_type": "execute_result",
          "data": {
            "text/plain": [
              "<tf.Tensor: shape=(5, 300), dtype=float32, numpy=\n",
              "array([[0.6645621 , 0.44100678, 0.3528825 , ..., 0.31410468, 0.7593535 ,\n",
              "        0.03699052],\n",
              "       [0.532024  , 0.29129946, 0.10571766, ..., 0.54052293, 0.31425726,\n",
              "        0.2200619 ],\n",
              "       [0.08404207, 0.03614604, 0.97732127, ..., 0.21516645, 0.9786098 ,\n",
              "        0.00726748],\n",
              "       [0.7396945 , 0.6653172 , 0.0787828 , ..., 0.7117733 , 0.07013571,\n",
              "        0.9409125 ],\n",
              "       [0.15861344, 0.12024033, 0.27218235, ..., 0.8824879 , 0.1432488 ,\n",
              "        0.44135118]], dtype=float32)>"
            ]
          },
          "metadata": {},
          "execution_count": 12
        }
      ]
    },
    {
      "cell_type": "code",
      "source": [
        "tf.random.set_seed(92)\n",
        "f = tf.random.uniform(shape=(5,300))\n",
        "f"
      ],
      "metadata": {
        "colab": {
          "base_uri": "https://localhost:8080/"
        },
        "id": "TdEdsAMtfQnr",
        "outputId": "d63a8126-106a-4c03-bc06-fcab94e65ed4"
      },
      "execution_count": null,
      "outputs": [
        {
          "output_type": "execute_result",
          "data": {
            "text/plain": [
              "<tf.Tensor: shape=(5, 300), dtype=float32, numpy=\n",
              "array([[0.6533636 , 0.51050127, 0.03962529, ..., 0.92692816, 0.02980304,\n",
              "        0.98432636],\n",
              "       [0.07144916, 0.21588099, 0.9920709 , ..., 0.4005462 , 0.6267004 ,\n",
              "        0.87641513],\n",
              "       [0.7118727 , 0.04551661, 0.22374046, ..., 0.06763983, 0.24725378,\n",
              "        0.3424493 ],\n",
              "       [0.8601757 , 0.67280567, 0.48945093, ..., 0.17277265, 0.7523123 ,\n",
              "        0.48176706],\n",
              "       [0.81554914, 0.9643389 , 0.9023224 , ..., 0.95340765, 0.8759731 ,\n",
              "        0.05297053]], dtype=float32)>"
            ]
          },
          "metadata": {},
          "execution_count": 14
        }
      ]
    },
    {
      "cell_type": "code",
      "source": [
        "g = tf.matmul(tf.transpose(e),f)\n",
        "g"
      ],
      "metadata": {
        "colab": {
          "base_uri": "https://localhost:8080/"
        },
        "id": "7H4W8YWefj7M",
        "outputId": "7925d0b7-37e3-46f1-934b-561deae97c2b"
      },
      "execution_count": null,
      "outputs": [
        {
          "output_type": "execute_result",
          "data": {
            "text/plain": [
              "<tf.Tensor: shape=(300, 300), dtype=float32, numpy=\n",
              "array([[2.3437743, 1.7465663, 1.4129492, ..., 1.6085564, 1.6017826,\n",
              "        1.4071268],\n",
              "       [1.7465663, 1.6919049, 1.4440318, ..., 1.5983975, 1.5126562,\n",
              "        1.0825056],\n",
              "       [1.4129492, 1.4440318, 2.0895827, ..., 1.3940786, 1.8368629,\n",
              "        1.2686877],\n",
              "       ...,\n",
              "       [1.6085564, 1.5983975, 1.3940786, ..., 1.9630446, 1.2605104,\n",
              "        1.4203465],\n",
              "       [1.6017826, 1.5126562, 1.8368629, ..., 1.2605104, 1.7880787,\n",
              "        1.0720975],\n",
              "       [1.4071268, 1.0825056, 1.2686877, ..., 1.4203465, 1.0720975,\n",
              "        2.0891788]], dtype=float32)>"
            ]
          },
          "metadata": {},
          "execution_count": 18
        }
      ]
    },
    {
      "cell_type": "code",
      "source": [
        "tf.random.set_seed(42)\n",
        "h = tf.random.uniform(shape=(224,224,3))\n",
        "h"
      ],
      "metadata": {
        "colab": {
          "base_uri": "https://localhost:8080/"
        },
        "id": "rb04Ux8kfqhm",
        "outputId": "2a8e2214-65e7-413f-f12e-43f9525a0df3"
      },
      "execution_count": null,
      "outputs": [
        {
          "output_type": "execute_result",
          "data": {
            "text/plain": [
              "<tf.Tensor: shape=(224, 224, 3), dtype=float32, numpy=\n",
              "array([[[0.6645621 , 0.44100678, 0.3528825 ],\n",
              "        [0.46448255, 0.03366041, 0.68467236],\n",
              "        [0.74011743, 0.8724445 , 0.22632635],\n",
              "        ...,\n",
              "        [0.42612267, 0.09686017, 0.16105258],\n",
              "        [0.1487099 , 0.04513884, 0.9497483 ],\n",
              "        [0.4393103 , 0.28527975, 0.96971095]],\n",
              "\n",
              "       [[0.73308516, 0.5657046 , 0.33238935],\n",
              "        [0.8838178 , 0.87544763, 0.56711245],\n",
              "        [0.8879347 , 0.47661996, 0.42041814],\n",
              "        ...,\n",
              "        [0.7716515 , 0.9116473 , 0.3229897 ],\n",
              "        [0.43050945, 0.83253574, 0.45549798],\n",
              "        [0.29816985, 0.9639522 , 0.3316357 ]],\n",
              "\n",
              "       [[0.41132426, 0.2179662 , 0.53570235],\n",
              "        [0.5112119 , 0.6484759 , 0.8894886 ],\n",
              "        [0.42459428, 0.20189774, 0.85781324],\n",
              "        ...,\n",
              "        [0.02888799, 0.3995477 , 0.11355484],\n",
              "        [0.68524575, 0.04945195, 0.17778492],\n",
              "        [0.97627187, 0.79811585, 0.9411576 ]],\n",
              "\n",
              "       ...,\n",
              "\n",
              "       [[0.9019445 , 0.27011132, 0.8090267 ],\n",
              "        [0.32395256, 0.6672456 , 0.940673  ],\n",
              "        [0.7166116 , 0.8860713 , 0.6777594 ],\n",
              "        ...,\n",
              "        [0.8318608 , 0.39227867, 0.68916583],\n",
              "        [0.1599741 , 0.46428144, 0.4656595 ],\n",
              "        [0.8619243 , 0.24755931, 0.33835268]],\n",
              "\n",
              "       [[0.47570062, 0.09377229, 0.11811328],\n",
              "        [0.0523994 , 0.38206005, 0.12188685],\n",
              "        [0.2757113 , 0.44918692, 0.9179864 ],\n",
              "        ...,\n",
              "        [0.4974177 , 0.4562863 , 0.8261535 ],\n",
              "        [0.60251105, 0.27676368, 0.258716  ],\n",
              "        [0.7977431 , 0.74125385, 0.76062095]],\n",
              "\n",
              "       [[0.4755299 , 0.4661665 , 0.14167643],\n",
              "        [0.9103775 , 0.41117966, 0.83182037],\n",
              "        [0.79765654, 0.38330686, 0.5313202 ],\n",
              "        ...,\n",
              "        [0.94517136, 0.17730081, 0.00362825],\n",
              "        [0.6170398 , 0.9977623 , 0.8315122 ],\n",
              "        [0.6683676 , 0.68716586, 0.4447713 ]]], dtype=float32)>"
            ]
          },
          "metadata": {},
          "execution_count": 19
        }
      ]
    },
    {
      "cell_type": "code",
      "source": [
        "tf.reduce_max(h,axis=1),tf.reduce_min(h,axis=1)"
      ],
      "metadata": {
        "colab": {
          "base_uri": "https://localhost:8080/"
        },
        "id": "uXa9P4ZBgNKa",
        "outputId": "2e1bea6a-49a6-42c3-9713-76ae38d23ceb"
      },
      "execution_count": null,
      "outputs": [
        {
          "output_type": "execute_result",
          "data": {
            "text/plain": [
              "(<tf.Tensor: shape=(224, 3), dtype=float32, numpy=\n",
              " array([[0.9982879 , 0.991555  , 0.99890864],\n",
              "        [0.9963852 , 0.99686027, 0.99524415],\n",
              "        [0.99798036, 0.99789786, 0.9771793 ],\n",
              "        [0.9925841 , 0.9995371 , 0.996261  ],\n",
              "        [0.99925447, 0.99854064, 0.98959684],\n",
              "        [0.99632823, 0.9975462 , 0.9966078 ],\n",
              "        [0.99893224, 0.99789345, 0.9986447 ],\n",
              "        [0.99387276, 0.99100804, 0.99803686],\n",
              "        [0.99614084, 0.99962425, 0.99817014],\n",
              "        [0.9990084 , 0.99642086, 0.9947417 ],\n",
              "        [0.99766946, 0.99010587, 0.9985434 ],\n",
              "        [0.99462116, 0.9989265 , 0.9968679 ],\n",
              "        [0.9953896 , 0.99844146, 0.997231  ],\n",
              "        [0.9752687 , 0.99830484, 0.98452115],\n",
              "        [0.9964744 , 0.99982226, 0.99907696],\n",
              "        [0.99845874, 0.9961201 , 0.99886775],\n",
              "        [0.9960511 , 0.99431336, 0.9901949 ],\n",
              "        [0.99995625, 0.9980805 , 0.99942625],\n",
              "        [0.97499347, 0.9930481 , 0.9978708 ],\n",
              "        [0.998369  , 0.99853635, 0.9970608 ],\n",
              "        [0.9999449 , 0.9973831 , 0.9944471 ],\n",
              "        [0.9955913 , 0.9985478 , 0.99730575],\n",
              "        [0.99896073, 0.9965669 , 0.99892867],\n",
              "        [0.99987924, 0.9967636 , 0.9969915 ],\n",
              "        [0.9916364 , 0.9994168 , 0.99307394],\n",
              "        [0.9996995 , 0.99627066, 0.995437  ],\n",
              "        [0.99760485, 0.9981239 , 0.997893  ],\n",
              "        [0.9983536 , 0.997638  , 0.9984542 ],\n",
              "        [0.9935645 , 0.9946462 , 0.99777496],\n",
              "        [0.9849098 , 0.9916711 , 0.9981096 ],\n",
              "        [0.99793077, 0.9984056 , 0.98822975],\n",
              "        [0.99082637, 0.9958674 , 0.99654317],\n",
              "        [0.9991697 , 0.9965167 , 0.99581337],\n",
              "        [0.99749565, 0.98606324, 0.9988811 ],\n",
              "        [0.99938154, 0.9955298 , 0.9878144 ],\n",
              "        [0.99733293, 0.9976213 , 0.99763834],\n",
              "        [0.99567044, 0.99224114, 0.98785555],\n",
              "        [0.99815536, 0.99919796, 0.9938662 ],\n",
              "        [0.991902  , 0.99720824, 0.99061143],\n",
              "        [0.99609005, 0.9930532 , 0.9980135 ],\n",
              "        [0.9999926 , 0.9983748 , 0.9993737 ],\n",
              "        [0.99597263, 0.99751115, 0.9989952 ],\n",
              "        [0.9996464 , 0.99711037, 0.99434495],\n",
              "        [0.998775  , 0.9978545 , 0.9991646 ],\n",
              "        [0.99981844, 0.9834162 , 0.996871  ],\n",
              "        [0.9988973 , 0.9997914 , 0.9936749 ],\n",
              "        [0.9997606 , 0.99616313, 0.9923836 ],\n",
              "        [0.99685216, 0.9992955 , 0.99883974],\n",
              "        [0.9816643 , 0.99368095, 0.9983145 ],\n",
              "        [0.99308324, 0.9993056 , 0.9950254 ],\n",
              "        [0.99744   , 0.99412835, 0.99412584],\n",
              "        [0.9919995 , 0.99971306, 0.9983671 ],\n",
              "        [0.99608386, 0.9992949 , 0.9967545 ],\n",
              "        [0.9886159 , 0.9964038 , 0.992875  ],\n",
              "        [0.9984311 , 0.99708664, 0.9930191 ],\n",
              "        [0.999459  , 0.9981172 , 0.99669373],\n",
              "        [0.99451363, 0.9978932 , 0.9994066 ],\n",
              "        [0.9971863 , 0.99961543, 0.9992019 ],\n",
              "        [0.986202  , 0.99791706, 0.99753714],\n",
              "        [0.9980409 , 0.99608636, 0.9997133 ],\n",
              "        [0.99992204, 0.9988315 , 0.992133  ],\n",
              "        [0.9901023 , 0.9999175 , 0.9918469 ],\n",
              "        [0.9952668 , 0.9992871 , 0.9980844 ],\n",
              "        [0.9954659 , 0.99427474, 0.9925734 ],\n",
              "        [0.99114907, 0.99664176, 0.999118  ],\n",
              "        [0.999457  , 0.99306965, 0.99202955],\n",
              "        [0.99209106, 0.9823848 , 0.9964497 ],\n",
              "        [0.9908484 , 0.99243045, 0.99457467],\n",
              "        [0.99680996, 0.9955108 , 0.9996731 ],\n",
              "        [0.99859226, 0.9997202 , 0.99536586],\n",
              "        [0.99137366, 0.997766  , 0.99734294],\n",
              "        [0.99424946, 0.99490917, 0.9989891 ],\n",
              "        [0.99803483, 0.999805  , 0.9855789 ],\n",
              "        [0.999998  , 0.99961317, 0.9997642 ],\n",
              "        [0.99663496, 0.9978559 , 0.9990846 ],\n",
              "        [0.9978552 , 0.9940759 , 0.99302745],\n",
              "        [0.9980643 , 0.99343264, 0.99433124],\n",
              "        [0.99591875, 0.9947654 , 0.9994539 ],\n",
              "        [0.99631846, 0.99781024, 0.9991821 ],\n",
              "        [0.9992006 , 0.998098  , 0.9992789 ],\n",
              "        [0.99618983, 0.9912751 , 0.99808073],\n",
              "        [0.99750423, 0.9901173 , 0.9955528 ],\n",
              "        [0.9787266 , 0.98499346, 0.9990587 ],\n",
              "        [0.9919851 , 0.9983922 , 0.99557865],\n",
              "        [0.9979776 , 0.9986931 , 0.99294317],\n",
              "        [0.9995619 , 0.9933784 , 0.9950341 ],\n",
              "        [0.9945786 , 0.9897597 , 0.99077713],\n",
              "        [0.99664354, 0.9951148 , 0.9951724 ],\n",
              "        [0.9931046 , 0.997349  , 0.99546266],\n",
              "        [0.99629164, 0.98133767, 0.9859104 ],\n",
              "        [0.98245835, 0.9998808 , 0.9984704 ],\n",
              "        [0.99787164, 0.999663  , 0.9905838 ],\n",
              "        [0.98910594, 0.9994447 , 0.9997237 ],\n",
              "        [0.98942363, 0.9993571 , 0.99892616],\n",
              "        [0.9932138 , 0.9970677 , 0.9931427 ],\n",
              "        [0.982962  , 0.99285686, 0.9998765 ],\n",
              "        [0.99422   , 0.9992578 , 0.9998653 ],\n",
              "        [0.9956106 , 0.9920949 , 0.9960818 ],\n",
              "        [0.99940515, 0.9964423 , 0.9955727 ],\n",
              "        [0.99019575, 0.9969424 , 0.99624896],\n",
              "        [0.9943837 , 0.9934951 , 0.9860736 ],\n",
              "        [0.99469364, 0.9887986 , 0.9977257 ],\n",
              "        [0.99386156, 0.9956776 , 0.99626005],\n",
              "        [0.9996991 , 0.99100053, 0.9890839 ],\n",
              "        [0.99195313, 0.9966804 , 0.9954629 ],\n",
              "        [0.9876075 , 0.998736  , 0.99408436],\n",
              "        [0.9918852 , 0.9972296 , 0.9989009 ],\n",
              "        [0.9938154 , 0.99697423, 0.99944866],\n",
              "        [0.9963753 , 0.9919709 , 0.9866741 ],\n",
              "        [0.9993303 , 0.99895275, 0.99523187],\n",
              "        [0.99717796, 0.99546146, 0.9983883 ],\n",
              "        [0.97718704, 0.9989711 , 0.98804915],\n",
              "        [0.99915135, 0.996753  , 0.98583984],\n",
              "        [0.9938426 , 0.999099  , 0.9945601 ],\n",
              "        [0.9997679 , 0.99598444, 0.99969304],\n",
              "        [0.9984795 , 0.9943787 , 0.9901303 ],\n",
              "        [0.9989824 , 0.9940635 , 0.99187994],\n",
              "        [0.99806035, 0.9999726 , 0.99142027],\n",
              "        [0.9995519 , 0.99941254, 0.9961641 ],\n",
              "        [0.9999393 , 0.9979315 , 0.9935769 ],\n",
              "        [0.9957186 , 0.9933846 , 0.9996761 ],\n",
              "        [0.995484  , 0.99989545, 0.99617434],\n",
              "        [0.9869944 , 0.9980068 , 0.9877175 ],\n",
              "        [0.9971149 , 0.9986744 , 0.9905946 ],\n",
              "        [0.9892547 , 0.9899825 , 0.99115086],\n",
              "        [0.995407  , 0.9974811 , 0.9982532 ],\n",
              "        [0.9924785 , 0.9909854 , 0.9997091 ],\n",
              "        [0.99962556, 0.9931264 , 0.9963527 ],\n",
              "        [0.99983   , 0.99065936, 0.9953413 ],\n",
              "        [0.9901514 , 0.99865294, 0.99057436],\n",
              "        [0.9981847 , 0.9968643 , 0.9976275 ],\n",
              "        [0.99781   , 0.9964386 , 0.9948753 ],\n",
              "        [0.99118006, 0.9978707 , 0.9989866 ],\n",
              "        [0.99795616, 0.99938095, 0.9975916 ],\n",
              "        [0.99262595, 0.99293137, 0.99906397],\n",
              "        [0.9989778 , 0.9984555 , 0.99058664],\n",
              "        [0.9930601 , 0.98644483, 0.9995222 ],\n",
              "        [0.99599063, 0.997031  , 0.9870521 ],\n",
              "        [0.999066  , 0.9935149 , 0.99337137],\n",
              "        [0.998739  , 0.9978161 , 0.9991498 ],\n",
              "        [0.99334943, 0.9982101 , 0.99772894],\n",
              "        [0.9981016 , 0.99831796, 0.9973494 ],\n",
              "        [0.9999784 , 0.9944618 , 0.9946401 ],\n",
              "        [0.9931991 , 0.99401736, 0.99911165],\n",
              "        [0.9975108 , 0.9982867 , 0.99625087],\n",
              "        [0.99917305, 0.98915124, 0.99904764],\n",
              "        [0.9935024 , 0.9995111 , 0.9984641 ],\n",
              "        [0.99983084, 0.99827707, 0.9999906 ],\n",
              "        [0.9976641 , 0.9933208 , 0.99859893],\n",
              "        [0.99678075, 0.99981403, 0.99475217],\n",
              "        [0.9955795 , 0.9955175 , 0.9981369 ],\n",
              "        [0.9852998 , 0.996652  , 0.99984324],\n",
              "        [0.98894954, 0.9980575 , 0.99557817],\n",
              "        [0.99906504, 0.9931029 , 0.9920099 ],\n",
              "        [0.9953995 , 0.9999169 , 0.9975908 ],\n",
              "        [0.99015117, 0.98854136, 0.99695754],\n",
              "        [0.9982234 , 0.99979067, 0.9954759 ],\n",
              "        [0.99305344, 0.99711764, 0.9987631 ],\n",
              "        [0.9998956 , 0.99525845, 0.98349154],\n",
              "        [0.9954386 , 0.9929714 , 0.9928988 ],\n",
              "        [0.9994154 , 0.99315   , 0.997067  ],\n",
              "        [0.9991276 , 0.9993863 , 0.9967911 ],\n",
              "        [0.99011135, 0.99620616, 0.9961945 ],\n",
              "        [0.99703634, 0.9984698 , 0.9984313 ],\n",
              "        [0.99575734, 0.99978304, 0.9950675 ],\n",
              "        [0.9953517 , 0.99807394, 0.99874663],\n",
              "        [0.997653  , 0.99904454, 0.9946052 ],\n",
              "        [0.9943845 , 0.99345446, 0.9999896 ],\n",
              "        [0.99742186, 0.9990486 , 0.9942242 ],\n",
              "        [0.99674225, 0.99634147, 0.984319  ],\n",
              "        [0.9955237 , 0.99974203, 0.99655783],\n",
              "        [0.9984797 , 0.98462415, 0.9973713 ],\n",
              "        [0.9978808 , 0.9997767 , 0.9928483 ],\n",
              "        [0.9987395 , 0.99765027, 0.99990296],\n",
              "        [0.9946976 , 0.9994695 , 0.9929098 ],\n",
              "        [0.9954258 , 0.9937581 , 0.997278  ],\n",
              "        [0.9993317 , 0.9939146 , 0.99876523],\n",
              "        [0.9960787 , 0.99727976, 0.99249125],\n",
              "        [0.99587786, 0.9980836 , 0.99543035],\n",
              "        [0.99668026, 0.99160576, 0.99884343],\n",
              "        [0.99362385, 0.9930315 , 0.99258554],\n",
              "        [0.9961492 , 0.99998295, 0.9975692 ],\n",
              "        [0.99640584, 0.99938834, 0.99991226],\n",
              "        [0.9981085 , 0.9972452 , 0.9975811 ],\n",
              "        [0.9985043 , 0.99973786, 0.9984411 ],\n",
              "        [0.9947593 , 0.99534154, 0.99396014],\n",
              "        [0.9970379 , 0.98917174, 0.99873245],\n",
              "        [0.99952054, 0.99693465, 0.99590325],\n",
              "        [0.99514174, 0.99837875, 0.99766123],\n",
              "        [0.9968871 , 0.9947523 , 0.9998592 ],\n",
              "        [0.99422383, 0.99702144, 0.9834893 ],\n",
              "        [0.99960256, 0.995734  , 0.9996128 ],\n",
              "        [0.9953892 , 0.99680555, 0.99903655],\n",
              "        [0.99552774, 0.998734  , 0.9770695 ],\n",
              "        [0.99946034, 0.99970376, 0.9999746 ],\n",
              "        [0.99259794, 0.98536634, 0.99406815],\n",
              "        [0.996001  , 0.99637306, 0.99558365],\n",
              "        [0.9997189 , 0.99040174, 0.9780457 ],\n",
              "        [0.9928491 , 0.99933577, 0.9976655 ],\n",
              "        [0.99223673, 0.99776804, 0.9918697 ],\n",
              "        [0.9994314 , 0.9880718 , 0.99931   ],\n",
              "        [0.9991292 , 0.9956238 , 0.9963509 ],\n",
              "        [0.98590636, 0.99857223, 0.99346316],\n",
              "        [0.9890945 , 0.99447656, 0.9998568 ],\n",
              "        [0.9992305 , 0.9948628 , 0.9891932 ],\n",
              "        [0.9891045 , 0.99677837, 0.99800456],\n",
              "        [0.995801  , 0.97934127, 0.9943973 ],\n",
              "        [0.9972416 , 0.9973613 , 0.9987818 ],\n",
              "        [0.9997593 , 0.9977226 , 0.9920546 ],\n",
              "        [0.98925483, 0.9995122 , 0.99613404],\n",
              "        [0.9870075 , 0.9941635 , 0.99664676],\n",
              "        [0.9913765 , 0.99956095, 0.9890927 ],\n",
              "        [0.9997879 , 0.9997647 , 0.9982493 ],\n",
              "        [0.9983704 , 0.9874748 , 0.9960346 ],\n",
              "        [0.99820554, 0.99850523, 0.9980335 ],\n",
              "        [0.9929043 , 0.9961065 , 0.9960667 ],\n",
              "        [0.99090445, 0.9917712 , 0.9954634 ],\n",
              "        [0.9995682 , 0.9979279 , 0.9980359 ],\n",
              "        [0.99396837, 0.9990969 , 0.9983072 ],\n",
              "        [0.9920485 , 0.99611926, 0.9985707 ],\n",
              "        [0.99826586, 0.9994458 , 0.9867476 ],\n",
              "        [0.99935365, 0.9975574 , 0.99210215],\n",
              "        [0.9995167 , 0.9979259 , 0.9878483 ],\n",
              "        [0.99621105, 0.9988383 , 0.9951354 ]], dtype=float32)>,\n",
              " <tf.Tensor: shape=(224, 3), dtype=float32, numpy=\n",
              " array([[3.08728218e-03, 3.35657597e-03, 3.03745270e-04],\n",
              "        [2.07266808e-02, 4.31776047e-04, 1.91926956e-04],\n",
              "        [1.14024878e-02, 1.01062059e-02, 6.09242916e-03],\n",
              "        [4.06265259e-04, 6.21199608e-03, 3.45444679e-03],\n",
              "        [6.39915466e-03, 8.58688354e-03, 1.44493580e-03],\n",
              "        [1.61790848e-03, 1.22084618e-02, 1.14864111e-02],\n",
              "        [4.93729115e-03, 1.96862221e-03, 8.63945484e-03],\n",
              "        [1.54995918e-03, 4.75943089e-03, 1.14287138e-02],\n",
              "        [4.12750244e-03, 2.41160393e-03, 2.58970261e-03],\n",
              "        [5.30874729e-03, 4.39548492e-03, 5.05447388e-04],\n",
              "        [7.61234760e-03, 4.31275368e-03, 4.58204746e-03],\n",
              "        [4.75323200e-03, 1.07632875e-02, 6.26456738e-03],\n",
              "        [2.37929821e-03, 1.08909607e-03, 6.28829002e-04],\n",
              "        [2.86233425e-03, 2.10285187e-04, 2.23445892e-03],\n",
              "        [5.92350960e-04, 6.08563423e-04, 1.82008743e-03],\n",
              "        [7.75337219e-03, 4.35113907e-03, 6.29305840e-04],\n",
              "        [2.28178501e-03, 1.01383924e-02, 2.95555592e-03],\n",
              "        [2.26211548e-03, 7.85112381e-04, 1.53481960e-03],\n",
              "        [3.32129002e-03, 2.83265114e-03, 4.82213497e-03],\n",
              "        [3.56030464e-03, 1.28734112e-03, 1.47514343e-02],\n",
              "        [1.54744387e-02, 5.85138798e-03, 1.58369541e-03],\n",
              "        [1.39141083e-03, 1.33243799e-02, 6.47687912e-03],\n",
              "        [2.14481354e-03, 3.58450413e-03, 1.49905682e-03],\n",
              "        [1.13010406e-04, 2.90048122e-03, 1.91807747e-03],\n",
              "        [5.55121899e-03, 6.58929348e-03, 5.90693951e-03],\n",
              "        [1.70723200e-02, 1.58375502e-02, 3.94368172e-03],\n",
              "        [4.97055054e-03, 6.44266605e-03, 1.47863626e-02],\n",
              "        [3.02910805e-04, 6.34455681e-03, 1.65581703e-04],\n",
              "        [1.53470039e-03, 2.72691250e-03, 3.40902805e-03],\n",
              "        [4.44972515e-03, 6.28829002e-04, 7.58719444e-03],\n",
              "        [2.35044956e-03, 2.84779072e-03, 1.24636889e-02],\n",
              "        [1.17111206e-03, 5.33318520e-03, 6.81018829e-03],\n",
              "        [8.95023346e-04, 5.98382950e-03, 1.81198120e-04],\n",
              "        [1.02484226e-03, 5.19132614e-03, 2.95281410e-04],\n",
              "        [7.19082355e-03, 5.50746918e-04, 3.43787670e-03],\n",
              "        [9.47117805e-04, 1.74891949e-03, 9.74488258e-03],\n",
              "        [3.44622135e-03, 1.23471022e-02, 1.09910965e-04],\n",
              "        [7.12394714e-04, 2.74217129e-03, 2.96664238e-03],\n",
              "        [4.77766991e-03, 3.04961205e-03, 5.32042980e-03],\n",
              "        [4.22966480e-03, 1.13368034e-04, 1.95157528e-03],\n",
              "        [1.08349323e-03, 1.79600716e-03, 2.06804276e-03],\n",
              "        [2.06136703e-03, 1.39403343e-03, 1.64130926e-02],\n",
              "        [1.51503086e-03, 5.05208969e-04, 1.30243301e-02],\n",
              "        [6.93917274e-04, 1.58143044e-03, 1.08556747e-02],\n",
              "        [6.42561913e-03, 3.06248665e-04, 3.90529633e-04],\n",
              "        [8.66627693e-03, 1.11293793e-03, 8.96930695e-04],\n",
              "        [7.31205940e-03, 1.69980526e-02, 2.98941135e-03],\n",
              "        [4.68659401e-03, 3.63683701e-03, 6.87468052e-03],\n",
              "        [7.44938850e-04, 7.43186474e-03, 1.25539303e-03],\n",
              "        [2.24173069e-03, 5.22124767e-03, 4.55975533e-04],\n",
              "        [7.74598122e-03, 8.09574127e-03, 8.34584236e-03],\n",
              "        [8.53538513e-04, 1.13844872e-02, 9.90366936e-03],\n",
              "        [1.88827515e-03, 2.33746767e-02, 2.09879875e-03],\n",
              "        [5.20944595e-04, 1.21712685e-04, 1.51085854e-03],\n",
              "        [4.37617302e-04, 4.06789780e-03, 2.97510624e-03],\n",
              "        [6.53743744e-04, 3.78978252e-03, 2.82740593e-03],\n",
              "        [2.29144096e-03, 3.92961502e-03, 5.16629219e-03],\n",
              "        [2.58910656e-03, 4.04810905e-03, 4.97949123e-03],\n",
              "        [1.60455704e-03, 9.26423073e-03, 1.77919865e-03],\n",
              "        [4.84287739e-03, 6.85811043e-04, 2.46075392e-02],\n",
              "        [2.93159485e-03, 1.24311447e-03, 1.86400414e-02],\n",
              "        [1.39343739e-03, 2.60114670e-04, 1.10453367e-02],\n",
              "        [1.34980679e-02, 4.64415550e-03, 1.03938580e-03],\n",
              "        [3.55243683e-05, 2.22051144e-03, 1.38592720e-02],\n",
              "        [2.41267681e-03, 4.20451164e-04, 7.74741173e-04],\n",
              "        [1.27518177e-03, 8.95595551e-03, 2.75015831e-04],\n",
              "        [1.45375729e-03, 3.96013260e-04, 2.28762627e-04],\n",
              "        [2.83598900e-04, 2.39324570e-03, 8.33606720e-03],\n",
              "        [5.88679314e-03, 1.41692162e-03, 3.97729874e-03],\n",
              "        [3.33654881e-03, 1.01733208e-03, 3.20732594e-03],\n",
              "        [7.80725479e-03, 8.52215290e-03, 4.30226326e-03],\n",
              "        [7.77053833e-03, 5.19216061e-03, 5.38825989e-05],\n",
              "        [1.48010254e-03, 4.34374809e-03, 1.89936161e-03],\n",
              "        [3.51572037e-03, 3.16143036e-04, 6.17349148e-03],\n",
              "        [9.88447666e-03, 4.11367416e-03, 5.23304939e-03],\n",
              "        [5.66959381e-04, 1.68836117e-03, 1.82378292e-03],\n",
              "        [9.89413261e-03, 6.75809383e-03, 5.57136536e-03],\n",
              "        [1.51038170e-03, 1.78275108e-02, 6.04271889e-03],\n",
              "        [4.67658043e-04, 1.86204910e-03, 1.78611279e-02],\n",
              "        [4.73976135e-03, 2.66587734e-03, 1.18470192e-03],\n",
              "        [2.97319889e-03, 3.94296646e-03, 1.79350376e-03],\n",
              "        [2.39491463e-03, 5.12897968e-03, 1.47963762e-02],\n",
              "        [9.22632217e-03, 3.30328941e-04, 3.66055965e-03],\n",
              "        [4.06718254e-03, 3.06022167e-03, 5.93388081e-03],\n",
              "        [3.47805023e-03, 1.00696087e-03, 2.06851959e-03],\n",
              "        [1.90842152e-03, 1.09847784e-02, 6.63495064e-03],\n",
              "        [5.35249710e-04, 6.30009174e-03, 6.96778297e-04],\n",
              "        [1.48248672e-03, 5.80620766e-03, 6.34789467e-04],\n",
              "        [4.34553623e-03, 2.80261040e-03, 5.58257103e-04],\n",
              "        [1.33066177e-02, 8.94904137e-04, 1.79862976e-03],\n",
              "        [3.57043743e-03, 6.15191460e-03, 7.70211220e-04],\n",
              "        [5.70261478e-03, 4.78994846e-03, 6.11174107e-03],\n",
              "        [1.78837776e-03, 6.27672672e-03, 1.53613091e-03],\n",
              "        [4.59790230e-04, 7.26640224e-03, 1.62243843e-03],\n",
              "        [1.73425674e-03, 4.72795963e-03, 2.33763456e-02],\n",
              "        [2.65121460e-03, 3.44443321e-03, 9.73260403e-03],\n",
              "        [7.56776333e-03, 3.71050835e-03, 6.27398491e-04],\n",
              "        [1.00522041e-02, 3.32379341e-03, 4.73165512e-03],\n",
              "        [2.49600410e-03, 1.69968605e-03, 1.95333958e-02],\n",
              "        [1.78337097e-04, 1.92368031e-03, 8.48531723e-04],\n",
              "        [4.03261185e-03, 1.14321709e-04, 5.38516045e-03],\n",
              "        [4.39655781e-03, 2.51650810e-04, 1.84977055e-03],\n",
              "        [1.42343044e-02, 6.27291203e-03, 2.35855579e-03],\n",
              "        [1.04272366e-03, 6.81924820e-03, 1.05710030e-02],\n",
              "        [3.31807137e-03, 7.36117363e-04, 9.07802582e-03],\n",
              "        [8.57043266e-03, 3.04341316e-03, 2.19869614e-03],\n",
              "        [5.49280643e-03, 1.31767988e-02, 4.55141068e-04],\n",
              "        [1.85847282e-03, 1.03354454e-03, 7.99894333e-04],\n",
              "        [1.20759010e-04, 2.34270096e-03, 1.10256672e-03],\n",
              "        [9.35733318e-03, 8.65936279e-04, 9.57846642e-04],\n",
              "        [2.11119652e-02, 2.12991238e-03, 4.38678265e-03],\n",
              "        [8.87107849e-03, 2.23505497e-03, 4.93574142e-03],\n",
              "        [4.79507446e-03, 1.65762901e-02, 2.50697136e-04],\n",
              "        [3.10432911e-03, 1.89518929e-03, 2.65669823e-03],\n",
              "        [8.22317600e-03, 4.34803963e-03, 2.21800804e-03],\n",
              "        [6.50882721e-05, 8.06617737e-03, 2.03609467e-03],\n",
              "        [6.55865669e-03, 4.84609604e-03, 2.71546841e-03],\n",
              "        [9.68337059e-04, 3.85844707e-03, 6.78336620e-03],\n",
              "        [2.04741955e-03, 6.52670860e-04, 7.97152519e-03],\n",
              "        [2.48444080e-03, 3.57627869e-07, 4.93502617e-03],\n",
              "        [1.39951706e-03, 1.68434381e-02, 1.60849094e-03],\n",
              "        [4.60183620e-03, 1.22745037e-02, 7.63773918e-04],\n",
              "        [1.09018087e-02, 5.84006310e-03, 1.80708170e-02],\n",
              "        [5.49042225e-03, 1.44600868e-04, 2.77709961e-03],\n",
              "        [4.05550003e-04, 5.23209572e-03, 5.31637669e-03],\n",
              "        [3.66365910e-03, 7.01546669e-03, 4.70995903e-04],\n",
              "        [2.90739536e-03, 3.83734703e-04, 3.77833843e-03],\n",
              "        [3.29554081e-03, 7.13276863e-03, 3.61204147e-04],\n",
              "        [5.74910641e-03, 2.38809586e-02, 3.07023525e-03],\n",
              "        [1.17421150e-04, 2.41236687e-02, 3.16250324e-03],\n",
              "        [3.32796574e-03, 9.71555710e-04, 2.64871120e-03],\n",
              "        [2.79796124e-03, 4.54878807e-03, 1.22761726e-03],\n",
              "        [5.55872917e-04, 1.47187710e-03, 3.27706337e-04],\n",
              "        [1.00755692e-03, 7.09128380e-03, 5.73873520e-04],\n",
              "        [5.88965416e-03, 1.23155117e-03, 4.76408005e-03],\n",
              "        [2.62737274e-04, 6.41226768e-04, 3.35967541e-03],\n",
              "        [5.85424900e-03, 7.58171082e-05, 5.65171242e-04],\n",
              "        [7.94768333e-04, 1.32048130e-03, 1.71136856e-03],\n",
              "        [9.63091850e-04, 1.05369091e-02, 8.28623772e-04],\n",
              "        [1.51293278e-02, 1.72621012e-02, 5.22935390e-03],\n",
              "        [1.48475170e-03, 1.14790201e-02, 1.06036663e-03],\n",
              "        [3.88360023e-03, 5.64813614e-04, 4.06432152e-03],\n",
              "        [1.09483004e-02, 3.45826149e-03, 4.83572483e-03],\n",
              "        [1.43742561e-03, 6.26969337e-03, 5.72586060e-03],\n",
              "        [4.24766541e-03, 4.25624847e-03, 6.69240952e-03],\n",
              "        [2.19702721e-04, 5.80883026e-03, 1.66145563e-02],\n",
              "        [1.49995089e-02, 3.63016129e-03, 6.29997253e-03],\n",
              "        [4.26840782e-03, 5.46455383e-04, 8.95619392e-04],\n",
              "        [1.36458874e-03, 2.84194946e-03, 3.53848934e-03],\n",
              "        [1.89054012e-03, 6.52229786e-03, 9.92333889e-03],\n",
              "        [1.34717226e-02, 6.13331795e-04, 1.84893608e-04],\n",
              "        [5.14400005e-03, 1.42633915e-03, 6.86681271e-03],\n",
              "        [9.87887383e-04, 5.93566895e-03, 1.55329704e-03],\n",
              "        [2.84671783e-04, 8.17418098e-03, 2.42352486e-04],\n",
              "        [1.06484890e-02, 3.06141376e-03, 4.90164757e-03],\n",
              "        [9.90033150e-04, 2.20072269e-03, 6.02984428e-03],\n",
              "        [1.35368109e-02, 6.78777695e-04, 1.09925270e-02],\n",
              "        [2.58648396e-03, 2.04086304e-04, 1.30031109e-02],\n",
              "        [2.06232071e-03, 2.37286091e-03, 6.49094582e-04],\n",
              "        [1.97696686e-03, 1.11687183e-03, 5.34653664e-03],\n",
              "        [7.98296928e-03, 9.53137875e-03, 2.22694874e-03],\n",
              "        [3.93557549e-03, 6.58237934e-03, 2.13801861e-03],\n",
              "        [2.94435024e-03, 4.33087349e-04, 1.41049623e-02],\n",
              "        [6.23226166e-04, 1.99999809e-02, 7.33315945e-03],\n",
              "        [3.49378586e-03, 1.27040148e-02, 9.70637798e-03],\n",
              "        [7.33065605e-03, 1.65379047e-03, 5.25712967e-03],\n",
              "        [1.12078190e-02, 7.26461411e-04, 5.03706932e-03],\n",
              "        [7.60197639e-04, 1.55866146e-03, 1.77502632e-03],\n",
              "        [2.14588642e-03, 3.00323963e-03, 4.56809998e-03],\n",
              "        [5.90276718e-03, 6.87336922e-03, 9.27269459e-03],\n",
              "        [4.54664230e-04, 4.22811508e-03, 1.29402876e-02],\n",
              "        [5.65052032e-05, 4.19163704e-03, 1.05684996e-02],\n",
              "        [3.82268429e-03, 1.82926655e-02, 5.03301620e-04],\n",
              "        [2.39193439e-03, 3.36313248e-03, 1.37599707e-02],\n",
              "        [2.23708153e-03, 7.68780708e-04, 3.30650806e-03],\n",
              "        [1.11742020e-02, 4.29153442e-05, 1.73234940e-03],\n",
              "        [3.12185287e-03, 1.49273872e-03, 1.60455704e-03],\n",
              "        [1.66654587e-03, 1.92189217e-03, 1.02722645e-03],\n",
              "        [2.17783451e-03, 2.28929520e-03, 1.25646591e-03],\n",
              "        [4.33683395e-04, 5.35011292e-04, 4.70316410e-03],\n",
              "        [1.10042095e-03, 4.43613529e-03, 3.01229954e-03],\n",
              "        [2.71606445e-03, 1.44481659e-04, 3.08465958e-03],\n",
              "        [2.04765797e-03, 6.72447681e-03, 2.36833096e-03],\n",
              "        [9.39607620e-04, 9.74428654e-03, 1.56617165e-03],\n",
              "        [1.02066994e-03, 1.76635981e-02, 6.86705112e-03],\n",
              "        [1.11138821e-03, 3.88455391e-03, 5.11395931e-03],\n",
              "        [6.18934631e-04, 6.13248348e-03, 7.18474388e-04],\n",
              "        [2.94768810e-03, 2.21797228e-02, 6.49762154e-03],\n",
              "        [1.04075670e-02, 1.02254152e-02, 8.76057148e-03],\n",
              "        [7.29179382e-03, 2.93099880e-03, 9.52506065e-03],\n",
              "        [3.29291821e-03, 8.36372375e-04, 1.15846395e-02],\n",
              "        [1.94283724e-02, 1.24899149e-02, 6.75237179e-03],\n",
              "        [3.08322906e-03, 4.56726551e-03, 1.00731850e-03],\n",
              "        [7.54499435e-03, 1.59025192e-03, 2.03669071e-03],\n",
              "        [1.02627277e-03, 1.64222717e-03, 1.00135803e-05],\n",
              "        [3.13186646e-03, 5.85317612e-04, 1.92642212e-04],\n",
              "        [4.83286381e-03, 3.09801102e-03, 4.20999527e-03],\n",
              "        [5.78749180e-03, 4.03606892e-03, 1.71780586e-03],\n",
              "        [5.43212891e-03, 1.86371803e-03, 6.76262379e-03],\n",
              "        [1.18768215e-03, 2.07185745e-03, 7.32898712e-04],\n",
              "        [1.07854605e-02, 1.28960609e-03, 2.74872780e-03],\n",
              "        [5.32627106e-04, 3.04806232e-03, 4.91285324e-03],\n",
              "        [1.19229555e-02, 9.57822800e-03, 2.25203037e-02],\n",
              "        [4.77278233e-03, 3.98027897e-03, 6.60967827e-03],\n",
              "        [1.70087814e-03, 4.21881676e-03, 2.23278999e-03],\n",
              "        [1.09970570e-03, 2.73358822e-03, 3.77655029e-03],\n",
              "        [2.73823738e-04, 3.54051590e-05, 5.60438633e-03],\n",
              "        [9.27448273e-05, 8.90493393e-04, 1.40810013e-03],\n",
              "        [3.10552120e-03, 2.11381912e-03, 5.00988960e-03],\n",
              "        [1.61147118e-03, 2.50673294e-03, 2.61664391e-04],\n",
              "        [2.89320946e-04, 2.25555897e-03, 7.72893429e-03],\n",
              "        [3.34405899e-03, 8.01205635e-04, 3.56209278e-03],\n",
              "        [4.19509411e-03, 1.39086246e-02, 7.09462166e-03],\n",
              "        [5.19824028e-03, 1.19924545e-03, 9.81068611e-03],\n",
              "        [2.11501122e-03, 5.00130653e-03, 8.27288628e-03],\n",
              "        [5.83410263e-04, 1.53555870e-02, 6.85918331e-03],\n",
              "        [1.17552280e-03, 6.87837601e-03, 9.01043415e-03],\n",
              "        [1.08349323e-03, 2.34735012e-03, 3.55279446e-03],\n",
              "        [4.73594666e-03, 8.06450844e-04, 1.04705095e-02],\n",
              "        [1.22476816e-02, 1.25420094e-03, 2.35080719e-02],\n",
              "        [1.19924545e-04, 2.19440460e-03, 4.80616093e-03],\n",
              "        [2.03788280e-03, 4.16755676e-04, 7.64393806e-03],\n",
              "        [3.47256660e-03, 5.70654869e-04, 1.18255615e-04],\n",
              "        [7.45284557e-03, 4.36997414e-03, 1.60109997e-03]], dtype=float32)>)"
            ]
          },
          "metadata": {},
          "execution_count": 22
        }
      ]
    },
    {
      "cell_type": "code",
      "source": [
        "tf.random.set_seed(42)\n",
        "h = tf.random.uniform(shape=(1,224,224,3))\n",
        "tf.squeeze(h)"
      ],
      "metadata": {
        "colab": {
          "base_uri": "https://localhost:8080/"
        },
        "id": "rUZFMA4ygSaE",
        "outputId": "e141bfae-1931-4b8a-8ebe-8bcce0fef1fa"
      },
      "execution_count": null,
      "outputs": [
        {
          "output_type": "execute_result",
          "data": {
            "text/plain": [
              "<tf.Tensor: shape=(224, 224, 3), dtype=float32, numpy=\n",
              "array([[[0.6645621 , 0.44100678, 0.3528825 ],\n",
              "        [0.46448255, 0.03366041, 0.68467236],\n",
              "        [0.74011743, 0.8724445 , 0.22632635],\n",
              "        ...,\n",
              "        [0.42612267, 0.09686017, 0.16105258],\n",
              "        [0.1487099 , 0.04513884, 0.9497483 ],\n",
              "        [0.4393103 , 0.28527975, 0.96971095]],\n",
              "\n",
              "       [[0.73308516, 0.5657046 , 0.33238935],\n",
              "        [0.8838178 , 0.87544763, 0.56711245],\n",
              "        [0.8879347 , 0.47661996, 0.42041814],\n",
              "        ...,\n",
              "        [0.7716515 , 0.9116473 , 0.3229897 ],\n",
              "        [0.43050945, 0.83253574, 0.45549798],\n",
              "        [0.29816985, 0.9639522 , 0.3316357 ]],\n",
              "\n",
              "       [[0.41132426, 0.2179662 , 0.53570235],\n",
              "        [0.5112119 , 0.6484759 , 0.8894886 ],\n",
              "        [0.42459428, 0.20189774, 0.85781324],\n",
              "        ...,\n",
              "        [0.02888799, 0.3995477 , 0.11355484],\n",
              "        [0.68524575, 0.04945195, 0.17778492],\n",
              "        [0.97627187, 0.79811585, 0.9411576 ]],\n",
              "\n",
              "       ...,\n",
              "\n",
              "       [[0.9019445 , 0.27011132, 0.8090267 ],\n",
              "        [0.32395256, 0.6672456 , 0.940673  ],\n",
              "        [0.7166116 , 0.8860713 , 0.6777594 ],\n",
              "        ...,\n",
              "        [0.8318608 , 0.39227867, 0.68916583],\n",
              "        [0.1599741 , 0.46428144, 0.4656595 ],\n",
              "        [0.8619243 , 0.24755931, 0.33835268]],\n",
              "\n",
              "       [[0.47570062, 0.09377229, 0.11811328],\n",
              "        [0.0523994 , 0.38206005, 0.12188685],\n",
              "        [0.2757113 , 0.44918692, 0.9179864 ],\n",
              "        ...,\n",
              "        [0.4974177 , 0.4562863 , 0.8261535 ],\n",
              "        [0.60251105, 0.27676368, 0.258716  ],\n",
              "        [0.7977431 , 0.74125385, 0.76062095]],\n",
              "\n",
              "       [[0.4755299 , 0.4661665 , 0.14167643],\n",
              "        [0.9103775 , 0.41117966, 0.83182037],\n",
              "        [0.79765654, 0.38330686, 0.5313202 ],\n",
              "        ...,\n",
              "        [0.94517136, 0.17730081, 0.00362825],\n",
              "        [0.6170398 , 0.9977623 , 0.8315122 ],\n",
              "        [0.6683676 , 0.68716586, 0.4447713 ]]], dtype=float32)>"
            ]
          },
          "metadata": {},
          "execution_count": 23
        }
      ]
    },
    {
      "cell_type": "code",
      "source": [
        "i = tf.constant([1,2,3,4,5,6,7,8,9])\n",
        "tf.argmin(i)"
      ],
      "metadata": {
        "colab": {
          "base_uri": "https://localhost:8080/"
        },
        "id": "vDpnMYArgo56",
        "outputId": "87554efb-5488-41b3-a987-0d978b206c50"
      },
      "execution_count": null,
      "outputs": [
        {
          "output_type": "execute_result",
          "data": {
            "text/plain": [
              "<tf.Tensor: shape=(), dtype=int64, numpy=0>"
            ]
          },
          "metadata": {},
          "execution_count": 28
        }
      ]
    },
    {
      "cell_type": "code",
      "source": [
        "tf.one_hot(i,depth=9)"
      ],
      "metadata": {
        "colab": {
          "base_uri": "https://localhost:8080/"
        },
        "id": "t5tG93S6g49M",
        "outputId": "d4836783-7da8-42e8-ee06-0b6b7a33b127"
      },
      "execution_count": null,
      "outputs": [
        {
          "output_type": "execute_result",
          "data": {
            "text/plain": [
              "<tf.Tensor: shape=(9, 9), dtype=float32, numpy=\n",
              "array([[0., 1., 0., 0., 0., 0., 0., 0., 0.],\n",
              "       [0., 0., 1., 0., 0., 0., 0., 0., 0.],\n",
              "       [0., 0., 0., 1., 0., 0., 0., 0., 0.],\n",
              "       [0., 0., 0., 0., 1., 0., 0., 0., 0.],\n",
              "       [0., 0., 0., 0., 0., 1., 0., 0., 0.],\n",
              "       [0., 0., 0., 0., 0., 0., 1., 0., 0.],\n",
              "       [0., 0., 0., 0., 0., 0., 0., 1., 0.],\n",
              "       [0., 0., 0., 0., 0., 0., 0., 0., 1.],\n",
              "       [0., 0., 0., 0., 0., 0., 0., 0., 0.]], dtype=float32)>"
            ]
          },
          "metadata": {},
          "execution_count": 29
        }
      ]
    },
    {
      "cell_type": "code",
      "source": [],
      "metadata": {
        "id": "OG91HrAPg_Wm"
      },
      "execution_count": null,
      "outputs": []
    }
  ]
}